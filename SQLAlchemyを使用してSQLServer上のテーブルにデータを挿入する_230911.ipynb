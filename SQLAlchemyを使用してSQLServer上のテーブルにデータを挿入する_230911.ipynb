{
 "cells": [
  {
   "cell_type": "code",
   "execution_count": 1,
   "metadata": {},
   "outputs": [],
   "source": [
    "import gc\n",
    "import numpy as np\n",
    "import pandas as pd\n",
    "import sqlalchemy\n",
    "from sqlalchemy import Table, Column, Integer, String, Date, Numeric, Float, MetaData\n",
    "from sqlalchemy.orm import sessionmaker"
   ]
  },
  {
   "cell_type": "code",
   "execution_count": 2,
   "metadata": {},
   "outputs": [],
   "source": [
    "# データベースの接続情報を設定\n",
    "SERVER_NAME = 'aaaaa\\SQLEXPRESS'# SQLで「SELECT @@SERVERNAME」を実行する\n",
    "DATABASE_NAME = 'C10000_database'\n",
    "DRIVER_NAME = 'ODBC Driver 17 for SQL Server'"
   ]
  },
  {
   "cell_type": "code",
   "execution_count": 3,
   "metadata": {},
   "outputs": [],
   "source": [
    "def create_sqlalchemy_session(engine, schema_name,  table_name, columns):\n",
    "    # テーブルのメタデータを作成\n",
    "    metadata = MetaData(schema=schema_name)\n",
    "\n",
    "    # テーブルのカラムを動的に定義\n",
    "    my_table = Table(table_name, metadata, *columns)\n",
    "\n",
    "    # セッションを作成\n",
    "    Session = sessionmaker(bind=engine)\n",
    "    session = Session()\n",
    "\n",
    "    return metadata, my_table, session"
   ]
  },
  {
   "cell_type": "code",
   "execution_count": 4,
   "metadata": {},
   "outputs": [],
   "source": [
    "engine = sqlalchemy.create_engine(f\"mssql+pyodbc://{SERVER_NAME}/{DATABASE_NAME}?driver={DRIVER_NAME}\")"
   ]
  },
  {
   "cell_type": "code",
   "execution_count": 5,
   "metadata": {},
   "outputs": [],
   "source": [
    "SCHEMA_NAME= 'raw'\n",
    "TABLE_NAME = 'testSQLAlchemy'\n",
    "\n",
    "COLUMENS = [\n",
    "    Column('決算日', Date),\n",
    "    Column('勘定科目コード', String),\n",
    "    Column('会社コード', String),\n",
    "    Column('BS/PL/CF', String),\n",
    "    Column('金額', Numeric),\n",
    "]"
   ]
  },
  {
   "cell_type": "code",
   "execution_count": 6,
   "metadata": {},
   "outputs": [],
   "source": [
    "# テーブル名とカラム定義を引数として渡して関数を呼び出す\n",
    "metadata, table, session = create_sqlalchemy_session(engine, SCHEMA_NAME, TABLE_NAME, COLUMENS)"
   ]
  },
  {
   "cell_type": "code",
   "execution_count": 7,
   "metadata": {},
   "outputs": [
    {
     "data": {
      "text/html": [
       "<div>\n",
       "<style scoped>\n",
       "    .dataframe tbody tr th:only-of-type {\n",
       "        vertical-align: middle;\n",
       "    }\n",
       "\n",
       "    .dataframe tbody tr th {\n",
       "        vertical-align: top;\n",
       "    }\n",
       "\n",
       "    .dataframe thead th {\n",
       "        text-align: right;\n",
       "    }\n",
       "</style>\n",
       "<table border=\"1\" class=\"dataframe\">\n",
       "  <thead>\n",
       "    <tr style=\"text-align: right;\">\n",
       "      <th></th>\n",
       "      <th>決算日</th>\n",
       "      <th>勘定科目コード</th>\n",
       "      <th>会社コード</th>\n",
       "      <th>BS/PL/CF</th>\n",
       "      <th>金額</th>\n",
       "    </tr>\n",
       "  </thead>\n",
       "  <tbody>\n",
       "    <tr>\n",
       "      <th>0</th>\n",
       "      <td>2023-01-05</td>\n",
       "      <td>1003</td>\n",
       "      <td>C</td>\n",
       "      <td>BS</td>\n",
       "      <td>10000.0</td>\n",
       "    </tr>\n",
       "    <tr>\n",
       "      <th>1</th>\n",
       "      <td>2023-01-06</td>\n",
       "      <td>1004</td>\n",
       "      <td>D</td>\n",
       "      <td>PL</td>\n",
       "      <td>-5000.0</td>\n",
       "    </tr>\n",
       "  </tbody>\n",
       "</table>\n",
       "</div>"
      ],
      "text/plain": [
       "          決算日 勘定科目コード 会社コード BS/PL/CF       金額\n",
       "0  2023-01-05    1003     C       BS  10000.0\n",
       "1  2023-01-06    1004     D       PL  -5000.0"
      ]
     },
     "execution_count": 7,
     "metadata": {},
     "output_type": "execute_result"
    }
   ],
   "source": [
    "# データフレームを作成\n",
    "data = {\n",
    "    '決算日': ['2023-01-05', '2023-01-06'],\n",
    "    '勘定科目コード': ['1003', '1004'],\n",
    "    '会社コード': ['C', 'D'],\n",
    "    'BS/PL/CF': ['BS', 'PL'],\n",
    "    '金額': [10000.00, -5000.00]\n",
    "}\n",
    "\n",
    "df = pd.DataFrame(data)\n",
    "df"
   ]
  },
  {
   "cell_type": "code",
   "execution_count": 14,
   "metadata": {},
   "outputs": [],
   "source": [
    "# データの挿入\n",
    "date_l = df['決算日'].tolist()\n",
    "accode_l = df['勘定科目コード'].tolist()\n",
    "ccode_l = df['会社コード'].tolist()\n",
    "kcode_l = df['BS/PL/CF'].tolist()\n",
    "amt_l = df['金額'].tolist()\n",
    "\n",
    "for date, acode, ccode, kcode, amt in zip(date_l, accode_l, ccode_l, kcode_l, amt_l):\n",
    "    data = {'決算日': date, '勘定科目コード': acode, '会社コード': ccode, 'BS/PL/CF': kcode, '金額': amt}\n",
    "    insert_stmt = table.insert().values(data)\n",
    "    session.execute(insert_stmt)\n",
    "\n",
    "# 変更をコミット\n",
    "session.commit()\n",
    "\n",
    "# セッションをクローズ\n",
    "session.close()"
   ]
  },
  {
   "cell_type": "code",
   "execution_count": 15,
   "metadata": {},
   "outputs": [
    {
     "data": {
      "text/plain": [
       "60"
      ]
     },
     "execution_count": 15,
     "metadata": {},
     "output_type": "execute_result"
    }
   ],
   "source": [
    "gc.collect()"
   ]
  },
  {
   "cell_type": "code",
   "execution_count": null,
   "metadata": {},
   "outputs": [],
   "source": []
  }
 ],
 "metadata": {
  "kernelspec": {
   "display_name": "Python 3",
   "language": "python",
   "name": "python3"
  },
  "language_info": {
   "codemirror_mode": {
    "name": "ipython",
    "version": 3
   },
   "file_extension": ".py",
   "mimetype": "text/x-python",
   "name": "python",
   "nbconvert_exporter": "python",
   "pygments_lexer": "ipython3",
   "version": "3.6.8"
  }
 },
 "nbformat": 4,
 "nbformat_minor": 2
}
