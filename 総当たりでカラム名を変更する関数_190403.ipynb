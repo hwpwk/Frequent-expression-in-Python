{
 "cells": [
  {
   "cell_type": "code",
   "execution_count": 1,
   "metadata": {
    "collapsed": true
   },
   "outputs": [],
   "source": [
    "import pandas as pd\n",
    "import numpy as np"
   ]
  },
  {
   "cell_type": "code",
   "execution_count": 2,
   "metadata": {
    "collapsed": true
   },
   "outputs": [],
   "source": [
    "# col1_listの中に格納されている要素があるデータフレームのカラムであると仮定する\n",
    "col1_list = ['RANK()', 'OVER', 'PARTITION BY', 'ORDER BY']\n",
    "\n",
    "# 上記カラムの末尾に追加したい文字列\n",
    "col2_list = ['_sql', '_window']"
   ]
  },
  {
   "cell_type": "code",
   "execution_count": 3,
   "metadata": {
    "collapsed": true
   },
   "outputs": [],
   "source": [
    "def combination_columns_name(col_list1, col_list2):\n",
    "    '''\n",
    "    関数内容\n",
    "    ・2つのカラムの値の大小を比較して0 or 1 フラグを立てる関数\n",
    "    Input\n",
    "    ・col_list1：カラムが格納されたリスト\n",
    "    ・col_list2：col_list1に格納されている各カラム名の末尾に追加したい文字列\n",
    "    関数使用方法\n",
    "    ・tmp_col_list = combination_columns_name(tmp_necessary_col_list, tmp_end_name_col_list)  \n",
    "    '''\n",
    "    import itertools\n",
    "    combi_col_list = [col1 + col2 for col1, col2 in itertools.product(col_list1, col_list2)]\n",
    "    \n",
    "    return combi_col_list"
   ]
  },
  {
   "cell_type": "code",
   "execution_count": 4,
   "metadata": {},
   "outputs": [
    {
     "data": {
      "text/plain": [
       "['RANK()_sql',\n",
       " 'RANK()_window',\n",
       " 'OVER_sql',\n",
       " 'OVER_window',\n",
       " 'PARTITION BY_sql',\n",
       " 'PARTITION BY_window',\n",
       " 'ORDER BY_sql',\n",
       " 'ORDER BY_window']"
      ]
     },
     "execution_count": 4,
     "metadata": {},
     "output_type": "execute_result"
    }
   ],
   "source": [
    "new_col_list = combination_columns_name(col1_list, col2_list)\n",
    "\n",
    "new_col_list"
   ]
  },
  {
   "cell_type": "code",
   "execution_count": null,
   "metadata": {
    "collapsed": true
   },
   "outputs": [],
   "source": []
  }
 ],
 "metadata": {
  "kernelspec": {
   "display_name": "Python 3",
   "language": "python",
   "name": "python3"
  },
  "language_info": {
   "codemirror_mode": {
    "name": "ipython",
    "version": 3
   },
   "file_extension": ".py",
   "mimetype": "text/x-python",
   "name": "python",
   "nbconvert_exporter": "python",
   "pygments_lexer": "ipython3",
   "version": "3.6.3"
  }
 },
 "nbformat": 4,
 "nbformat_minor": 2
}
