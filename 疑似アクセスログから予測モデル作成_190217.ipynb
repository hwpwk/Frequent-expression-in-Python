{
 "cells": [
  {
   "cell_type": "code",
   "execution_count": 1,
   "metadata": {
    "collapsed": true
   },
   "outputs": [],
   "source": [
    "# データ分析用のライブラリ\n",
    "import pandas as pd\n",
    "import numpy as np\n",
    "\n",
    "#前処理用ライブラリ\n",
    "from sklearn import preprocessing\n",
    "from sklearn.preprocessing import OneHotEncoder, LabelEncoder\n",
    "\n",
    "from sklearn.model_selection import ShuffleSplit\n",
    "from sklearn.model_selection import StratifiedShuffleSplit\n",
    "from sklearn.model_selection import train_test_split\n",
    "from sklearn.model_selection import LeaveOneOut\n",
    "from sklearn.model_selection import cross_validate\n",
    "from sklearn.model_selection import cross_val_score\n",
    "from sklearn.model_selection import KFold\n",
    "from sklearn.model_selection import StratifiedKFold\n",
    "from sklearn.model_selection import GridSearchCV\n",
    "\n",
    "# 機械学習モデル関連ライブラリ\n",
    "from sklearn.linear_model import LinearRegression\n",
    "from sklearn.linear_model import LogisticRegression\n",
    "from sklearn.ensemble import RandomForestClassifier\n",
    "from sklearn import svm\n",
    "from sklearn.tree import DecisionTreeClassifier\n",
    "from sklearn import neighbors\n",
    "\n",
    "# モデル評価関連ライブラリ\n",
    "from sklearn.metrics import confusion_matrix\n",
    "from sklearn.metrics import accuracy_score\n",
    "from sklearn.metrics import precision_score\n",
    "from sklearn.metrics import recall_score\n",
    "from sklearn.metrics import f1_score\n",
    "from sklearn.metrics import make_scorer\n",
    "from sklearn.metrics import classification_report, roc_auc_score, precision_recall_curve, auc, roc_curve"
   ]
  },
  {
   "cell_type": "code",
   "execution_count": 2,
   "metadata": {},
   "outputs": [
    {
     "data": {
      "text/html": [
       "<div>\n",
       "<style>\n",
       "    .dataframe thead tr:only-child th {\n",
       "        text-align: right;\n",
       "    }\n",
       "\n",
       "    .dataframe thead th {\n",
       "        text-align: left;\n",
       "    }\n",
       "\n",
       "    .dataframe tbody tr th {\n",
       "        vertical-align: top;\n",
       "    }\n",
       "</style>\n",
       "<table border=\"1\" class=\"dataframe\">\n",
       "  <thead>\n",
       "    <tr style=\"text-align: right;\">\n",
       "      <th></th>\n",
       "      <th>visit_id</th>\n",
       "      <th>gv_jptop_flg</th>\n",
       "      <th>top_banner_click_flg</th>\n",
       "      <th>gv_bikelineup_flg</th>\n",
       "      <th>gv_bike_contents_flg</th>\n",
       "      <th>gv_bike_detail_flg</th>\n",
       "      <th>gv_welcab_flg</th>\n",
       "      <th>gv_gr_flg</th>\n",
       "      <th>gv_customize_flg</th>\n",
       "      <th>gv_webcatalog_flg</th>\n",
       "      <th>...</th>\n",
       "      <th>buy_used_bike_count</th>\n",
       "      <th>buy_new_bike_flg</th>\n",
       "      <th>buy_used_bike_flg</th>\n",
       "      <th>total_visit_count_before_buy</th>\n",
       "      <th>total_gv_bike_count_before_buy</th>\n",
       "      <th>landing_page_scroll_rate</th>\n",
       "      <th>landing_gv_time</th>\n",
       "      <th>is_buy_flg</th>\n",
       "      <th>is_before_buy_flg</th>\n",
       "      <th>is_after_buy_flg</th>\n",
       "    </tr>\n",
       "  </thead>\n",
       "  <tbody>\n",
       "  </tbody>\n",
       "</table>\n",
       "<p>0 rows × 72 columns</p>\n",
       "</div>"
      ],
      "text/plain": [
       "Empty DataFrame\n",
       "Columns: [visit_id, gv_jptop_flg, top_banner_click_flg, gv_bikelineup_flg, gv_bike_contents_flg, gv_bike_detail_flg, gv_welcab_flg, gv_gr_flg, gv_customize_flg, gv_webcatalog_flg, gv_dop_childseat_flg, gv_how2buy_flg, gv_testdriveguide_flg, gv_colors_testdrive_flg, gv_bike_search_flg, gv_t_up_flg, gv_ownersvoice_flg, gv_ownersvoice_form_flg, gv_faq_flg, gv_bike_faq_flg, gv_catalog_unreachedfaq_flg, gv_t_up_faq_flg, gv_nouki_faq_flg, gv_emergency_faq_flg, gv_navi_faq_flg, gv_ownersmanual_flg, gv_afterservice_flg, gv_owner_afterservice_flg, gv_recall_flg, gv_compare_flg, gv_tradein_flg, gv_estimate_flg, gv_dealer_estimate_flg, gv_3dsim_flg, gv_store_search_flg, gv_store_cv_flg, gv_store_detail_flg, gv_shopcalendar_flg, gv_catalog_flg, gv_catalog_input_flg, gv_catalog_selectdlr_flg, gv_catalog_confirm_flg, gv_trial_search_flg, gv_trial_form_flg, gv_sales_search_flg, gv_sales_form_flg, gv_mail_register_form_flg, gv_mail_register_transmission_flg, gv_mail_register_complete_flg, gv_mail_release_form_flg, gv_mail_release_transmission_flg, gv_mail_release_complete_flg, cv_maker_simulation_flg, cv_dealer_simulation_flg, cv_tradein_simulation_flg, cv_maker_catalog_entry_flg, cv_dealer_catalog_entry_flg, cv_test_drive_flg, cv_talk_reservation_flg, cv_adv_talk_reservation_flg, buy_bike_count, buy_new_bike_count, buy_used_bike_count, buy_new_bike_flg, buy_used_bike_flg, total_visit_count_before_buy, total_gv_bike_count_before_buy, landing_page_scroll_rate, landing_gv_time, is_buy_flg, is_before_buy_flg, is_after_buy_flg]\n",
       "Index: []\n",
       "\n",
       "[0 rows x 72 columns]"
      ]
     },
     "execution_count": 2,
     "metadata": {},
     "output_type": "execute_result"
    }
   ],
   "source": [
    "# カラムのみが格納されたテーブルを読み込み\n",
    "\n",
    "df = pd.read_excel('visit_access_log_190217.xlsx')\n",
    "df"
   ]
  },
  {
   "cell_type": "code",
   "execution_count": 3,
   "metadata": {
    "collapsed": true,
    "scrolled": true
   },
   "outputs": [],
   "source": [
    "'''カラム名末尾が「_flg」となっているカラムのみ抽出し、リストに格納する'''\n",
    "flg_df = df.filter(regex='_flg$').drop(['is_before_buy_flg','is_after_buy_flg'], axis=1)\n",
    "flg_col_list = flg_df.columns.tolist()"
   ]
  },
  {
   "cell_type": "code",
   "execution_count": 4,
   "metadata": {},
   "outputs": [
    {
     "data": {
      "text/plain": [
       "62"
      ]
     },
     "execution_count": 4,
     "metadata": {},
     "output_type": "execute_result"
    }
   ],
   "source": [
    "len(flg_col_list)"
   ]
  },
  {
   "cell_type": "markdown",
   "metadata": {},
   "source": [
    "### 乱数を使用したデータフレームを作成"
   ]
  },
  {
   "cell_type": "code",
   "execution_count": 5,
   "metadata": {
    "scrolled": true
   },
   "outputs": [
    {
     "data": {
      "text/plain": [
       "(1000, 63)"
      ]
     },
     "metadata": {},
     "output_type": "display_data"
    },
    {
     "data": {
      "text/html": [
       "<div>\n",
       "<style>\n",
       "    .dataframe thead tr:only-child th {\n",
       "        text-align: right;\n",
       "    }\n",
       "\n",
       "    .dataframe thead th {\n",
       "        text-align: left;\n",
       "    }\n",
       "\n",
       "    .dataframe tbody tr th {\n",
       "        vertical-align: top;\n",
       "    }\n",
       "</style>\n",
       "<table border=\"1\" class=\"dataframe\">\n",
       "  <thead>\n",
       "    <tr style=\"text-align: right;\">\n",
       "      <th></th>\n",
       "      <th>gv_jptop_flg</th>\n",
       "      <th>top_banner_click_flg</th>\n",
       "      <th>gv_bikelineup_flg</th>\n",
       "      <th>gv_bike_contents_flg</th>\n",
       "      <th>gv_bike_detail_flg</th>\n",
       "      <th>gv_welcab_flg</th>\n",
       "      <th>gv_gr_flg</th>\n",
       "      <th>gv_customize_flg</th>\n",
       "      <th>gv_webcatalog_flg</th>\n",
       "      <th>gv_dop_childseat_flg</th>\n",
       "      <th>...</th>\n",
       "      <th>cv_tradein_simulation_flg</th>\n",
       "      <th>cv_maker_catalog_entry_flg</th>\n",
       "      <th>cv_dealer_catalog_entry_flg</th>\n",
       "      <th>cv_test_drive_flg</th>\n",
       "      <th>cv_talk_reservation_flg</th>\n",
       "      <th>cv_adv_talk_reservation_flg</th>\n",
       "      <th>buy_new_bike_flg</th>\n",
       "      <th>buy_used_bike_flg</th>\n",
       "      <th>is_buy_flg</th>\n",
       "      <th>visit_id</th>\n",
       "    </tr>\n",
       "  </thead>\n",
       "  <tbody>\n",
       "    <tr>\n",
       "      <th>0</th>\n",
       "      <td>0</td>\n",
       "      <td>1</td>\n",
       "      <td>1</td>\n",
       "      <td>0</td>\n",
       "      <td>1</td>\n",
       "      <td>1</td>\n",
       "      <td>1</td>\n",
       "      <td>1</td>\n",
       "      <td>1</td>\n",
       "      <td>1</td>\n",
       "      <td>...</td>\n",
       "      <td>1</td>\n",
       "      <td>1</td>\n",
       "      <td>0</td>\n",
       "      <td>1</td>\n",
       "      <td>0</td>\n",
       "      <td>0</td>\n",
       "      <td>1</td>\n",
       "      <td>1</td>\n",
       "      <td>0</td>\n",
       "      <td>0</td>\n",
       "    </tr>\n",
       "    <tr>\n",
       "      <th>1</th>\n",
       "      <td>1</td>\n",
       "      <td>0</td>\n",
       "      <td>1</td>\n",
       "      <td>0</td>\n",
       "      <td>0</td>\n",
       "      <td>0</td>\n",
       "      <td>0</td>\n",
       "      <td>0</td>\n",
       "      <td>1</td>\n",
       "      <td>1</td>\n",
       "      <td>...</td>\n",
       "      <td>0</td>\n",
       "      <td>1</td>\n",
       "      <td>0</td>\n",
       "      <td>1</td>\n",
       "      <td>0</td>\n",
       "      <td>1</td>\n",
       "      <td>1</td>\n",
       "      <td>1</td>\n",
       "      <td>1</td>\n",
       "      <td>1</td>\n",
       "    </tr>\n",
       "    <tr>\n",
       "      <th>2</th>\n",
       "      <td>1</td>\n",
       "      <td>0</td>\n",
       "      <td>1</td>\n",
       "      <td>1</td>\n",
       "      <td>1</td>\n",
       "      <td>1</td>\n",
       "      <td>0</td>\n",
       "      <td>1</td>\n",
       "      <td>1</td>\n",
       "      <td>0</td>\n",
       "      <td>...</td>\n",
       "      <td>0</td>\n",
       "      <td>0</td>\n",
       "      <td>0</td>\n",
       "      <td>1</td>\n",
       "      <td>0</td>\n",
       "      <td>1</td>\n",
       "      <td>0</td>\n",
       "      <td>1</td>\n",
       "      <td>0</td>\n",
       "      <td>2</td>\n",
       "    </tr>\n",
       "    <tr>\n",
       "      <th>3</th>\n",
       "      <td>0</td>\n",
       "      <td>0</td>\n",
       "      <td>0</td>\n",
       "      <td>0</td>\n",
       "      <td>1</td>\n",
       "      <td>0</td>\n",
       "      <td>0</td>\n",
       "      <td>1</td>\n",
       "      <td>0</td>\n",
       "      <td>0</td>\n",
       "      <td>...</td>\n",
       "      <td>0</td>\n",
       "      <td>0</td>\n",
       "      <td>1</td>\n",
       "      <td>0</td>\n",
       "      <td>1</td>\n",
       "      <td>1</td>\n",
       "      <td>1</td>\n",
       "      <td>1</td>\n",
       "      <td>0</td>\n",
       "      <td>3</td>\n",
       "    </tr>\n",
       "    <tr>\n",
       "      <th>4</th>\n",
       "      <td>0</td>\n",
       "      <td>0</td>\n",
       "      <td>1</td>\n",
       "      <td>1</td>\n",
       "      <td>1</td>\n",
       "      <td>0</td>\n",
       "      <td>1</td>\n",
       "      <td>1</td>\n",
       "      <td>1</td>\n",
       "      <td>1</td>\n",
       "      <td>...</td>\n",
       "      <td>0</td>\n",
       "      <td>1</td>\n",
       "      <td>0</td>\n",
       "      <td>0</td>\n",
       "      <td>1</td>\n",
       "      <td>1</td>\n",
       "      <td>1</td>\n",
       "      <td>1</td>\n",
       "      <td>1</td>\n",
       "      <td>4</td>\n",
       "    </tr>\n",
       "  </tbody>\n",
       "</table>\n",
       "<p>5 rows × 63 columns</p>\n",
       "</div>"
      ],
      "text/plain": [
       "   gv_jptop_flg  top_banner_click_flg  gv_bikelineup_flg  \\\n",
       "0             0                     1                  1   \n",
       "1             1                     0                  1   \n",
       "2             1                     0                  1   \n",
       "3             0                     0                  0   \n",
       "4             0                     0                  1   \n",
       "\n",
       "   gv_bike_contents_flg  gv_bike_detail_flg  gv_welcab_flg  gv_gr_flg  \\\n",
       "0                     0                   1              1          1   \n",
       "1                     0                   0              0          0   \n",
       "2                     1                   1              1          0   \n",
       "3                     0                   1              0          0   \n",
       "4                     1                   1              0          1   \n",
       "\n",
       "   gv_customize_flg  gv_webcatalog_flg  gv_dop_childseat_flg    ...     \\\n",
       "0                 1                  1                     1    ...      \n",
       "1                 0                  1                     1    ...      \n",
       "2                 1                  1                     0    ...      \n",
       "3                 1                  0                     0    ...      \n",
       "4                 1                  1                     1    ...      \n",
       "\n",
       "   cv_tradein_simulation_flg  cv_maker_catalog_entry_flg  \\\n",
       "0                          1                           1   \n",
       "1                          0                           1   \n",
       "2                          0                           0   \n",
       "3                          0                           0   \n",
       "4                          0                           1   \n",
       "\n",
       "   cv_dealer_catalog_entry_flg  cv_test_drive_flg  cv_talk_reservation_flg  \\\n",
       "0                            0                  1                        0   \n",
       "1                            0                  1                        0   \n",
       "2                            0                  1                        0   \n",
       "3                            1                  0                        1   \n",
       "4                            0                  0                        1   \n",
       "\n",
       "   cv_adv_talk_reservation_flg  buy_new_bike_flg  buy_used_bike_flg  \\\n",
       "0                            0                 1                  1   \n",
       "1                            1                 1                  1   \n",
       "2                            1                 0                  1   \n",
       "3                            1                 1                  1   \n",
       "4                            1                 1                  1   \n",
       "\n",
       "   is_buy_flg  visit_id  \n",
       "0           0         0  \n",
       "1           1         1  \n",
       "2           0         2  \n",
       "3           0         3  \n",
       "4           1         4  \n",
       "\n",
       "[5 rows x 63 columns]"
      ]
     },
     "metadata": {},
     "output_type": "display_data"
    }
   ],
   "source": [
    "# 乱数を使用して10000×62のデータフレームを作成\n",
    "np.random.seed(0)\n",
    "\n",
    "log_df = pd.DataFrame(np.random.randint(low=0, high=2, size=(1000, 62)), columns=flg_col_list)\n",
    "log_df['visit_id'] = range(len(log_df))\n",
    "\n",
    "display(log_df.shape, log_df.head())"
   ]
  },
  {
   "cell_type": "markdown",
   "metadata": {},
   "source": [
    "## 説明変数と目的変数を指定"
   ]
  },
  {
   "cell_type": "code",
   "execution_count": 6,
   "metadata": {
    "collapsed": true
   },
   "outputs": [],
   "source": [
    "X = log_df.drop(['visit_id', 'is_buy_flg'], axis=1)\n",
    "y = log_df['is_buy_flg']"
   ]
  },
  {
   "cell_type": "markdown",
   "metadata": {},
   "source": [
    "## 学習データとテストデータに分割"
   ]
  },
  {
   "cell_type": "code",
   "execution_count": 7,
   "metadata": {
    "collapsed": true
   },
   "outputs": [],
   "source": [
    "# X[train_index]→X.loc[train_index]に変更すればエラーなく実行可能に\n",
    "# https://stackoverflow.com/questions/51091132/pandas-and-scikit-learn-keyerror-not-in-index\n",
    "stratifiedKFold = StratifiedKFold(n_splits=5, shuffle=True, random_state=0)\n",
    "\n",
    "for train_index, test_index in stratifiedKFold.split(X, y):\n",
    "    train_X, test_X = X.loc[train_index], X.loc[test_index]\n",
    "    train_y, test_y = y.loc[train_index], y.loc[test_index]"
   ]
  },
  {
   "cell_type": "markdown",
   "metadata": {},
   "source": [
    "## パラメータ候補の設定"
   ]
  },
  {
   "cell_type": "code",
   "execution_count": 8,
   "metadata": {
    "collapsed": true
   },
   "outputs": [],
   "source": [
    "# 探索したいハイパーパラメータをdict形式で定義\n",
    "\n",
    "# ロジスティック回帰\n",
    "lr_param_grid = {\n",
    "    'C':[1, 10]\n",
    "}\n",
    "\n",
    "# ランダムフォレスト\n",
    "rf_param_grid = {\n",
    "    'n_estimators':[10, 20],\n",
    "    'max_features':[5, 10],\n",
    "    'random_state':[0],\n",
    "    'max_depth':[5, 10]\n",
    "}\n",
    "\n",
    "# SVM\n",
    "svm_param_grid = {\n",
    "    'C':[1, 10],\n",
    "    'gamma':[1, 10]\n",
    "}"
   ]
  },
  {
   "cell_type": "markdown",
   "metadata": {},
   "source": [
    "## グリッドサーチ用関数を定義"
   ]
  },
  {
   "cell_type": "code",
   "execution_count": 9,
   "metadata": {
    "collapsed": true
   },
   "outputs": [],
   "source": [
    "def create_precision_gridsearchCV(clf, params):\n",
    "    # n_jobsを-1とすると[WinError32]が発生するので1にしている\n",
    "    model = GridSearchCV(clf, param_grid=params, scoring='average_precision', cv=5, n_jobs=1)\n",
    "    \n",
    "    return model"
   ]
  },
  {
   "cell_type": "markdown",
   "metadata": {},
   "source": [
    "## グリッドサーチ実行&学習"
   ]
  },
  {
   "cell_type": "code",
   "execution_count": 10,
   "metadata": {
    "scrolled": true
   },
   "outputs": [
    {
     "name": "stderr",
     "output_type": "stream",
     "text": [
      "C:\\Anaconda\\lib\\site-packages\\sklearn\\linear_model\\logistic.py:433: FutureWarning: Default solver will be changed to 'lbfgs' in 0.22. Specify a solver to silence this warning.\n",
      "  FutureWarning)\n",
      "C:\\Anaconda\\lib\\site-packages\\sklearn\\linear_model\\logistic.py:433: FutureWarning: Default solver will be changed to 'lbfgs' in 0.22. Specify a solver to silence this warning.\n",
      "  FutureWarning)\n",
      "C:\\Anaconda\\lib\\site-packages\\sklearn\\linear_model\\logistic.py:433: FutureWarning: Default solver will be changed to 'lbfgs' in 0.22. Specify a solver to silence this warning.\n",
      "  FutureWarning)\n",
      "C:\\Anaconda\\lib\\site-packages\\sklearn\\linear_model\\logistic.py:433: FutureWarning: Default solver will be changed to 'lbfgs' in 0.22. Specify a solver to silence this warning.\n",
      "  FutureWarning)\n",
      "C:\\Anaconda\\lib\\site-packages\\sklearn\\linear_model\\logistic.py:433: FutureWarning: Default solver will be changed to 'lbfgs' in 0.22. Specify a solver to silence this warning.\n",
      "  FutureWarning)\n",
      "C:\\Anaconda\\lib\\site-packages\\sklearn\\linear_model\\logistic.py:433: FutureWarning: Default solver will be changed to 'lbfgs' in 0.22. Specify a solver to silence this warning.\n",
      "  FutureWarning)\n",
      "C:\\Anaconda\\lib\\site-packages\\sklearn\\linear_model\\logistic.py:433: FutureWarning: Default solver will be changed to 'lbfgs' in 0.22. Specify a solver to silence this warning.\n",
      "  FutureWarning)\n",
      "C:\\Anaconda\\lib\\site-packages\\sklearn\\linear_model\\logistic.py:433: FutureWarning: Default solver will be changed to 'lbfgs' in 0.22. Specify a solver to silence this warning.\n",
      "  FutureWarning)\n",
      "C:\\Anaconda\\lib\\site-packages\\sklearn\\linear_model\\logistic.py:433: FutureWarning: Default solver will be changed to 'lbfgs' in 0.22. Specify a solver to silence this warning.\n",
      "  FutureWarning)\n",
      "C:\\Anaconda\\lib\\site-packages\\sklearn\\linear_model\\logistic.py:433: FutureWarning: Default solver will be changed to 'lbfgs' in 0.22. Specify a solver to silence this warning.\n",
      "  FutureWarning)\n",
      "C:\\Anaconda\\lib\\site-packages\\sklearn\\linear_model\\logistic.py:433: FutureWarning: Default solver will be changed to 'lbfgs' in 0.22. Specify a solver to silence this warning.\n",
      "  FutureWarning)\n"
     ]
    },
    {
     "data": {
      "text/plain": [
       "GridSearchCV(cv=5, error_score='raise-deprecating',\n",
       "       estimator=LogisticRegression(C=1.0, class_weight=None, dual=False, fit_intercept=True,\n",
       "          intercept_scaling=1, max_iter=100, multi_class='warn',\n",
       "          n_jobs=None, penalty='l2', random_state=None, solver='warn',\n",
       "          tol=0.0001, verbose=0, warm_start=False),\n",
       "       fit_params=None, iid='warn', n_jobs=1, param_grid={'C': [1, 10]},\n",
       "       pre_dispatch='2*n_jobs', refit=True, return_train_score='warn',\n",
       "       scoring='average_precision', verbose=0)"
      ]
     },
     "execution_count": 10,
     "metadata": {},
     "output_type": "execute_result"
    }
   ],
   "source": [
    "'''ロジスティック回帰'''\n",
    "lr_gscv = create_precision_gridsearchCV(LogisticRegression(), lr_param_grid)\n",
    "\n",
    "# fit 関数を呼ぶことで交差検証とグリッドサーチがどちらも実行される\n",
    "lr_gscv.fit(train_X, train_y)"
   ]
  },
  {
   "cell_type": "code",
   "execution_count": 11,
   "metadata": {},
   "outputs": [
    {
     "data": {
      "text/plain": [
       "GridSearchCV(cv=5, error_score='raise-deprecating',\n",
       "       estimator=RandomForestClassifier(bootstrap=True, class_weight=None, criterion='gini',\n",
       "            max_depth=None, max_features='auto', max_leaf_nodes=None,\n",
       "            min_impurity_decrease=0.0, min_impurity_split=None,\n",
       "            min_samples_leaf=1, min_samples_split=2,\n",
       "            min_weight_fraction_leaf=0.0, n_estimators='warn', n_jobs=None,\n",
       "            oob_score=False, random_state=None, verbose=0,\n",
       "            warm_start=False),\n",
       "       fit_params=None, iid='warn', n_jobs=1,\n",
       "       param_grid={'n_estimators': [10, 20], 'max_features': [5, 10], 'random_state': [0], 'max_depth': [5, 10]},\n",
       "       pre_dispatch='2*n_jobs', refit=True, return_train_score='warn',\n",
       "       scoring='average_precision', verbose=0)"
      ]
     },
     "execution_count": 11,
     "metadata": {},
     "output_type": "execute_result"
    }
   ],
   "source": [
    "'''ランダムフォレスト'''\n",
    "# 100万レコード以上の場合、処理に大変時間がかかる（30分程）\n",
    "rf_gscv = create_precision_gridsearchCV(RandomForestClassifier(), rf_param_grid)\n",
    "\n",
    "# fit 関数を呼ぶことで交差検証とグリッドサーチがどちらも実行される\n",
    "rf_gscv.fit(train_X, train_y)"
   ]
  },
  {
   "cell_type": "code",
   "execution_count": 12,
   "metadata": {},
   "outputs": [
    {
     "data": {
      "text/plain": [
       "GridSearchCV(cv=5, error_score='raise-deprecating',\n",
       "       estimator=SVC(C=1.0, cache_size=200, class_weight=None, coef0=0.0,\n",
       "  decision_function_shape='ovr', degree=3, gamma='auto_deprecated',\n",
       "  kernel='rbf', max_iter=-1, probability=False, random_state=None,\n",
       "  shrinking=True, tol=0.001, verbose=False),\n",
       "       fit_params=None, iid='warn', n_jobs=1,\n",
       "       param_grid={'C': [1, 10], 'gamma': [1, 10]},\n",
       "       pre_dispatch='2*n_jobs', refit=True, return_train_score='warn',\n",
       "       scoring='average_precision', verbose=0)"
      ]
     },
     "execution_count": 12,
     "metadata": {},
     "output_type": "execute_result"
    }
   ],
   "source": [
    "'''SVM'''\n",
    "# 100万レコード以上の場合、処理に大変時間がかかる（240分程）\n",
    "svm_gscv = create_precision_gridsearchCV(svm.SVC(), svm_param_grid)\n",
    "\n",
    "# fit関数を呼ぶことで交差検証とグリッドサーチがどちらも実行される\n",
    "svm_gscv.fit(train_X, train_y)"
   ]
  },
  {
   "cell_type": "code",
   "execution_count": 13,
   "metadata": {},
   "outputs": [
    {
     "name": "stdout",
     "output_type": "stream",
     "text": [
      "LogisticRegression(C=10, class_weight=None, dual=False, fit_intercept=True,\n",
      "          intercept_scaling=1, max_iter=100, multi_class='warn',\n",
      "          n_jobs=None, penalty='l2', random_state=None, solver='warn',\n",
      "          tol=0.0001, verbose=0, warm_start=False)\n",
      "--------------------------------------------------\n",
      "0.5044659857352529\n",
      "--------------------------------------------------\n",
      "{'C': 10}\n",
      "--------------------------------------------------\n",
      "0.475278673448201\n"
     ]
    }
   ],
   "source": [
    "lr_best_model = lr_gscv.best_estimator_\n",
    "print(lr_best_model)\n",
    "print('-'*50)\n",
    "print(lr_gscv.best_score_) # クロスバリデーション実施時に最も良かったスコア\n",
    "print('-'*50)\n",
    "print(lr_gscv.best_params_)# 最も良かったスコアのパラメータの組み合わせ\n",
    "print('-'*50)\n",
    "print(lr_gscv.score(test_X, test_y))"
   ]
  },
  {
   "cell_type": "code",
   "execution_count": 14,
   "metadata": {},
   "outputs": [
    {
     "name": "stdout",
     "output_type": "stream",
     "text": [
      "RandomForestClassifier(bootstrap=True, class_weight=None, criterion='gini',\n",
      "            max_depth=5, max_features=5, max_leaf_nodes=None,\n",
      "            min_impurity_decrease=0.0, min_impurity_split=None,\n",
      "            min_samples_leaf=1, min_samples_split=2,\n",
      "            min_weight_fraction_leaf=0.0, n_estimators=20, n_jobs=None,\n",
      "            oob_score=False, random_state=0, verbose=0, warm_start=False)\n",
      "--------------------------------------------------\n",
      "0.5024918229983591\n",
      "--------------------------------------------------\n",
      "{'max_depth': 5, 'max_features': 5, 'n_estimators': 20, 'random_state': 0}\n",
      "--------------------------------------------------\n",
      "0.54957433384629\n"
     ]
    }
   ],
   "source": [
    "rf_best_model = rf_gscv.best_estimator_\n",
    "print(rf_best_model)\n",
    "print('-'*50)\n",
    "print(rf_gscv.best_score_) # 最も良かったスコア\n",
    "print('-'*50)\n",
    "print(rf_gscv.best_params_)# 最も良かったスコアのパラメータの組み合わせ\n",
    "print('-'*50)\n",
    "print(rf_gscv.score(test_X, test_y))"
   ]
  },
  {
   "cell_type": "code",
   "execution_count": 15,
   "metadata": {},
   "outputs": [
    {
     "name": "stdout",
     "output_type": "stream",
     "text": [
      "SVC(C=1, cache_size=200, class_weight=None, coef0=0.0,\n",
      "  decision_function_shape='ovr', degree=3, gamma=10, kernel='rbf',\n",
      "  max_iter=-1, probability=False, random_state=None, shrinking=True,\n",
      "  tol=0.001, verbose=False)\n",
      "--------------------------------------------------\n",
      "0.484394506866417\n",
      "--------------------------------------------------\n",
      "{'C': 1, 'gamma': 10}\n",
      "--------------------------------------------------\n",
      "0.4824120603015075\n"
     ]
    }
   ],
   "source": [
    "svm_best_model = svm_gscv.best_estimator_\n",
    "print(svm_best_model)\n",
    "print('-'*50)\n",
    "print(svm_gscv.best_score_) # 最も良かったスコア\n",
    "print('-'*50)\n",
    "print(svm_gscv.best_params_)# 最も良かったスコアのパラメータの組み合わせ\n",
    "print('-'*50)\n",
    "print(svm_gscv.score(test_X, test_y))"
   ]
  },
  {
   "cell_type": "markdown",
   "metadata": {},
   "source": [
    "#### →ロジスティック回帰のバリデーションスコアが高かったのでロジスティック回帰で予測を行う"
   ]
  },
  {
   "cell_type": "markdown",
   "metadata": {},
   "source": [
    "## 予測\n",
    "グリッドサーチによって出された最適なパラメータをテストデータに適用し予測する"
   ]
  },
  {
   "cell_type": "code",
   "execution_count": 22,
   "metadata": {},
   "outputs": [
    {
     "data": {
      "text/plain": [
       "array([[0.4646966 , 0.5353034 ],\n",
       "       [0.70449727, 0.29550273],\n",
       "       [0.60862974, 0.39137026],\n",
       "       [0.74452944, 0.25547056],\n",
       "       [0.48190638, 0.51809362]])"
      ]
     },
     "execution_count": 22,
     "metadata": {},
     "output_type": "execute_result"
    }
   ],
   "source": [
    "# 確率を算出\n",
    "proba_y = lr_best_model.predict_proba(test_X)\n",
    "proba_y[0:5]"
   ]
  },
  {
   "cell_type": "code",
   "execution_count": 23,
   "metadata": {},
   "outputs": [
    {
     "data": {
      "text/plain": [
       "array([1, 0, 0, 0, 1])"
      ]
     },
     "execution_count": 23,
     "metadata": {},
     "output_type": "execute_result"
    }
   ],
   "source": [
    "pred_y = lr_best_model.predict(test_X)\n",
    "pred_y[0:5]"
   ]
  },
  {
   "cell_type": "markdown",
   "metadata": {},
   "source": [
    "## 正解率・適合率・再現率・F値を算出"
   ]
  },
  {
   "cell_type": "code",
   "execution_count": 19,
   "metadata": {},
   "outputs": [
    {
     "name": "stdout",
     "output_type": "stream",
     "text": [
      "[[47 49]\n",
      " [51 52]]\n",
      "--------------------------------\n",
      "[[47 49]\n",
      " [51 52]]\n"
     ]
    }
   ],
   "source": [
    "# 混同行列を出力\n",
    "\n",
    "confusion_matrix(test_y, pred_y)\n",
    "tn, fp, fn, tp = confusion_matrix(test_y, pred_y).ravel()\n",
    "# (tp, fn, fp, tn)に順番を変更、それを行列にする\n",
    "print(np.array([[tp, fn], [fp, tn]]))\n",
    "print('--------------------------------')\n",
    "# 二次元配列の場合はnumpy.matrix関数でも表現可能\n",
    "print(np.matrix([[tp, fn], [fp, tn]]))"
   ]
  },
  {
   "cell_type": "code",
   "execution_count": 20,
   "metadata": {},
   "outputs": [
    {
     "name": "stdout",
     "output_type": "stream",
     "text": [
      "ポジネガ判定の正解率は49.75%です。\n",
      "ポジネガ判定の適合率は47.96%です。\n",
      "ポジネガ判定の再現率は48.96%です。\n",
      "ポジネガ判定のF値は48.45%です。\n"
     ]
    }
   ],
   "source": [
    "# 小数第2位まで出力\n",
    "print('ポジネガ判定の正解率は{:.2%}です。'.format(accuracy_score(test_y, pred_y)))\n",
    "print('ポジネガ判定の適合率は{:.2%}です。'.format(precision_score(test_y, pred_y)))\n",
    "print('ポジネガ判定の再現率は{:.2%}です。'.format(recall_score(test_y, pred_y)))\n",
    "print('ポジネガ判定のF値は{:.2%}です。'.format(f1_score(test_y, pred_y)))"
   ]
  },
  {
   "cell_type": "code",
   "execution_count": 21,
   "metadata": {},
   "outputs": [
    {
     "name": "stdout",
     "output_type": "stream",
     "text": [
      "              precision    recall  f1-score   support\n",
      "\n",
      "           0       0.51      0.50      0.51       103\n",
      "           1       0.48      0.49      0.48        96\n",
      "\n",
      "   micro avg       0.50      0.50      0.50       199\n",
      "   macro avg       0.50      0.50      0.50       199\n",
      "weighted avg       0.50      0.50      0.50       199\n",
      "\n"
     ]
    }
   ],
   "source": [
    "# 適合率・検出率・F値をまとめて表示するsklearn.metrics.classification_report\n",
    "# 出力部分の「0」「1」は今回の場合「未購入」「購入」という意味、「support」は「各ラベルのデータ数」を意味する\n",
    "print(classification_report(test_y, pred_y))"
   ]
  },
  {
   "cell_type": "code",
   "execution_count": null,
   "metadata": {
    "collapsed": true
   },
   "outputs": [],
   "source": []
  },
  {
   "cell_type": "markdown",
   "metadata": {},
   "source": [
    "参考URL\n",
    "\n",
    "https://qiita.com/tomov3/items/039d4271ed30490edf7b\n",
    "\n",
    "https://github.com/hwpwk/NLP/blob/master/RandomForest%E3%81%AB%E3%82%88%E3%82%8B%E6%96%87%E7%AB%A0%E3%81%AE%E3%83%9D%E3%82%B8%E3%83%8D%E3%82%AC%E5%88%A4%E5%AE%9A%E3%81%A8%E9%87%8D%E8%A6%81%E5%BA%A6%E5%8F%AF%E8%A6%96%E5%8C%96%E3%81%A8graphviz%E3%81%A7%E6%9C%A8%E6%A7%8B%E9%80%A0%E5%8F%AF%E8%A6%96%E5%8C%96%26%E3%81%9D%E3%81%AE%E6%AD%A3%E8%A7%A3%E7%8E%87%E3%83%BB%E9%81%A9%E5%90%88%E7%8E%87%E3%83%BB%E5%86%8D%E7%8F%BE%E7%8E%87%E3%83%BBF%E5%80%A4_ver_train_test_split(%E6%96%87%E6%9B%B8%E3%81%AE%E3%83%99%E3%82%AF%E3%83%88%E3%83%AB%E5%8C%96(bag_of_words)%2B%E3%83%9D%E3%82%B8%E3%83%8D%E3%82%AC%E6%95%99%E5%B8%AB%E3%83%A9%E3%83%99%E3%83%AB%E8%BF%BD%E5%8A%A0%2BDataFrame%E5%8C%96)_181107.ipynb"
   ]
  },
  {
   "cell_type": "code",
   "execution_count": null,
   "metadata": {
    "collapsed": true
   },
   "outputs": [],
   "source": []
  }
 ],
 "metadata": {
  "kernelspec": {
   "display_name": "Python 3",
   "language": "python",
   "name": "python3"
  },
  "language_info": {
   "codemirror_mode": {
    "name": "ipython",
    "version": 3
   },
   "file_extension": ".py",
   "mimetype": "text/x-python",
   "name": "python",
   "nbconvert_exporter": "python",
   "pygments_lexer": "ipython3",
   "version": "3.6.3"
  }
 },
 "nbformat": 4,
 "nbformat_minor": 2
}
