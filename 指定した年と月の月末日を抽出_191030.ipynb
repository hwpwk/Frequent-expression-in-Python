{
 "cells": [
  {
   "cell_type": "code",
   "execution_count": 1,
   "metadata": {},
   "outputs": [],
   "source": [
    "import pandas as pd\n",
    "import numpy as np"
   ]
  },
  {
   "cell_type": "code",
   "execution_count": 2,
   "metadata": {},
   "outputs": [
    {
     "data": {
      "text/plain": [
       "[['2016/03第2四半期'], ['2017/06第2四半期'], ['2018/09第2四半期']]"
      ]
     },
     "execution_count": 2,
     "metadata": {},
     "output_type": "execute_result"
    }
   ],
   "source": [
    "# 適当なデータフレームを作成\n",
    "a_array = [['2016/03第2四半期'], ['2017/06第2四半期'], ['2018/09第2四半期']]\n",
    "a_array"
   ]
  },
  {
   "cell_type": "code",
   "execution_count": 3,
   "metadata": {},
   "outputs": [
    {
     "data": {
      "text/html": [
       "<div>\n",
       "<style scoped>\n",
       "    .dataframe tbody tr th:only-of-type {\n",
       "        vertical-align: middle;\n",
       "    }\n",
       "\n",
       "    .dataframe tbody tr th {\n",
       "        vertical-align: top;\n",
       "    }\n",
       "\n",
       "    .dataframe thead th {\n",
       "        text-align: right;\n",
       "    }\n",
       "</style>\n",
       "<table border=\"1\" class=\"dataframe\">\n",
       "  <thead>\n",
       "    <tr style=\"text-align: right;\">\n",
       "      <th></th>\n",
       "      <th>決算</th>\n",
       "    </tr>\n",
       "  </thead>\n",
       "  <tbody>\n",
       "    <tr>\n",
       "      <th>0</th>\n",
       "      <td>2016/03第2四半期</td>\n",
       "    </tr>\n",
       "    <tr>\n",
       "      <th>1</th>\n",
       "      <td>2017/06第2四半期</td>\n",
       "    </tr>\n",
       "    <tr>\n",
       "      <th>2</th>\n",
       "      <td>2018/09第2四半期</td>\n",
       "    </tr>\n",
       "  </tbody>\n",
       "</table>\n",
       "</div>"
      ],
      "text/plain": [
       "             決算\n",
       "0  2016/03第2四半期\n",
       "1  2017/06第2四半期\n",
       "2  2018/09第2四半期"
      ]
     },
     "execution_count": 3,
     "metadata": {},
     "output_type": "execute_result"
    }
   ],
   "source": [
    "a_df = pd.DataFrame(a_array, columns=['決算'])\n",
    "a_df"
   ]
  },
  {
   "cell_type": "code",
   "execution_count": 4,
   "metadata": {},
   "outputs": [
    {
     "data": {
      "text/html": [
       "<div>\n",
       "<style scoped>\n",
       "    .dataframe tbody tr th:only-of-type {\n",
       "        vertical-align: middle;\n",
       "    }\n",
       "\n",
       "    .dataframe tbody tr th {\n",
       "        vertical-align: top;\n",
       "    }\n",
       "\n",
       "    .dataframe thead th {\n",
       "        text-align: right;\n",
       "    }\n",
       "</style>\n",
       "<table border=\"1\" class=\"dataframe\">\n",
       "  <thead>\n",
       "    <tr style=\"text-align: right;\">\n",
       "      <th></th>\n",
       "      <th>決算</th>\n",
       "      <th>決算年</th>\n",
       "      <th>決算月</th>\n",
       "    </tr>\n",
       "  </thead>\n",
       "  <tbody>\n",
       "    <tr>\n",
       "      <th>0</th>\n",
       "      <td>2016/03第2四半期</td>\n",
       "      <td>2016</td>\n",
       "      <td>3</td>\n",
       "    </tr>\n",
       "    <tr>\n",
       "      <th>1</th>\n",
       "      <td>2017/06第2四半期</td>\n",
       "      <td>2017</td>\n",
       "      <td>6</td>\n",
       "    </tr>\n",
       "    <tr>\n",
       "      <th>2</th>\n",
       "      <td>2018/09第2四半期</td>\n",
       "      <td>2018</td>\n",
       "      <td>9</td>\n",
       "    </tr>\n",
       "  </tbody>\n",
       "</table>\n",
       "</div>"
      ],
      "text/plain": [
       "             決算   決算年 決算月\n",
       "0  2016/03第2四半期  2016   3\n",
       "1  2017/06第2四半期  2017   6\n",
       "2  2018/09第2四半期  2018   9"
      ]
     },
     "execution_count": 4,
     "metadata": {},
     "output_type": "execute_result"
    }
   ],
   "source": [
    "a_df['決算年'] = a_df['決算'].apply(lambda x: x[0:4])\n",
    "a_df['決算月'] = a_df['決算'].apply(lambda x: x[6:7])\n",
    "\n",
    "a_df"
   ]
  },
  {
   "cell_type": "code",
   "execution_count": 5,
   "metadata": {},
   "outputs": [
    {
     "data": {
      "text/plain": [
       "決算     object\n",
       "決算年     int32\n",
       "決算月     int32\n",
       "dtype: object"
      ]
     },
     "execution_count": 5,
     "metadata": {},
     "output_type": "execute_result"
    }
   ],
   "source": [
    "# 後にcalendar.monthrange(year, month)関数を使用するための準備\n",
    "# (year, month)はどちらもint型でないとエラーが発生するため\n",
    "a_df = a_df.astype({'決算年': int, '決算月': int}) \n",
    "\n",
    "a_df.dtypes"
   ]
  },
  {
   "cell_type": "markdown",
   "metadata": {},
   "source": [
    "# 指定した年と月の月末日を抽出"
   ]
  },
  {
   "cell_type": "code",
   "execution_count": 6,
   "metadata": {
    "scrolled": true
   },
   "outputs": [
    {
     "data": {
      "text/html": [
       "<div>\n",
       "<style scoped>\n",
       "    .dataframe tbody tr th:only-of-type {\n",
       "        vertical-align: middle;\n",
       "    }\n",
       "\n",
       "    .dataframe tbody tr th {\n",
       "        vertical-align: top;\n",
       "    }\n",
       "\n",
       "    .dataframe thead th {\n",
       "        text-align: right;\n",
       "    }\n",
       "</style>\n",
       "<table border=\"1\" class=\"dataframe\">\n",
       "  <thead>\n",
       "    <tr style=\"text-align: right;\">\n",
       "      <th></th>\n",
       "      <th>決算</th>\n",
       "      <th>決算年</th>\n",
       "      <th>決算月</th>\n",
       "      <th>決算日</th>\n",
       "    </tr>\n",
       "  </thead>\n",
       "  <tbody>\n",
       "    <tr>\n",
       "      <th>0</th>\n",
       "      <td>2016/03第2四半期</td>\n",
       "      <td>2016</td>\n",
       "      <td>03</td>\n",
       "      <td>31</td>\n",
       "    </tr>\n",
       "    <tr>\n",
       "      <th>1</th>\n",
       "      <td>2017/06第2四半期</td>\n",
       "      <td>2017</td>\n",
       "      <td>06</td>\n",
       "      <td>30</td>\n",
       "    </tr>\n",
       "    <tr>\n",
       "      <th>2</th>\n",
       "      <td>2018/09第2四半期</td>\n",
       "      <td>2018</td>\n",
       "      <td>09</td>\n",
       "      <td>30</td>\n",
       "    </tr>\n",
       "  </tbody>\n",
       "</table>\n",
       "</div>"
      ],
      "text/plain": [
       "             決算   決算年 決算月 決算日\n",
       "0  2016/03第2四半期  2016  03  31\n",
       "1  2017/06第2四半期  2017  06  30\n",
       "2  2018/09第2四半期  2018  09  30"
      ]
     },
     "execution_count": 6,
     "metadata": {},
     "output_type": "execute_result"
    }
   ],
   "source": [
    "import calendar\n",
    "\n",
    "# calendar.monthrange(year, month)関数の返り値はyear と month で指定された月末日の曜日と月末日であるが、今回は月末日のみを抽出する\n",
    "a_df['決算日'] = a_df.apply(lambda x: calendar.monthrange(x['決算年'], x['決算月'])[1], axis=1)\n",
    "# 後に決算年、決算月、決算日の3つのカラムの値を組み合わせるための準備\n",
    "# カラムのデータ型を文字列型に変換\n",
    "# その際に決算月を2桁の文字列にしたいので0埋め処理を実施\n",
    "a_df = a_df.astype(str)\n",
    "a_df['決算月'] = a_df['決算月'].apply(lambda x: x.zfill(2))\n",
    "\n",
    "a_df"
   ]
  },
  {
   "cell_type": "code",
   "execution_count": 7,
   "metadata": {},
   "outputs": [
    {
     "data": {
      "text/plain": [
       "決算     object\n",
       "決算年    object\n",
       "決算月    object\n",
       "決算日    object\n",
       "dtype: object"
      ]
     },
     "execution_count": 7,
     "metadata": {},
     "output_type": "execute_result"
    }
   ],
   "source": [
    "a_df.dtypes"
   ]
  },
  {
   "cell_type": "code",
   "execution_count": 8,
   "metadata": {},
   "outputs": [
    {
     "data": {
      "text/html": [
       "<div>\n",
       "<style scoped>\n",
       "    .dataframe tbody tr th:only-of-type {\n",
       "        vertical-align: middle;\n",
       "    }\n",
       "\n",
       "    .dataframe tbody tr th {\n",
       "        vertical-align: top;\n",
       "    }\n",
       "\n",
       "    .dataframe thead th {\n",
       "        text-align: right;\n",
       "    }\n",
       "</style>\n",
       "<table border=\"1\" class=\"dataframe\">\n",
       "  <thead>\n",
       "    <tr style=\"text-align: right;\">\n",
       "      <th></th>\n",
       "      <th>決算</th>\n",
       "      <th>決算年</th>\n",
       "      <th>決算月</th>\n",
       "      <th>決算日</th>\n",
       "      <th>決算年月日</th>\n",
       "    </tr>\n",
       "  </thead>\n",
       "  <tbody>\n",
       "    <tr>\n",
       "      <th>0</th>\n",
       "      <td>2016/03第2四半期</td>\n",
       "      <td>2016</td>\n",
       "      <td>03</td>\n",
       "      <td>31</td>\n",
       "      <td>20160331</td>\n",
       "    </tr>\n",
       "    <tr>\n",
       "      <th>1</th>\n",
       "      <td>2017/06第2四半期</td>\n",
       "      <td>2017</td>\n",
       "      <td>06</td>\n",
       "      <td>30</td>\n",
       "      <td>20170630</td>\n",
       "    </tr>\n",
       "    <tr>\n",
       "      <th>2</th>\n",
       "      <td>2018/09第2四半期</td>\n",
       "      <td>2018</td>\n",
       "      <td>09</td>\n",
       "      <td>30</td>\n",
       "      <td>20180930</td>\n",
       "    </tr>\n",
       "  </tbody>\n",
       "</table>\n",
       "</div>"
      ],
      "text/plain": [
       "             決算   決算年 決算月 決算日     決算年月日\n",
       "0  2016/03第2四半期  2016  03  31  20160331\n",
       "1  2017/06第2四半期  2017  06  30  20170630\n",
       "2  2018/09第2四半期  2018  09  30  20180930"
      ]
     },
     "execution_count": 8,
     "metadata": {},
     "output_type": "execute_result"
    }
   ],
   "source": [
    "a_df['決算年月日'] = a_df['決算年'] + a_df['決算月'] + a_df['決算日']\n",
    "\n",
    "a_df"
   ]
  },
  {
   "cell_type": "markdown",
   "metadata": {},
   "source": [
    "### 決算年月日カラムのデータ型を文字列型から日付型に変換する"
   ]
  },
  {
   "cell_type": "code",
   "execution_count": 9,
   "metadata": {
    "scrolled": true
   },
   "outputs": [
    {
     "data": {
      "text/html": [
       "<div>\n",
       "<style scoped>\n",
       "    .dataframe tbody tr th:only-of-type {\n",
       "        vertical-align: middle;\n",
       "    }\n",
       "\n",
       "    .dataframe tbody tr th {\n",
       "        vertical-align: top;\n",
       "    }\n",
       "\n",
       "    .dataframe thead th {\n",
       "        text-align: right;\n",
       "    }\n",
       "</style>\n",
       "<table border=\"1\" class=\"dataframe\">\n",
       "  <thead>\n",
       "    <tr style=\"text-align: right;\">\n",
       "      <th></th>\n",
       "      <th>決算</th>\n",
       "      <th>決算年</th>\n",
       "      <th>決算月</th>\n",
       "      <th>決算日</th>\n",
       "      <th>決算年月日</th>\n",
       "    </tr>\n",
       "  </thead>\n",
       "  <tbody>\n",
       "    <tr>\n",
       "      <th>0</th>\n",
       "      <td>2016/03第2四半期</td>\n",
       "      <td>2016</td>\n",
       "      <td>03</td>\n",
       "      <td>31</td>\n",
       "      <td>2016-03-31</td>\n",
       "    </tr>\n",
       "    <tr>\n",
       "      <th>1</th>\n",
       "      <td>2017/06第2四半期</td>\n",
       "      <td>2017</td>\n",
       "      <td>06</td>\n",
       "      <td>30</td>\n",
       "      <td>2017-06-30</td>\n",
       "    </tr>\n",
       "    <tr>\n",
       "      <th>2</th>\n",
       "      <td>2018/09第2四半期</td>\n",
       "      <td>2018</td>\n",
       "      <td>09</td>\n",
       "      <td>30</td>\n",
       "      <td>2018-09-30</td>\n",
       "    </tr>\n",
       "  </tbody>\n",
       "</table>\n",
       "</div>"
      ],
      "text/plain": [
       "             決算   決算年 決算月 決算日      決算年月日\n",
       "0  2016/03第2四半期  2016  03  31 2016-03-31\n",
       "1  2017/06第2四半期  2017  06  30 2017-06-30\n",
       "2  2018/09第2四半期  2018  09  30 2018-09-30"
      ]
     },
     "execution_count": 9,
     "metadata": {},
     "output_type": "execute_result"
    }
   ],
   "source": [
    "a_df['決算年月日'] = pd.to_datetime(a_df['決算年月日'], format='%Y-%m-%d')\n",
    "\n",
    "a_df"
   ]
  },
  {
   "cell_type": "code",
   "execution_count": 10,
   "metadata": {},
   "outputs": [
    {
     "data": {
      "text/plain": [
       "決算               object\n",
       "決算年              object\n",
       "決算月              object\n",
       "決算日              object\n",
       "決算年月日    datetime64[ns]\n",
       "dtype: object"
      ]
     },
     "execution_count": 10,
     "metadata": {},
     "output_type": "execute_result"
    }
   ],
   "source": [
    "a_df.dtypes"
   ]
  },
  {
   "cell_type": "code",
   "execution_count": null,
   "metadata": {},
   "outputs": [],
   "source": []
  }
 ],
 "metadata": {
  "kernelspec": {
   "display_name": "Python 3",
   "language": "python",
   "name": "python3"
  },
  "language_info": {
   "codemirror_mode": {
    "name": "ipython",
    "version": 3
   },
   "file_extension": ".py",
   "mimetype": "text/x-python",
   "name": "python",
   "nbconvert_exporter": "python",
   "pygments_lexer": "ipython3",
   "version": "3.6.8"
  }
 },
 "nbformat": 4,
 "nbformat_minor": 2
}
