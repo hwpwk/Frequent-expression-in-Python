{
 "cells": [
  {
   "cell_type": "code",
   "execution_count": 1,
   "metadata": {
    "collapsed": true
   },
   "outputs": [],
   "source": [
    "import pandas as pd\n",
    "import numpy as np"
   ]
  },
  {
   "cell_type": "markdown",
   "metadata": {},
   "source": [
    "「neko.txt」ファイルをカレントディレクトリに格納していることを前提とする"
   ]
  },
  {
   "cell_type": "markdown",
   "metadata": {},
   "source": [
    "## ファイル全体を文字列として読み込み"
   ]
  },
  {
   "cell_type": "code",
   "execution_count": 2,
   "metadata": {},
   "outputs": [
    {
     "name": "stdout",
     "output_type": "stream",
     "text": [
      "﻿一\n",
      "\n",
      "　吾輩は猫である。\n",
      "名前はまだ無い。\n",
      "\n",
      "　どこで生れたかとんと見当がつかぬ。\n",
      "何でも薄暗いじめじめした所でニャーニャー泣いていた事だけは記憶している。\n",
      "吾輩はここで始めて人間というものを見た。\n",
      "しかもあとで聞くとそれは書生という人間中で一番獰悪な種族で\n"
     ]
    }
   ],
   "source": [
    "with open('neko.txt', encoding='utf-8') as f:\n",
    "    s = f.read()\n",
    "    # 全文を表示すると長いので文字数で表示を絞る\n",
    "    print(s[0:130])"
   ]
  },
  {
   "cell_type": "markdown",
   "metadata": {},
   "source": [
    "## ファイル全体をリストとして読み込み"
   ]
  },
  {
   "cell_type": "code",
   "execution_count": 3,
   "metadata": {},
   "outputs": [
    {
     "name": "stdout",
     "output_type": "stream",
     "text": [
      "['\\ufeff一\\n', '\\n', '\\u3000吾輩は猫である。\\n', '名前はまだ無い。\\n', '\\n', '\\u3000どこで生れたかとんと見当がつかぬ。\\n', '何でも薄暗いじめじめした所でニャーニャー泣いていた事だけは記憶している。\\n', '吾輩はここで始めて人間というものを見た。\\n', 'しかもあとで聞くとそれは書生という人間中で一番獰悪な種族であったそうだ。\\n', 'この書生というのは時々我々を捕えて煮て食うという話である。\\n']\n"
     ]
    }
   ],
   "source": [
    "with open('neko.txt', encoding='utf-8') as f:\n",
    "    l = f.readlines()\n",
    "    print(l[0:10])"
   ]
  },
  {
   "cell_type": "code",
   "execution_count": null,
   "metadata": {
    "collapsed": true
   },
   "outputs": [],
   "source": []
  }
 ],
 "metadata": {
  "kernelspec": {
   "display_name": "Python 3",
   "language": "python",
   "name": "python3"
  },
  "language_info": {
   "codemirror_mode": {
    "name": "ipython",
    "version": 3
   },
   "file_extension": ".py",
   "mimetype": "text/x-python",
   "name": "python",
   "nbconvert_exporter": "python",
   "pygments_lexer": "ipython3",
   "version": "3.6.3"
  }
 },
 "nbformat": 4,
 "nbformat_minor": 2
}
