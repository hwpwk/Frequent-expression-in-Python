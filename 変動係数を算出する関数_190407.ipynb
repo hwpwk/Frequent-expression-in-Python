{
 "cells": [
  {
   "cell_type": "code",
   "execution_count": 1,
   "metadata": {},
   "outputs": [],
   "source": [
    "import pandas as pd\n",
    "import numpy as np"
   ]
  },
  {
   "cell_type": "code",
   "execution_count": 2,
   "metadata": {},
   "outputs": [],
   "source": [
    "pd.set_option('precision', 2)\n",
    "pd.options.display.float_format = '{:.9g}'.format"
   ]
  },
  {
   "cell_type": "code",
   "execution_count": 3,
   "metadata": {},
   "outputs": [
    {
     "data": {
      "text/html": [
       "<div>\n",
       "<style>\n",
       "    .dataframe thead tr:only-child th {\n",
       "        text-align: right;\n",
       "    }\n",
       "\n",
       "    .dataframe thead th {\n",
       "        text-align: left;\n",
       "    }\n",
       "\n",
       "    .dataframe tbody tr th {\n",
       "        vertical-align: top;\n",
       "    }\n",
       "</style>\n",
       "<table border=\"1\" class=\"dataframe\">\n",
       "  <thead>\n",
       "    <tr style=\"text-align: right;\">\n",
       "      <th></th>\n",
       "      <th>car_payment</th>\n",
       "      <th>drink_payment</th>\n",
       "      <th>id</th>\n",
       "    </tr>\n",
       "  </thead>\n",
       "  <tbody>\n",
       "    <tr>\n",
       "      <th>0</th>\n",
       "      <td>2209269</td>\n",
       "      <td>117</td>\n",
       "      <td>2733</td>\n",
       "    </tr>\n",
       "    <tr>\n",
       "      <th>1</th>\n",
       "      <td>2625378</td>\n",
       "      <td>150</td>\n",
       "      <td>2608</td>\n",
       "    </tr>\n",
       "    <tr>\n",
       "      <th>2</th>\n",
       "      <td>4236104</td>\n",
       "      <td>355</td>\n",
       "      <td>1654</td>\n",
       "    </tr>\n",
       "    <tr>\n",
       "      <th>3</th>\n",
       "      <td>3674988</td>\n",
       "      <td>368</td>\n",
       "      <td>836</td>\n",
       "    </tr>\n",
       "    <tr>\n",
       "      <th>4</th>\n",
       "      <td>3109637</td>\n",
       "      <td>112</td>\n",
       "      <td>764</td>\n",
       "    </tr>\n",
       "  </tbody>\n",
       "</table>\n",
       "</div>"
      ],
      "text/plain": [
       "   car_payment  drink_payment    id\n",
       "0      2209269            117  2733\n",
       "1      2625378            150  2608\n",
       "2      4236104            355  1654\n",
       "3      3674988            368   836\n",
       "4      3109637            112   764"
      ]
     },
     "execution_count": 3,
     "metadata": {},
     "output_type": "execute_result"
    }
   ],
   "source": [
    "np.random.seed(0)\n",
    "\n",
    "df = pd.DataFrame({\n",
    "    'id': np.random.randint(low=1, high=3000, size=20000),\n",
    "    'drink_payment': np.random.randint(low=100, high=500, size=20000),\n",
    "    'car_payment': np.random.randint(low=1300000, high=5000000, size=20000)\n",
    "})\n",
    "\n",
    "df.head()"
   ]
  },
  {
   "cell_type": "code",
   "execution_count": 4,
   "metadata": {},
   "outputs": [
    {
     "data": {
      "text/html": [
       "<div>\n",
       "<style>\n",
       "    .dataframe thead tr:only-child th {\n",
       "        text-align: right;\n",
       "    }\n",
       "\n",
       "    .dataframe thead th {\n",
       "        text-align: left;\n",
       "    }\n",
       "\n",
       "    .dataframe tbody tr th {\n",
       "        vertical-align: top;\n",
       "    }\n",
       "</style>\n",
       "<table border=\"1\" class=\"dataframe\">\n",
       "  <thead>\n",
       "    <tr style=\"text-align: right;\">\n",
       "      <th></th>\n",
       "      <th>drink_payment</th>\n",
       "      <th>car_payment</th>\n",
       "    </tr>\n",
       "  </thead>\n",
       "  <tbody>\n",
       "    <tr>\n",
       "      <th>count</th>\n",
       "      <td>20000</td>\n",
       "      <td>20000</td>\n",
       "    </tr>\n",
       "    <tr>\n",
       "      <th>mean</th>\n",
       "      <td>299.0579</td>\n",
       "      <td>3152219.82</td>\n",
       "    </tr>\n",
       "    <tr>\n",
       "      <th>std</th>\n",
       "      <td>114.783966</td>\n",
       "      <td>1074307.15</td>\n",
       "    </tr>\n",
       "    <tr>\n",
       "      <th>min</th>\n",
       "      <td>100</td>\n",
       "      <td>1300389</td>\n",
       "    </tr>\n",
       "    <tr>\n",
       "      <th>25%</th>\n",
       "      <td>201</td>\n",
       "      <td>2227090</td>\n",
       "    </tr>\n",
       "    <tr>\n",
       "      <th>50%</th>\n",
       "      <td>298</td>\n",
       "      <td>3146385.5</td>\n",
       "    </tr>\n",
       "    <tr>\n",
       "      <th>75%</th>\n",
       "      <td>398</td>\n",
       "      <td>4085126</td>\n",
       "    </tr>\n",
       "    <tr>\n",
       "      <th>max</th>\n",
       "      <td>499</td>\n",
       "      <td>4999942</td>\n",
       "    </tr>\n",
       "  </tbody>\n",
       "</table>\n",
       "</div>"
      ],
      "text/plain": [
       "       drink_payment  car_payment\n",
       "count          20000        20000\n",
       "mean        299.0579   3152219.82\n",
       "std       114.783966   1074307.15\n",
       "min              100      1300389\n",
       "25%              201      2227090\n",
       "50%              298    3146385.5\n",
       "75%              398      4085126\n",
       "max              499      4999942"
      ]
     },
     "execution_count": 4,
     "metadata": {},
     "output_type": "execute_result"
    }
   ],
   "source": [
    "df[['drink_payment', 'car_payment']].describe()"
   ]
  },
  {
   "cell_type": "markdown",
   "metadata": {},
   "source": [
    "# 変動係数を算出する関数\n",
    "変動係数 = 標準偏差 / 平均"
   ]
  },
  {
   "cell_type": "code",
   "execution_count": 5,
   "metadata": {
    "collapsed": true
   },
   "outputs": [],
   "source": [
    "def calc_cv(values, ddof=0, n=2):\n",
    "    '''\n",
    "    関数内容\n",
    "    ・変動係数を算出する関数\n",
    "    Input\n",
    "    ・values:array形式にした値の集合\n",
    "    ・ddof:0or1を指定する(0→標本標準偏差、1→不偏標準偏差)\n",
    "    ・n:小数を丸めるときの桁数\n",
    "    関数使用方法\n",
    "    ・calc_cv(df['drink_payment'].values)\n",
    "    '''\n",
    "    \n",
    "    cv = round(np.std(values, ddof=ddof) / np.mean(values), n)\n",
    "    \n",
    "    return cv\n",
    "\n",
    "def calc_cv_scipy(values, n=2):\n",
    "    '''\n",
    "    関数内容\n",
    "    ・変動係数を算出する関数(scipyを使用した場合)\n",
    "    Input\n",
    "    ・values:array形式にした値の集合\n",
    "    ・n:小数を丸めるときの桁数\n",
    "    関数使用方法\n",
    "    ・calc_cv_scipy(df['drink_payment'].values)\n",
    "    '''\n",
    "    \n",
    "    from scipy.stats import variation\n",
    "    cv = round(variation(values), n)\n",
    "    \n",
    "    return cv"
   ]
  },
  {
   "cell_type": "code",
   "execution_count": 6,
   "metadata": {},
   "outputs": [
    {
     "data": {
      "text/plain": [
       "'drink_paymentの変動係数は0.38です。'"
      ]
     },
     "metadata": {},
     "output_type": "display_data"
    },
    {
     "data": {
      "text/plain": [
       "'car_paymentの変動係数は0.34です。'"
      ]
     },
     "metadata": {},
     "output_type": "display_data"
    }
   ],
   "source": [
    "display(\n",
    "    'drink_paymentの変動係数は{}です。'.format(calc_cv(df['drink_payment'].values)),\n",
    "    'car_paymentの変動係数は{}です。'.format(calc_cv(df['car_payment'].values))\n",
    "       )"
   ]
  },
  {
   "cell_type": "code",
   "execution_count": 7,
   "metadata": {},
   "outputs": [
    {
     "data": {
      "text/plain": [
       "'drink_paymentの変動係数は0.38です。'"
      ]
     },
     "metadata": {},
     "output_type": "display_data"
    },
    {
     "data": {
      "text/plain": [
       "'car_paymentの変動係数は0.34です。'"
      ]
     },
     "metadata": {},
     "output_type": "display_data"
    }
   ],
   "source": [
    "display(\n",
    "    'drink_paymentの変動係数は{}です。'.format(calc_cv_scipy(df['drink_payment'].values)),\n",
    "    'car_paymentの変動係数は{}です。'.format(calc_cv_scipy(df['car_payment'].values))\n",
    "       )"
   ]
  },
  {
   "cell_type": "markdown",
   "metadata": {},
   "source": [
    "#### 参考URL：https://www.monotalk.xyz/blog/Calculate-coefficient-of-variation-with-python-scipy-and-numpy/"
   ]
  },
  {
   "cell_type": "code",
   "execution_count": null,
   "metadata": {
    "collapsed": true
   },
   "outputs": [],
   "source": []
  }
 ],
 "metadata": {
  "kernelspec": {
   "display_name": "Python 3",
   "language": "python",
   "name": "python3"
  },
  "language_info": {
   "codemirror_mode": {
    "name": "ipython",
    "version": 3
   },
   "file_extension": ".py",
   "mimetype": "text/x-python",
   "name": "python",
   "nbconvert_exporter": "python",
   "pygments_lexer": "ipython3",
   "version": "3.6.3"
  }
 },
 "nbformat": 4,
 "nbformat_minor": 2
}
