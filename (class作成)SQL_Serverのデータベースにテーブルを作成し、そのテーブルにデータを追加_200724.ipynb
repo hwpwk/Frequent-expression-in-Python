{
 "cells": [
  {
   "cell_type": "code",
   "execution_count": 1,
   "metadata": {},
   "outputs": [],
   "source": [
    "import re\n",
    "import gc\n",
    "\n",
    "import pandas as pd\n",
    "import numpy as np"
   ]
  },
  {
   "cell_type": "markdown",
   "metadata": {},
   "source": [
    "### dataディレクトリの中に格納されているxlsxファイルのパスを取得"
   ]
  },
  {
   "cell_type": "code",
   "execution_count": 2,
   "metadata": {},
   "outputs": [
    {
     "data": {
      "text/plain": [
       "['data\\\\enavi201904(6875).csv',\n",
       " 'data\\\\enavi201905(6875).csv',\n",
       " 'data\\\\enavi201906(6875).csv',\n",
       " 'data\\\\enavi201907(6875).csv',\n",
       " 'data\\\\enavi201908(6875).csv',\n",
       " 'data\\\\enavi201909(6875).csv',\n",
       " 'data\\\\enavi201910(6875).csv',\n",
       " 'data\\\\enavi201911(6875).csv',\n",
       " 'data\\\\enavi201912(6875).csv',\n",
       " 'data\\\\enavi202001(6875).csv',\n",
       " 'data\\\\enavi202002(6875).csv',\n",
       " 'data\\\\enavi202003(6875).csv',\n",
       " 'data\\\\enavi202004(6875).csv',\n",
       " 'data\\\\enavi202005(6875).csv',\n",
       " 'data\\\\enavi202006(6875).csv']"
      ]
     },
     "execution_count": 2,
     "metadata": {},
     "output_type": "execute_result"
    }
   ],
   "source": [
    "import glob\n",
    "\n",
    "file_list = glob.glob('data/enavi*.csv')\n",
    "\n",
    "file_list"
   ]
  },
  {
   "cell_type": "markdown",
   "metadata": {},
   "source": [
    "### データフレームとして1ファイルのみ読み込み"
   ]
  },
  {
   "cell_type": "code",
   "execution_count": 20,
   "metadata": {},
   "outputs": [
    {
     "data": {
      "text/plain": [
       "(54, 11)"
      ]
     },
     "metadata": {},
     "output_type": "display_data"
    },
    {
     "data": {
      "text/html": [
       "<div>\n",
       "<style scoped>\n",
       "    .dataframe tbody tr th:only-of-type {\n",
       "        vertical-align: middle;\n",
       "    }\n",
       "\n",
       "    .dataframe tbody tr th {\n",
       "        vertical-align: top;\n",
       "    }\n",
       "\n",
       "    .dataframe thead th {\n",
       "        text-align: right;\n",
       "    }\n",
       "</style>\n",
       "<table border=\"1\" class=\"dataframe\">\n",
       "  <thead>\n",
       "    <tr style=\"text-align: right;\">\n",
       "      <th></th>\n",
       "      <th>利用日</th>\n",
       "      <th>利用店名・商品名</th>\n",
       "      <th>利用者</th>\n",
       "      <th>支払方法</th>\n",
       "      <th>利用金額</th>\n",
       "      <th>支払手数料</th>\n",
       "      <th>支払総額</th>\n",
       "      <th>4月支払金額</th>\n",
       "      <th>5月繰越残高</th>\n",
       "      <th>新規サイン</th>\n",
       "      <th>test/test</th>\n",
       "    </tr>\n",
       "  </thead>\n",
       "  <tbody>\n",
       "    <tr>\n",
       "      <th>0</th>\n",
       "      <td>2019/03/30</td>\n",
       "      <td>AMAZON.CO.JP</td>\n",
       "      <td>本人</td>\n",
       "      <td>1回払い</td>\n",
       "      <td>1782.0</td>\n",
       "      <td>0.0</td>\n",
       "      <td>1782.0</td>\n",
       "      <td>1782.0</td>\n",
       "      <td>0.0</td>\n",
       "      <td>*</td>\n",
       "      <td>test</td>\n",
       "    </tr>\n",
       "  </tbody>\n",
       "</table>\n",
       "</div>"
      ],
      "text/plain": [
       "          利用日      利用店名・商品名 利用者  支払方法    利用金額  支払手数料    支払総額  4月支払金額  5月繰越残高  \\\n",
       "0  2019/03/30  AMAZON.CO.JP  本人  1回払い  1782.0    0.0  1782.0  1782.0     0.0   \n",
       "\n",
       "  新規サイン test/test  \n",
       "0     *      test  "
      ]
     },
     "metadata": {},
     "output_type": "display_data"
    }
   ],
   "source": [
    "#dtypes={'科目コード':str, '金額':int}\n",
    "#parse_date = ['決算日']\n",
    "\n",
    "df = pd.read_csv(file_list[0])\n",
    "\n",
    "df = df.dropna(subset=['利用日'])\n",
    "\n",
    "df['test/test'] = 'test'\n",
    "\n",
    "display(df.shape, df.head(1))"
   ]
  },
  {
   "cell_type": "code",
   "execution_count": 15,
   "metadata": {},
   "outputs": [],
   "source": [
    "class ImportDataToSQLServer:\n",
    "    def __init__(self, database):\n",
    "        '''\n",
    "        Input\n",
    "        ・database：使用するデータベース名(予めSQLserver上で「CREATE DATABASE [データベース名]」というコードを実行させて作成しておく)\n",
    "        '''\n",
    "        self.database = database\n",
    "        self.driver ='{SQL Server}'\n",
    "        self.server = 'localhost\\SQLEXPRESS'\n",
    "        self.trusted_connection='yes'\n",
    "        self.file_name_list = ['rcard_明細_201904']\n",
    "        # 欠損値があればNoneを補完\n",
    "        self.df_list = [df.where(df.notnull(), None)]\n",
    "        \n",
    "    def connect_to_sqlserver(self):\n",
    "        '''\n",
    "        関数内容\n",
    "        ・PythonからSQLserverへ接続する関数\n",
    "\n",
    "        '''\n",
    "        import pyodbc\n",
    "        conn =\\\n",
    "        pyodbc.connect('DRIVER='+self.driver+';SERVER='+self.server+';DATABASE='+self.database+';Trusted_Connection='+self.trusted_connection+';')\n",
    "        curs = conn.cursor()\n",
    "\n",
    "        return conn, curs\n",
    "    \n",
    "    def extract_colname_and_dtype_from_dataframe(self, df):\n",
    "        '''\n",
    "        関数内容\n",
    "        ・読み込んだデータのカラム名とデータ型を抽出し、それらをデータフレームに格納する関数\n",
    "        '''\n",
    "        dtypes_df = pd.DataFrame(df.dtypes).reset_index()\n",
    "        dtypes_df.columns=['カラム名','データ型']\n",
    "        \n",
    "        return dtypes_df\n",
    "        \n",
    "\n",
    "    def get_colname_and_dtype_to_create_table(self, df):\n",
    "        '''\n",
    "        関数内容\n",
    "        ・create tableに必要なカラム名とデータ型を取得し、2つを特定の形式に並べた文字列を作成する関数\n",
    "        '''\n",
    "        # 読み込んだデータのカラム名とデータ型を抽出し、それらをデータフレームに格納する関数の実行\n",
    "        df1 = self.extract_colname_and_dtype_from_dataframe(df)\n",
    "\n",
    "\n",
    "        # SQLServerへのインポート用のデータ型名にリネーム\n",
    "        df1['データ型'] = np.where(df1['データ型']=='object', 'NVARCHAR(255)',\n",
    "                                     np.where(df1['データ型']=='float64', 'NUMERIC(25)',df1['データ型']))\n",
    "\n",
    "        ct_col_list = df1['カラム名'].tolist()\n",
    "        # カラム名に'/'が含まれているとSQLServerへのインポート時にエラーが発生するのでリネーム\n",
    "        ct_col_list =['['+ col_name + ']' if '/' in col_name else col_name for col_name in ct_col_list]\n",
    "        # カラム名先頭が数字の場合もSQLServerへのインポート時にエラーが発生するのでリネーム\n",
    "        ct_col_list =['['+ col + ']' if re.match('^[0-9]', col) else col for col in ct_col_list ]\n",
    "\n",
    "        ct_dtype_list = df1['データ型'].tolist()\n",
    "\n",
    "        combi_ct_list = [str(col_name)+' '+str(dtype_name) for col_name, dtype_name in zip (ct_col_list, ct_dtype_list)]\n",
    "\n",
    "        colname_and_dtype_str = ','.join(map(str, combi_ct_list))\n",
    "\n",
    "        return colname_and_dtype_str\n",
    "    \n",
    "    def get_colname_and_questionmark_to_insert_data(self, df):\n",
    "        '''\n",
    "        関数内容\n",
    "        ・insert intoに必要なカラム名と?マークを取得する関数\n",
    "        \n",
    "        '''\n",
    "        # 読み込んだデータのカラム名とデータ型を抽出し、それらをデータフレームに格納する関数の実行\n",
    "        df1 = self.extract_colname_and_dtype_from_dataframe(df)\n",
    "        \n",
    "        it_col_list = df1['カラム名'].tolist()\n",
    "        # カラム名に'/'が含まれているとSQLServerへのインポート時にエラーが発生するのでリネーム\n",
    "        it_col_list =['['+ col_name + ']' if '/' in col_name else col_name for col_name in it_col_list]\n",
    "        # カラム名先頭が数字の場合もSQLServerへのインポート時にエラーが発生するのでリネーム\n",
    "        it_col_list =['['+ col + ']' if re.match('^[0-9]', col) else col for col in it_col_list ]\n",
    "        \n",
    "        it_col_str = ','.join(map(str, it_col_list))\n",
    "        \n",
    "        questionmark_str = '?,'*len(df1)\n",
    "        # 最後の「,」は必要ない + ()を追加\n",
    "        questionmark_str = '(' + questionmark_str[:-1] + ')'\n",
    "        \n",
    "        return it_col_str, questionmark_str\n",
    "        \n",
    "\n",
    "    def create_tables_in_sqlserver(self, df):\n",
    "        '''\n",
    "        関数内容\n",
    "        ・データベース内にテーブルを作成する関数\n",
    "        '''\n",
    "        # create tableに必要なカラム名とデータ型を取得し、2つを特定の形式に並べた文字列を作成する関数を実行\n",
    "        #colname_and_dtype_str = get_colname_and_dtype_to_create_table(self, df=dtypes_df)\n",
    "        \n",
    "        conn, curs = self.connect_to_sqlserver()\n",
    "        colname_and_dtype_str = self.get_colname_and_dtype_to_create_table(df)\n",
    "\n",
    "        for file_name in self.file_name_list:\n",
    "            print(file_name+'テーブルをSQLServerに作成します。')\n",
    "            print(colname_and_dtype_str)\n",
    "            curs.execute(\n",
    "            'CREATE TABLE ' + file_name +\\\n",
    "            '(' + colname_and_dtype_str +')')\n",
    "            print(file_name+'テーブルをSQLServerに作成し終えました。')\n",
    "\n",
    "            conn.commit()\n",
    "            \n",
    "    def insert_into_sqlserver(self, df):\n",
    "        '''\n",
    "        関数内容\n",
    "        ・データベース内のテーブルにデータを追加する関数\n",
    "       \n",
    "        '''\n",
    "        \n",
    "        # insert intoに必要なカラム名と?マークを取得する関数を実行\n",
    "        #it_col_str, questionmark_str = get_colname_and_questionmark_to_insert_data(self, df=dtypes_df)\n",
    "        \n",
    "        conn, curs = self.connect_to_sqlserver()\n",
    "        \n",
    "        it_col_str, questionmark_str = self.get_colname_and_questionmark_to_insert_data(df)\n",
    "        \n",
    "        for file_name, df in zip(self.file_name_list, self.df_list):\n",
    "            print(file_name+'テーブルにデータを格納します。')\n",
    "            values_tuple = [tuple(row) for row in df.values]\n",
    "            # カラムが複数ある結果、挿入したい値が複数ある場合はcurs.executemanyを使う\n",
    "            curs.executemany(\n",
    "                'INSERT INTO ' + file_name +'(' + it_col_str + ')'+ 'VALUES ' + questionmark_str ,values_tuple\n",
    "            )\n",
    "            print(file_name+'テーブルにデータを格納し終えました。')\n",
    "\n",
    "            conn.commit()\n",
    "    \n",
    "    def disconnect_from_sqlserver(self):\n",
    "        '''\n",
    "        関数内容\n",
    "        ・SQLserverへの接続を切る関数\n",
    "        '''\n",
    "        conn, curs = self.connect_to_sqlserver()\n",
    "        \n",
    "        curs.close()\n",
    "        conn.close()"
   ]
  },
  {
   "cell_type": "code",
   "execution_count": 16,
   "metadata": {},
   "outputs": [],
   "source": [
    "# オブジェクトの作成 \n",
    "import_to_sql = ImportDataToSQLServer('C10000_database')"
   ]
  },
  {
   "cell_type": "code",
   "execution_count": 17,
   "metadata": {},
   "outputs": [
    {
     "data": {
      "text/plain": [
       "(<pyodbc.Connection at 0x205f8812b90>, <pyodbc.Cursor at 0x205f7db1378>)"
      ]
     },
     "execution_count": 17,
     "metadata": {},
     "output_type": "execute_result"
    }
   ],
   "source": [
    "# PythonからSQLserverへ接続する関数\n",
    "import_to_sql.connect_to_sqlserver()"
   ]
  },
  {
   "cell_type": "code",
   "execution_count": 10,
   "metadata": {
    "scrolled": false
   },
   "outputs": [
    {
     "name": "stdout",
     "output_type": "stream",
     "text": [
      "rcard_明細_201904テーブルをSQLServerに作成します。\n",
      "利用日 NVARCHAR(255),利用店名・商品名 NVARCHAR(255),利用者 NVARCHAR(255),支払方法 NVARCHAR(255),利用金額 NUMERIC(25),支払手数料 NUMERIC(25),支払総額 NUMERIC(25),[4月支払金額] NUMERIC(25),[5月繰越残高] NUMERIC(25),新規サイン NVARCHAR(255),[test/test] NVARCHAR(255)\n",
      "rcard_明細_201904テーブルをSQLServerに作成し終えました。\n"
     ]
    }
   ],
   "source": [
    "# 読み込んだデータのカラム名とデータ型を抽出し、それらをデータフレームに格納\n",
    "col_dtype_df = import_to_sql.extract_colname_and_dtype_from_dataframe(df)\n",
    "\n",
    "# データベース内にテーブルを作成\n",
    "import_to_sql.create_tables_in_sqlserver(df)"
   ]
  },
  {
   "cell_type": "code",
   "execution_count": 11,
   "metadata": {},
   "outputs": [
    {
     "name": "stdout",
     "output_type": "stream",
     "text": [
      "rcard_明細_201904テーブルにデータを格納します。\n",
      "rcard_明細_201904テーブルにデータを格納し終えました。\n"
     ]
    }
   ],
   "source": [
    "# データベース内のテーブルにデータを追加\n",
    "import_to_sql.insert_into_sqlserver(df)"
   ]
  },
  {
   "cell_type": "code",
   "execution_count": 18,
   "metadata": {},
   "outputs": [],
   "source": [
    "# SQLserverへの接続を切る\n",
    "import_to_sql.disconnect_from_sqlserver()"
   ]
  },
  {
   "cell_type": "code",
   "execution_count": 19,
   "metadata": {},
   "outputs": [
    {
     "data": {
      "text/plain": [
       "446"
      ]
     },
     "execution_count": 19,
     "metadata": {},
     "output_type": "execute_result"
    }
   ],
   "source": [
    "gc.collect()"
   ]
  },
  {
   "cell_type": "markdown",
   "metadata": {},
   "source": [
    "参考\n",
    "\n",
    "https://qiita.com/gaborotta/items/3f2f2fd492163a1ec007\n",
    "\n",
    "https://qiita.com/YoshitakaOkada/items/d6d97c5954adae148b7a"
   ]
  },
  {
   "cell_type": "code",
   "execution_count": null,
   "metadata": {},
   "outputs": [],
   "source": []
  }
 ],
 "metadata": {
  "kernelspec": {
   "display_name": "Python 3",
   "language": "python",
   "name": "python3"
  },
  "language_info": {
   "codemirror_mode": {
    "name": "ipython",
    "version": 3
   },
   "file_extension": ".py",
   "mimetype": "text/x-python",
   "name": "python",
   "nbconvert_exporter": "python",
   "pygments_lexer": "ipython3",
   "version": "3.6.8"
  }
 },
 "nbformat": 4,
 "nbformat_minor": 2
}
