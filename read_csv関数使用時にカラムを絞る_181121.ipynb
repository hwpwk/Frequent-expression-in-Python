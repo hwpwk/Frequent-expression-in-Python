{
 "cells": [
  {
   "cell_type": "code",
   "execution_count": 1,
   "metadata": {},
   "outputs": [],
   "source": [
    "# データ分析用のライブラリ\n",
    "import pandas as pd\n",
    "import numpy as np"
   ]
  },
  {
   "cell_type": "code",
   "execution_count": 2,
   "metadata": {},
   "outputs": [
    {
     "data": {
      "text/html": [
       "<div>\n",
       "<style>\n",
       "    .dataframe thead tr:only-child th {\n",
       "        text-align: right;\n",
       "    }\n",
       "\n",
       "    .dataframe thead th {\n",
       "        text-align: left;\n",
       "    }\n",
       "\n",
       "    .dataframe tbody tr th {\n",
       "        vertical-align: top;\n",
       "    }\n",
       "</style>\n",
       "<table border=\"1\" class=\"dataframe\">\n",
       "  <thead>\n",
       "    <tr style=\"text-align: right;\">\n",
       "      <th></th>\n",
       "      <th>surface</th>\n",
       "      <th>yomi</th>\n",
       "      <th>original</th>\n",
       "      <th>type</th>\n",
       "      <th>katsuyoukei</th>\n",
       "      <th>katsuyougata</th>\n",
       "      <th>内容</th>\n",
       "    </tr>\n",
       "  </thead>\n",
       "  <tbody>\n",
       "    <tr>\n",
       "      <th>0</th>\n",
       "      <td>neologd</td>\n",
       "      <td>ネオログディー</td>\n",
       "      <td>NEologd</td>\n",
       "      <td>名詞-固有名詞-一般</td>\n",
       "      <td>NaN</td>\n",
       "      <td>NaN</td>\n",
       "      <td>neologd_tagger.parse(text)で各単語の原形、品詞などが1行で連続して...</td>\n",
       "    </tr>\n",
       "    <tr>\n",
       "      <th>1</th>\n",
       "      <td>_</td>\n",
       "      <td>_</td>\n",
       "      <td>_</td>\n",
       "      <td>記号-一般</td>\n",
       "      <td>NaN</td>\n",
       "      <td>NaN</td>\n",
       "      <td>neologd_tagger.parse(text)で各単語の原形、品詞などが1行で連続して...</td>\n",
       "    </tr>\n",
       "    <tr>\n",
       "      <th>2</th>\n",
       "      <td>tagger</td>\n",
       "      <td>タガー</td>\n",
       "      <td>tagger</td>\n",
       "      <td>名詞-固有名詞-一般</td>\n",
       "      <td>NaN</td>\n",
       "      <td>NaN</td>\n",
       "      <td>neologd_tagger.parse(text)で各単語の原形、品詞などが1行で連続して...</td>\n",
       "    </tr>\n",
       "    <tr>\n",
       "      <th>3</th>\n",
       "      <td>.</td>\n",
       "      <td>.</td>\n",
       "      <td>.</td>\n",
       "      <td>記号-一般</td>\n",
       "      <td>NaN</td>\n",
       "      <td>NaN</td>\n",
       "      <td>neologd_tagger.parse(text)で各単語の原形、品詞などが1行で連続して...</td>\n",
       "    </tr>\n",
       "    <tr>\n",
       "      <th>4</th>\n",
       "      <td>parse</td>\n",
       "      <td>パース</td>\n",
       "      <td>Parse</td>\n",
       "      <td>名詞-固有名詞-一般</td>\n",
       "      <td>NaN</td>\n",
       "      <td>NaN</td>\n",
       "      <td>neologd_tagger.parse(text)で各単語の原形、品詞などが1行で連続して...</td>\n",
       "    </tr>\n",
       "  </tbody>\n",
       "</table>\n",
       "</div>"
      ],
      "text/plain": [
       "   surface     yomi original        type katsuyoukei katsuyougata  \\\n",
       "0  neologd  ネオログディー  NEologd  名詞-固有名詞-一般         NaN          NaN   \n",
       "1        _        _        _       記号-一般         NaN          NaN   \n",
       "2   tagger      タガー   tagger  名詞-固有名詞-一般         NaN          NaN   \n",
       "3        .        .        .       記号-一般         NaN          NaN   \n",
       "4    parse      パース    Parse  名詞-固有名詞-一般         NaN          NaN   \n",
       "\n",
       "                                                  内容  \n",
       "0  neologd_tagger.parse(text)で各単語の原形、品詞などが1行で連続して...  \n",
       "1  neologd_tagger.parse(text)で各単語の原形、品詞などが1行で連続して...  \n",
       "2  neologd_tagger.parse(text)で各単語の原形、品詞などが1行で連続して...  \n",
       "3  neologd_tagger.parse(text)で各単語の原形、品詞などが1行で連続して...  \n",
       "4  neologd_tagger.parse(text)で各単語の原形、品詞などが1行で連続して...  "
      ]
     },
     "execution_count": 2,
     "metadata": {},
     "output_type": "execute_result"
    }
   ],
   "source": [
    "df = pd.read_csv('all_text_wakatigaki.csv',encoding='utf-8')\n",
    "df.head()"
   ]
  },
  {
   "cell_type": "markdown",
   "metadata": {},
   "source": [
    "## データ読み込み時にカラムを絞る\n",
    "usecols=['xx', 'yy']を引数に与える"
   ]
  },
  {
   "cell_type": "code",
   "execution_count": 3,
   "metadata": {},
   "outputs": [
    {
     "data": {
      "text/html": [
       "<div>\n",
       "<style>\n",
       "    .dataframe thead tr:only-child th {\n",
       "        text-align: right;\n",
       "    }\n",
       "\n",
       "    .dataframe thead th {\n",
       "        text-align: left;\n",
       "    }\n",
       "\n",
       "    .dataframe tbody tr th {\n",
       "        vertical-align: top;\n",
       "    }\n",
       "</style>\n",
       "<table border=\"1\" class=\"dataframe\">\n",
       "  <thead>\n",
       "    <tr style=\"text-align: right;\">\n",
       "      <th></th>\n",
       "      <th>original</th>\n",
       "      <th>type</th>\n",
       "      <th>内容</th>\n",
       "    </tr>\n",
       "  </thead>\n",
       "  <tbody>\n",
       "    <tr>\n",
       "      <th>0</th>\n",
       "      <td>NEologd</td>\n",
       "      <td>名詞-固有名詞-一般</td>\n",
       "      <td>neologd_tagger.parse(text)で各単語の原形、品詞などが1行で連続して...</td>\n",
       "    </tr>\n",
       "    <tr>\n",
       "      <th>1</th>\n",
       "      <td>_</td>\n",
       "      <td>記号-一般</td>\n",
       "      <td>neologd_tagger.parse(text)で各単語の原形、品詞などが1行で連続して...</td>\n",
       "    </tr>\n",
       "    <tr>\n",
       "      <th>2</th>\n",
       "      <td>tagger</td>\n",
       "      <td>名詞-固有名詞-一般</td>\n",
       "      <td>neologd_tagger.parse(text)で各単語の原形、品詞などが1行で連続して...</td>\n",
       "    </tr>\n",
       "    <tr>\n",
       "      <th>3</th>\n",
       "      <td>.</td>\n",
       "      <td>記号-一般</td>\n",
       "      <td>neologd_tagger.parse(text)で各単語の原形、品詞などが1行で連続して...</td>\n",
       "    </tr>\n",
       "    <tr>\n",
       "      <th>4</th>\n",
       "      <td>Parse</td>\n",
       "      <td>名詞-固有名詞-一般</td>\n",
       "      <td>neologd_tagger.parse(text)で各単語の原形、品詞などが1行で連続して...</td>\n",
       "    </tr>\n",
       "  </tbody>\n",
       "</table>\n",
       "</div>"
      ],
      "text/plain": [
       "  original        type                                                 内容\n",
       "0  NEologd  名詞-固有名詞-一般  neologd_tagger.parse(text)で各単語の原形、品詞などが1行で連続して...\n",
       "1        _       記号-一般  neologd_tagger.parse(text)で各単語の原形、品詞などが1行で連続して...\n",
       "2   tagger  名詞-固有名詞-一般  neologd_tagger.parse(text)で各単語の原形、品詞などが1行で連続して...\n",
       "3        .       記号-一般  neologd_tagger.parse(text)で各単語の原形、品詞などが1行で連続して...\n",
       "4    Parse  名詞-固有名詞-一般  neologd_tagger.parse(text)で各単語の原形、品詞などが1行で連続して..."
      ]
     },
     "execution_count": 3,
     "metadata": {},
     "output_type": "execute_result"
    }
   ],
   "source": [
    "squeeze_df = pd.read_csv('all_text_wakatigaki.csv', usecols=['内容', 'original', 'type'] ,encoding='utf-8')\n",
    "squeeze_df.head()"
   ]
  },
  {
   "cell_type": "code",
   "execution_count": null,
   "metadata": {
    "collapsed": true
   },
   "outputs": [],
   "source": []
  }
 ],
 "metadata": {
  "kernelspec": {
   "display_name": "Python 3",
   "language": "python",
   "name": "python3"
  },
  "language_info": {
   "codemirror_mode": {
    "name": "ipython",
    "version": 3
   },
   "file_extension": ".py",
   "mimetype": "text/x-python",
   "name": "python",
   "nbconvert_exporter": "python",
   "pygments_lexer": "ipython3",
   "version": "3.6.3"
  }
 },
 "nbformat": 4,
 "nbformat_minor": 2
}
