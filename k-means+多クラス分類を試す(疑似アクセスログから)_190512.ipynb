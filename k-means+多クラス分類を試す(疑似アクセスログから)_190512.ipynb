{
 "cells": [
  {
   "cell_type": "code",
   "execution_count": 1,
   "metadata": {},
   "outputs": [],
   "source": [
    "# データ分析用のライブラリ\n",
    "import pandas as pd\n",
    "import numpy as np\n",
    "\n",
    "#前処理用ライブラリ\n",
    "from sklearn import preprocessing\n",
    "from sklearn.preprocessing import OneHotEncoder, LabelEncoder\n",
    "\n",
    "from sklearn.model_selection import ShuffleSplit\n",
    "from sklearn.model_selection import StratifiedShuffleSplit\n",
    "from sklearn.model_selection import train_test_split\n",
    "from sklearn.model_selection import LeaveOneOut\n",
    "from sklearn.model_selection import cross_validate\n",
    "from sklearn.model_selection import cross_val_score\n",
    "from sklearn.model_selection import KFold\n",
    "from sklearn.model_selection import StratifiedKFold\n",
    "from sklearn.model_selection import GridSearchCV\n",
    "\n",
    "# 機械学習モデル関連ライブラリ\n",
    "from sklearn.linear_model import LinearRegression\n",
    "from sklearn.linear_model import LogisticRegression\n",
    "from sklearn.ensemble import RandomForestClassifier\n",
    "from sklearn import svm\n",
    "from sklearn.tree import DecisionTreeClassifier\n",
    "from sklearn import neighbors\n",
    "\n",
    "# モデル評価関連ライブラリ\n",
    "from sklearn.metrics import confusion_matrix\n",
    "from sklearn.metrics import accuracy_score\n",
    "from sklearn.metrics import precision_score\n",
    "from sklearn.metrics import recall_score\n",
    "from sklearn.metrics import f1_score\n",
    "from sklearn.metrics import make_scorer\n",
    "from sklearn.metrics import classification_report, roc_auc_score, precision_recall_curve, auc, roc_curve"
   ]
  },
  {
   "cell_type": "code",
   "execution_count": 2,
   "metadata": {},
   "outputs": [
    {
     "data": {
      "text/html": [
       "<div>\n",
       "<style scoped>\n",
       "    .dataframe tbody tr th:only-of-type {\n",
       "        vertical-align: middle;\n",
       "    }\n",
       "\n",
       "    .dataframe tbody tr th {\n",
       "        vertical-align: top;\n",
       "    }\n",
       "\n",
       "    .dataframe thead th {\n",
       "        text-align: right;\n",
       "    }\n",
       "</style>\n",
       "<table border=\"1\" class=\"dataframe\">\n",
       "  <thead>\n",
       "    <tr style=\"text-align: right;\">\n",
       "      <th></th>\n",
       "      <th>visit_id</th>\n",
       "      <th>gv_jptop_flg</th>\n",
       "      <th>top_banner_click_flg</th>\n",
       "      <th>gv_bikelineup_flg</th>\n",
       "      <th>gv_bike_contents_flg</th>\n",
       "      <th>gv_bike_detail_flg</th>\n",
       "      <th>gv_welcab_flg</th>\n",
       "      <th>gv_gr_flg</th>\n",
       "      <th>gv_customize_flg</th>\n",
       "      <th>gv_webcatalog_flg</th>\n",
       "      <th>...</th>\n",
       "      <th>buy_used_bike_count</th>\n",
       "      <th>buy_new_bike_flg</th>\n",
       "      <th>buy_used_bike_flg</th>\n",
       "      <th>total_visit_count_before_buy</th>\n",
       "      <th>total_gv_bike_count_before_buy</th>\n",
       "      <th>landing_page_scroll_rate</th>\n",
       "      <th>landing_gv_time</th>\n",
       "      <th>is_buy_flg</th>\n",
       "      <th>is_before_buy_flg</th>\n",
       "      <th>is_after_buy_flg</th>\n",
       "    </tr>\n",
       "  </thead>\n",
       "  <tbody>\n",
       "  </tbody>\n",
       "</table>\n",
       "<p>0 rows × 72 columns</p>\n",
       "</div>"
      ],
      "text/plain": [
       "Empty DataFrame\n",
       "Columns: [visit_id, gv_jptop_flg, top_banner_click_flg, gv_bikelineup_flg, gv_bike_contents_flg, gv_bike_detail_flg, gv_welcab_flg, gv_gr_flg, gv_customize_flg, gv_webcatalog_flg, gv_dop_childseat_flg, gv_how2buy_flg, gv_testdriveguide_flg, gv_colors_testdrive_flg, gv_bike_search_flg, gv_t_up_flg, gv_ownersvoice_flg, gv_ownersvoice_form_flg, gv_faq_flg, gv_bike_faq_flg, gv_catalog_unreachedfaq_flg, gv_t_up_faq_flg, gv_nouki_faq_flg, gv_emergency_faq_flg, gv_navi_faq_flg, gv_ownersmanual_flg, gv_afterservice_flg, gv_owner_afterservice_flg, gv_recall_flg, gv_compare_flg, gv_tradein_flg, gv_estimate_flg, gv_dealer_estimate_flg, gv_3dsim_flg, gv_store_search_flg, gv_store_cv_flg, gv_store_detail_flg, gv_shopcalendar_flg, gv_catalog_flg, gv_catalog_input_flg, gv_catalog_selectdlr_flg, gv_catalog_confirm_flg, gv_trial_search_flg, gv_trial_form_flg, gv_sales_search_flg, gv_sales_form_flg, gv_mail_register_form_flg, gv_mail_register_transmission_flg, gv_mail_register_complete_flg, gv_mail_release_form_flg, gv_mail_release_transmission_flg, gv_mail_release_complete_flg, cv_maker_simulation_flg, cv_dealer_simulation_flg, cv_tradein_simulation_flg, cv_maker_catalog_entry_flg, cv_dealer_catalog_entry_flg, cv_test_drive_flg, cv_talk_reservation_flg, cv_adv_talk_reservation_flg, buy_bike_count, buy_new_bike_count, buy_used_bike_count, buy_new_bike_flg, buy_used_bike_flg, total_visit_count_before_buy, total_gv_bike_count_before_buy, landing_page_scroll_rate, landing_gv_time, is_buy_flg, is_before_buy_flg, is_after_buy_flg]\n",
       "Index: []\n",
       "\n",
       "[0 rows x 72 columns]"
      ]
     },
     "execution_count": 2,
     "metadata": {},
     "output_type": "execute_result"
    }
   ],
   "source": [
    "# カラムのみが格納されたテーブルを読み込み\n",
    "\n",
    "df = pd.read_excel('visit_access_log_190217.xlsx')\n",
    "df"
   ]
  },
  {
   "cell_type": "code",
   "execution_count": 3,
   "metadata": {
    "scrolled": true
   },
   "outputs": [],
   "source": [
    "'''カラム名末尾が「_flg」となっているカラムのみ抽出し、リストに格納する'''\n",
    "flg_df = df.filter(regex='_flg$').drop(['is_before_buy_flg','is_after_buy_flg'], axis=1)\n",
    "flg_col_list = flg_df.columns.tolist()"
   ]
  },
  {
   "cell_type": "code",
   "execution_count": 4,
   "metadata": {},
   "outputs": [
    {
     "data": {
      "text/plain": [
       "62"
      ]
     },
     "execution_count": 4,
     "metadata": {},
     "output_type": "execute_result"
    }
   ],
   "source": [
    "len(flg_col_list)"
   ]
  },
  {
   "cell_type": "markdown",
   "metadata": {},
   "source": [
    "## 乱数を使用したデータフレームを作成"
   ]
  },
  {
   "cell_type": "code",
   "execution_count": 5,
   "metadata": {
    "scrolled": true
   },
   "outputs": [
    {
     "data": {
      "text/plain": [
       "(10000, 63)"
      ]
     },
     "metadata": {},
     "output_type": "display_data"
    },
    {
     "data": {
      "text/html": [
       "<div>\n",
       "<style scoped>\n",
       "    .dataframe tbody tr th:only-of-type {\n",
       "        vertical-align: middle;\n",
       "    }\n",
       "\n",
       "    .dataframe tbody tr th {\n",
       "        vertical-align: top;\n",
       "    }\n",
       "\n",
       "    .dataframe thead th {\n",
       "        text-align: right;\n",
       "    }\n",
       "</style>\n",
       "<table border=\"1\" class=\"dataframe\">\n",
       "  <thead>\n",
       "    <tr style=\"text-align: right;\">\n",
       "      <th></th>\n",
       "      <th>gv_jptop_flg</th>\n",
       "      <th>top_banner_click_flg</th>\n",
       "      <th>gv_bikelineup_flg</th>\n",
       "      <th>gv_bike_contents_flg</th>\n",
       "      <th>gv_bike_detail_flg</th>\n",
       "      <th>gv_welcab_flg</th>\n",
       "      <th>gv_gr_flg</th>\n",
       "      <th>gv_customize_flg</th>\n",
       "      <th>gv_webcatalog_flg</th>\n",
       "      <th>gv_dop_childseat_flg</th>\n",
       "      <th>...</th>\n",
       "      <th>cv_tradein_simulation_flg</th>\n",
       "      <th>cv_maker_catalog_entry_flg</th>\n",
       "      <th>cv_dealer_catalog_entry_flg</th>\n",
       "      <th>cv_test_drive_flg</th>\n",
       "      <th>cv_talk_reservation_flg</th>\n",
       "      <th>cv_adv_talk_reservation_flg</th>\n",
       "      <th>buy_new_bike_flg</th>\n",
       "      <th>buy_used_bike_flg</th>\n",
       "      <th>is_buy_flg</th>\n",
       "      <th>visit_id</th>\n",
       "    </tr>\n",
       "  </thead>\n",
       "  <tbody>\n",
       "    <tr>\n",
       "      <th>0</th>\n",
       "      <td>0</td>\n",
       "      <td>1</td>\n",
       "      <td>1</td>\n",
       "      <td>0</td>\n",
       "      <td>1</td>\n",
       "      <td>1</td>\n",
       "      <td>1</td>\n",
       "      <td>1</td>\n",
       "      <td>1</td>\n",
       "      <td>1</td>\n",
       "      <td>...</td>\n",
       "      <td>1</td>\n",
       "      <td>1</td>\n",
       "      <td>0</td>\n",
       "      <td>1</td>\n",
       "      <td>0</td>\n",
       "      <td>0</td>\n",
       "      <td>1</td>\n",
       "      <td>1</td>\n",
       "      <td>0</td>\n",
       "      <td>0</td>\n",
       "    </tr>\n",
       "    <tr>\n",
       "      <th>1</th>\n",
       "      <td>1</td>\n",
       "      <td>0</td>\n",
       "      <td>1</td>\n",
       "      <td>0</td>\n",
       "      <td>0</td>\n",
       "      <td>0</td>\n",
       "      <td>0</td>\n",
       "      <td>0</td>\n",
       "      <td>1</td>\n",
       "      <td>1</td>\n",
       "      <td>...</td>\n",
       "      <td>0</td>\n",
       "      <td>1</td>\n",
       "      <td>0</td>\n",
       "      <td>1</td>\n",
       "      <td>0</td>\n",
       "      <td>1</td>\n",
       "      <td>1</td>\n",
       "      <td>1</td>\n",
       "      <td>1</td>\n",
       "      <td>1</td>\n",
       "    </tr>\n",
       "    <tr>\n",
       "      <th>2</th>\n",
       "      <td>1</td>\n",
       "      <td>0</td>\n",
       "      <td>1</td>\n",
       "      <td>1</td>\n",
       "      <td>1</td>\n",
       "      <td>1</td>\n",
       "      <td>0</td>\n",
       "      <td>1</td>\n",
       "      <td>1</td>\n",
       "      <td>0</td>\n",
       "      <td>...</td>\n",
       "      <td>0</td>\n",
       "      <td>0</td>\n",
       "      <td>0</td>\n",
       "      <td>1</td>\n",
       "      <td>0</td>\n",
       "      <td>1</td>\n",
       "      <td>0</td>\n",
       "      <td>1</td>\n",
       "      <td>0</td>\n",
       "      <td>2</td>\n",
       "    </tr>\n",
       "    <tr>\n",
       "      <th>3</th>\n",
       "      <td>0</td>\n",
       "      <td>0</td>\n",
       "      <td>0</td>\n",
       "      <td>0</td>\n",
       "      <td>1</td>\n",
       "      <td>0</td>\n",
       "      <td>0</td>\n",
       "      <td>1</td>\n",
       "      <td>0</td>\n",
       "      <td>0</td>\n",
       "      <td>...</td>\n",
       "      <td>0</td>\n",
       "      <td>0</td>\n",
       "      <td>1</td>\n",
       "      <td>0</td>\n",
       "      <td>1</td>\n",
       "      <td>1</td>\n",
       "      <td>1</td>\n",
       "      <td>1</td>\n",
       "      <td>0</td>\n",
       "      <td>3</td>\n",
       "    </tr>\n",
       "    <tr>\n",
       "      <th>4</th>\n",
       "      <td>0</td>\n",
       "      <td>0</td>\n",
       "      <td>1</td>\n",
       "      <td>1</td>\n",
       "      <td>1</td>\n",
       "      <td>0</td>\n",
       "      <td>1</td>\n",
       "      <td>1</td>\n",
       "      <td>1</td>\n",
       "      <td>1</td>\n",
       "      <td>...</td>\n",
       "      <td>0</td>\n",
       "      <td>1</td>\n",
       "      <td>0</td>\n",
       "      <td>0</td>\n",
       "      <td>1</td>\n",
       "      <td>1</td>\n",
       "      <td>1</td>\n",
       "      <td>1</td>\n",
       "      <td>1</td>\n",
       "      <td>4</td>\n",
       "    </tr>\n",
       "  </tbody>\n",
       "</table>\n",
       "<p>5 rows × 63 columns</p>\n",
       "</div>"
      ],
      "text/plain": [
       "   gv_jptop_flg  top_banner_click_flg  gv_bikelineup_flg  \\\n",
       "0             0                     1                  1   \n",
       "1             1                     0                  1   \n",
       "2             1                     0                  1   \n",
       "3             0                     0                  0   \n",
       "4             0                     0                  1   \n",
       "\n",
       "   gv_bike_contents_flg  gv_bike_detail_flg  gv_welcab_flg  gv_gr_flg  \\\n",
       "0                     0                   1              1          1   \n",
       "1                     0                   0              0          0   \n",
       "2                     1                   1              1          0   \n",
       "3                     0                   1              0          0   \n",
       "4                     1                   1              0          1   \n",
       "\n",
       "   gv_customize_flg  gv_webcatalog_flg  gv_dop_childseat_flg  ...  \\\n",
       "0                 1                  1                     1  ...   \n",
       "1                 0                  1                     1  ...   \n",
       "2                 1                  1                     0  ...   \n",
       "3                 1                  0                     0  ...   \n",
       "4                 1                  1                     1  ...   \n",
       "\n",
       "   cv_tradein_simulation_flg  cv_maker_catalog_entry_flg  \\\n",
       "0                          1                           1   \n",
       "1                          0                           1   \n",
       "2                          0                           0   \n",
       "3                          0                           0   \n",
       "4                          0                           1   \n",
       "\n",
       "   cv_dealer_catalog_entry_flg  cv_test_drive_flg  cv_talk_reservation_flg  \\\n",
       "0                            0                  1                        0   \n",
       "1                            0                  1                        0   \n",
       "2                            0                  1                        0   \n",
       "3                            1                  0                        1   \n",
       "4                            0                  0                        1   \n",
       "\n",
       "   cv_adv_talk_reservation_flg  buy_new_bike_flg  buy_used_bike_flg  \\\n",
       "0                            0                 1                  1   \n",
       "1                            1                 1                  1   \n",
       "2                            1                 0                  1   \n",
       "3                            1                 1                  1   \n",
       "4                            1                 1                  1   \n",
       "\n",
       "   is_buy_flg  visit_id  \n",
       "0           0         0  \n",
       "1           1         1  \n",
       "2           0         2  \n",
       "3           0         3  \n",
       "4           1         4  \n",
       "\n",
       "[5 rows x 63 columns]"
      ]
     },
     "metadata": {},
     "output_type": "display_data"
    }
   ],
   "source": [
    "# 乱数を使用して10000×62のデータフレームを作成\n",
    "np.random.seed(0)\n",
    "\n",
    "log_df = pd.DataFrame(np.random.randint(low=0, high=2, size=(10000, 62)), columns=flg_col_list)\n",
    "log_df['visit_id'] = range(len(log_df))\n",
    "\n",
    "display(log_df.shape, log_df.head())"
   ]
  },
  {
   "cell_type": "markdown",
   "metadata": {},
   "source": [
    "# k-meansを実行\n",
    "参考：https://qiita.com/maskot1977/items/34158d044711231c4292"
   ]
  },
  {
   "cell_type": "code",
   "execution_count": 6,
   "metadata": {},
   "outputs": [],
   "source": [
    "def execute_kmeans(df, num, s_col_num, e_col_num, new_col):\n",
    "    '''\n",
    "    関数内容\n",
    "    ・k-meansを実行し、実行結果を新規作成カラムに格納する関数\n",
    "    Input\n",
    "    ・df：データフレーム\n",
    "    ・num：クラスタ数\n",
    "    ・s_col_num：データフレームの列の左端の列番号\n",
    "    ・e_col_num：データフレームの列の右端の列番号\n",
    "    ・new_col：k-meansの実行結果を格納するカラム名\n",
    "    \n",
    "    '''\n",
    "    \n",
    "    from sklearn.cluster import KMeans\n",
    "    \n",
    "    pred = KMeans(n_clusters=num).fit_predict(df.iloc[:, s_col_num:e_col_num])\n",
    "\n",
    "    df[new_col] = pred\n",
    "    \n",
    "    return df"
   ]
  },
  {
   "cell_type": "code",
   "execution_count": 7,
   "metadata": {},
   "outputs": [
    {
     "data": {
      "text/html": [
       "<div>\n",
       "<style scoped>\n",
       "    .dataframe tbody tr th:only-of-type {\n",
       "        vertical-align: middle;\n",
       "    }\n",
       "\n",
       "    .dataframe tbody tr th {\n",
       "        vertical-align: top;\n",
       "    }\n",
       "\n",
       "    .dataframe thead th {\n",
       "        text-align: right;\n",
       "    }\n",
       "</style>\n",
       "<table border=\"1\" class=\"dataframe\">\n",
       "  <thead>\n",
       "    <tr style=\"text-align: right;\">\n",
       "      <th></th>\n",
       "      <th>gv_jptop_flg</th>\n",
       "      <th>top_banner_click_flg</th>\n",
       "      <th>gv_bikelineup_flg</th>\n",
       "      <th>gv_bike_contents_flg</th>\n",
       "      <th>gv_bike_detail_flg</th>\n",
       "      <th>gv_welcab_flg</th>\n",
       "      <th>gv_gr_flg</th>\n",
       "      <th>gv_customize_flg</th>\n",
       "      <th>gv_webcatalog_flg</th>\n",
       "      <th>gv_dop_childseat_flg</th>\n",
       "      <th>...</th>\n",
       "      <th>cv_maker_catalog_entry_flg</th>\n",
       "      <th>cv_dealer_catalog_entry_flg</th>\n",
       "      <th>cv_test_drive_flg</th>\n",
       "      <th>cv_talk_reservation_flg</th>\n",
       "      <th>cv_adv_talk_reservation_flg</th>\n",
       "      <th>buy_new_bike_flg</th>\n",
       "      <th>buy_used_bike_flg</th>\n",
       "      <th>is_buy_flg</th>\n",
       "      <th>visit_id</th>\n",
       "      <th>cluster</th>\n",
       "    </tr>\n",
       "  </thead>\n",
       "  <tbody>\n",
       "    <tr>\n",
       "      <th>0</th>\n",
       "      <td>0</td>\n",
       "      <td>1</td>\n",
       "      <td>1</td>\n",
       "      <td>0</td>\n",
       "      <td>1</td>\n",
       "      <td>1</td>\n",
       "      <td>1</td>\n",
       "      <td>1</td>\n",
       "      <td>1</td>\n",
       "      <td>1</td>\n",
       "      <td>...</td>\n",
       "      <td>1</td>\n",
       "      <td>0</td>\n",
       "      <td>1</td>\n",
       "      <td>0</td>\n",
       "      <td>0</td>\n",
       "      <td>1</td>\n",
       "      <td>1</td>\n",
       "      <td>0</td>\n",
       "      <td>0</td>\n",
       "      <td>4</td>\n",
       "    </tr>\n",
       "    <tr>\n",
       "      <th>1</th>\n",
       "      <td>1</td>\n",
       "      <td>0</td>\n",
       "      <td>1</td>\n",
       "      <td>0</td>\n",
       "      <td>0</td>\n",
       "      <td>0</td>\n",
       "      <td>0</td>\n",
       "      <td>0</td>\n",
       "      <td>1</td>\n",
       "      <td>1</td>\n",
       "      <td>...</td>\n",
       "      <td>1</td>\n",
       "      <td>0</td>\n",
       "      <td>1</td>\n",
       "      <td>0</td>\n",
       "      <td>1</td>\n",
       "      <td>1</td>\n",
       "      <td>1</td>\n",
       "      <td>1</td>\n",
       "      <td>1</td>\n",
       "      <td>2</td>\n",
       "    </tr>\n",
       "  </tbody>\n",
       "</table>\n",
       "<p>2 rows × 64 columns</p>\n",
       "</div>"
      ],
      "text/plain": [
       "   gv_jptop_flg  top_banner_click_flg  gv_bikelineup_flg  \\\n",
       "0             0                     1                  1   \n",
       "1             1                     0                  1   \n",
       "\n",
       "   gv_bike_contents_flg  gv_bike_detail_flg  gv_welcab_flg  gv_gr_flg  \\\n",
       "0                     0                   1              1          1   \n",
       "1                     0                   0              0          0   \n",
       "\n",
       "   gv_customize_flg  gv_webcatalog_flg  gv_dop_childseat_flg  ...  \\\n",
       "0                 1                  1                     1  ...   \n",
       "1                 0                  1                     1  ...   \n",
       "\n",
       "   cv_maker_catalog_entry_flg  cv_dealer_catalog_entry_flg  cv_test_drive_flg  \\\n",
       "0                           1                            0                  1   \n",
       "1                           1                            0                  1   \n",
       "\n",
       "   cv_talk_reservation_flg  cv_adv_talk_reservation_flg  buy_new_bike_flg  \\\n",
       "0                        0                            0                 1   \n",
       "1                        0                            1                 1   \n",
       "\n",
       "   buy_used_bike_flg  is_buy_flg  visit_id  cluster  \n",
       "0                  1           0         0        4  \n",
       "1                  1           1         1        2  \n",
       "\n",
       "[2 rows x 64 columns]"
      ]
     },
     "execution_count": 7,
     "metadata": {},
     "output_type": "execute_result"
    }
   ],
   "source": [
    "new_log_df = execute_kmeans(log_df, 6, 0, -1, 'cluster')\n",
    "\n",
    "new_log_df.head(2)"
   ]
  },
  {
   "cell_type": "code",
   "execution_count": 8,
   "metadata": {},
   "outputs": [
    {
     "data": {
      "text/plain": [
       "2    1715\n",
       "5    1703\n",
       "1    1663\n",
       "4    1652\n",
       "0    1641\n",
       "3    1626\n",
       "Name: cluster, dtype: int64"
      ]
     },
     "execution_count": 8,
     "metadata": {},
     "output_type": "execute_result"
    }
   ],
   "source": [
    "new_log_df['cluster'].value_counts()"
   ]
  },
  {
   "cell_type": "markdown",
   "metadata": {},
   "source": [
    "## 説明変数と目的変数を設定"
   ]
  },
  {
   "cell_type": "code",
   "execution_count": 9,
   "metadata": {},
   "outputs": [],
   "source": [
    "X = new_log_df.drop(['cluster'], axis=1)\n",
    "y = new_log_df['cluster']"
   ]
  },
  {
   "cell_type": "markdown",
   "metadata": {},
   "source": [
    "## 学習データとテストデータに分割"
   ]
  },
  {
   "cell_type": "code",
   "execution_count": 10,
   "metadata": {},
   "outputs": [],
   "source": [
    "# X[train_index]→X.loc[train_index]に変更すればエラーなく実行可能に\n",
    "# https://stackoverflow.com/questions/51091132/pandas-and-scikit-learn-keyerror-not-in-index\n",
    "stratifiedKFold = StratifiedKFold(n_splits=5, shuffle=True, random_state=0)\n",
    "\n",
    "for train_index, test_index in stratifiedKFold.split(X, y):\n",
    "    train_X, test_X = X.loc[train_index], X.loc[test_index]\n",
    "    train_y, test_y = y.loc[train_index], y.loc[test_index]"
   ]
  },
  {
   "cell_type": "markdown",
   "metadata": {},
   "source": [
    "## 学習\n",
    "ランダムフォレストにおける各パラメータの意味はhttps://data-science.gr.jp/implementation/iml_sklearn_random_forest.html"
   ]
  },
  {
   "cell_type": "code",
   "execution_count": 11,
   "metadata": {},
   "outputs": [],
   "source": [
    "model = RandomForestClassifier(n_estimators=50, max_depth=10, random_state=0).fit(train_X, train_y)"
   ]
  },
  {
   "cell_type": "markdown",
   "metadata": {},
   "source": [
    "## 予測"
   ]
  },
  {
   "cell_type": "code",
   "execution_count": 12,
   "metadata": {},
   "outputs": [
    {
     "data": {
      "text/plain": [
       "array([5, 3, 2, 2, 4])"
      ]
     },
     "execution_count": 12,
     "metadata": {},
     "output_type": "execute_result"
    }
   ],
   "source": [
    "pred_y = model.predict(test_X)\n",
    "pred_y[0:5]"
   ]
  },
  {
   "cell_type": "code",
   "execution_count": 13,
   "metadata": {},
   "outputs": [
    {
     "data": {
      "text/plain": [
       "0.6676676676676677"
      ]
     },
     "execution_count": 13,
     "metadata": {},
     "output_type": "execute_result"
    }
   ],
   "source": [
    "# 正解率\n",
    "model.score(test_X, test_y)"
   ]
  },
  {
   "cell_type": "markdown",
   "metadata": {},
   "source": [
    "## 混同行列を算出"
   ]
  },
  {
   "cell_type": "code",
   "execution_count": 14,
   "metadata": {},
   "outputs": [
    {
     "data": {
      "text/plain": [
       "array([[226,  15,  24,  13,  27,  23],\n",
       "       [ 22, 205,  42,  13,  31,  19],\n",
       "       [ 12,  22, 262,  10,  15,  22],\n",
       "       [ 18,  24,  26, 208,  24,  25],\n",
       "       [ 22,  38,  35,  20, 201,  14],\n",
       "       [ 22,  16,  27,  21,  22, 232]], dtype=int64)"
      ]
     },
     "execution_count": 14,
     "metadata": {},
     "output_type": "execute_result"
    }
   ],
   "source": [
    "confusion_matrix(test_y, pred_y)"
   ]
  },
  {
   "cell_type": "markdown",
   "metadata": {},
   "source": [
    "## 正解率・適合率・再現率・F値を算出"
   ]
  },
  {
   "cell_type": "code",
   "execution_count": 15,
   "metadata": {},
   "outputs": [
    {
     "name": "stdout",
     "output_type": "stream",
     "text": [
      "              precision    recall  f1-score   support\n",
      "\n",
      "           0       0.70      0.69      0.70       328\n",
      "           1       0.64      0.62      0.63       332\n",
      "           2       0.63      0.76      0.69       343\n",
      "           3       0.73      0.64      0.68       325\n",
      "           4       0.63      0.61      0.62       330\n",
      "           5       0.69      0.68      0.69       340\n",
      "\n",
      "   micro avg       0.67      0.67      0.67      1998\n",
      "   macro avg       0.67      0.67      0.67      1998\n",
      "weighted avg       0.67      0.67      0.67      1998\n",
      "\n"
     ]
    }
   ],
   "source": [
    "# 適合率・検出率・F値をまとめて表示するsklearn.metrics.classification_report\n",
    "# 出力部分の「0」～「5」はラベル、「support」は「各ラベルのデータ数」を意味する\n",
    "print(classification_report(test_y, pred_y))"
   ]
  },
  {
   "cell_type": "markdown",
   "metadata": {},
   "source": [
    "##### 参考：https://github.com/hwpwk/Frequent-expression-in-Python/blob/680bd8cb5f818bb7bc756ed70529b32e85422340/%E7%96%91%E4%BC%BC%E3%82%A2%E3%82%AF%E3%82%BB%E3%82%B9%E3%83%AD%E3%82%B0%E3%81%8B%E3%82%89%E4%BA%88%E6%B8%AC%E3%83%A2%E3%83%87%E3%83%AB%E4%BD%9C%E6%88%90_190217.ipynb"
   ]
  },
  {
   "cell_type": "code",
   "execution_count": null,
   "metadata": {},
   "outputs": [],
   "source": []
  }
 ],
 "metadata": {
  "kernelspec": {
   "display_name": "Python 3",
   "language": "python",
   "name": "python3"
  },
  "language_info": {
   "codemirror_mode": {
    "name": "ipython",
    "version": 3
   },
   "file_extension": ".py",
   "mimetype": "text/x-python",
   "name": "python",
   "nbconvert_exporter": "python",
   "pygments_lexer": "ipython3",
   "version": "3.6.8"
  }
 },
 "nbformat": 4,
 "nbformat_minor": 2
}
