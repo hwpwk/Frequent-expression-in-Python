{
 "cells": [
  {
   "cell_type": "code",
   "execution_count": 1,
   "metadata": {
    "collapsed": true
   },
   "outputs": [],
   "source": [
    "# データ分析用のライブラリ\n",
    "import pandas as pd\n",
    "import numpy as np"
   ]
  },
  {
   "cell_type": "code",
   "execution_count": 2,
   "metadata": {},
   "outputs": [
    {
     "data": {
      "text/html": [
       "<div>\n",
       "<style>\n",
       "    .dataframe thead tr:only-child th {\n",
       "        text-align: right;\n",
       "    }\n",
       "\n",
       "    .dataframe thead th {\n",
       "        text-align: left;\n",
       "    }\n",
       "\n",
       "    .dataframe tbody tr th {\n",
       "        vertical-align: top;\n",
       "    }\n",
       "</style>\n",
       "<table border=\"1\" class=\"dataframe\">\n",
       "  <thead>\n",
       "    <tr style=\"text-align: right;\">\n",
       "      <th></th>\n",
       "      <th>visit_id</th>\n",
       "      <th>view_jptop_flg</th>\n",
       "      <th>top_banner_click_flg</th>\n",
       "      <th>view_history_flg</th>\n",
       "      <th>view_carlineup_flg</th>\n",
       "      <th>view_car_contents_flg</th>\n",
       "      <th>view_car_detail_flg</th>\n",
       "      <th>view_welcab_flg</th>\n",
       "      <th>view_gr_flg</th>\n",
       "      <th>view_customize_flg</th>\n",
       "      <th>...</th>\n",
       "      <th>buy_used_car_count</th>\n",
       "      <th>buy_new_car_flg</th>\n",
       "      <th>buy_used_car_flg</th>\n",
       "      <th>total_visit_count_before_buy</th>\n",
       "      <th>total_view_car_count_before_buy</th>\n",
       "      <th>landing_page_scroll_rate</th>\n",
       "      <th>landing_view_time</th>\n",
       "      <th>is_buy</th>\n",
       "      <th>is_before_buy</th>\n",
       "      <th>is_after_buy</th>\n",
       "    </tr>\n",
       "  </thead>\n",
       "  <tbody>\n",
       "  </tbody>\n",
       "</table>\n",
       "<p>0 rows × 76 columns</p>\n",
       "</div>"
      ],
      "text/plain": [
       "Empty DataFrame\n",
       "Columns: [visit_id, view_jptop_flg, top_banner_click_flg, view_history_flg, view_carlineup_flg, view_car_contents_flg, view_car_detail_flg, view_welcab_flg, view_gr_flg, view_customize_flg, view_webcatalog_flg, view_dop_flg, view_naviupdate_flg, view_navimanual_flg, view_dop_childseat_flg, view_how2buy_flg, view_testdriveguide_flg, view_colors_testdrive_flg, view_ucar_search_flg, view_t_up_flg, view_ownersvoice_flg, view_ownersvoice_form_flg, view_faq_flg, view_car_faq_flg, view_catalog_unreachedfaq_flg, view_t_up_faq_flg, view_nouki_faq_flg, view_emergency_faq_flg, view_navi_faq_flg, view_ownersmanual_flg, view_afterservice_flg, view_owner_afterservice_flg, view_recall_flg, view_compare_flg, view_tradein_flg, view_estimate_flg, view_dealer_estimate_flg, view_3dsim_flg, view_store_search_flg, view_store_cv_flg, view_store_detail_flg, view_shopcalendar_flg, view_catalog_flg, view_catalog_input_flg, view_catalog_selectdlr_flg, view_catalog_confirm_flg, view_trial_search_flg, view_trial_form_flg, view_sales_search_flg, view_sales_form_flg, view_mail_register_form_flg, view_mail_register_transmission_flg, view_mail_register_complete_flg, view_mail_release_form_flg, view_mail_release_transmission_flg, view_mail_release_complete_flg, cv_maker_simulation_flg, cv_dealer_simulation_flg, cv_tradein_simulation_flg, cv_maker_catalog_entry_flg, cv_dealer_catalog_entry_flg, cv_test_drive_flg, cv_talk_reservation_flg, cv_adv_talk_reservation_flg, buy_car_count, buy_new_car_count, buy_used_car_count, buy_new_car_flg, buy_used_car_flg, total_visit_count_before_buy, total_view_car_count_before_buy, landing_page_scroll_rate, landing_view_time, is_buy, is_before_buy, is_after_buy]\n",
       "Index: []\n",
       "\n",
       "[0 rows x 76 columns]"
      ]
     },
     "execution_count": 2,
     "metadata": {},
     "output_type": "execute_result"
    }
   ],
   "source": [
    "df = pd.read_excel('visit_access_log_190216.xlsx')\n",
    "df"
   ]
  },
  {
   "cell_type": "markdown",
   "metadata": {},
   "source": [
    "### カラム名末尾が「_flg」となっているカラムのみ抽出"
   ]
  },
  {
   "cell_type": "code",
   "execution_count": 5,
   "metadata": {
    "scrolled": true
   },
   "outputs": [
    {
     "data": {
      "text/plain": [
       "['view_jptop_flg', 'top_banner_click_flg', 'view_history_flg']"
      ]
     },
     "execution_count": 5,
     "metadata": {},
     "output_type": "execute_result"
    }
   ],
   "source": [
    "flg_df = df.filter(regex='_flg$')\n",
    "flg_df.columns.tolist()[0:3]"
   ]
  },
  {
   "cell_type": "markdown",
   "metadata": {},
   "source": [
    "# カラム名末尾が「_flg」ではないカラムのみ抽出\n",
    "参考URL：http://www-creators.com/archives/1827"
   ]
  },
  {
   "cell_type": "code",
   "execution_count": 8,
   "metadata": {},
   "outputs": [
    {
     "data": {
      "text/html": [
       "<div>\n",
       "<style>\n",
       "    .dataframe thead tr:only-child th {\n",
       "        text-align: right;\n",
       "    }\n",
       "\n",
       "    .dataframe thead th {\n",
       "        text-align: left;\n",
       "    }\n",
       "\n",
       "    .dataframe tbody tr th {\n",
       "        vertical-align: top;\n",
       "    }\n",
       "</style>\n",
       "<table border=\"1\" class=\"dataframe\">\n",
       "  <thead>\n",
       "    <tr style=\"text-align: right;\">\n",
       "      <th></th>\n",
       "      <th>visit_id</th>\n",
       "      <th>buy_car_count</th>\n",
       "      <th>buy_new_car_count</th>\n",
       "      <th>buy_used_car_count</th>\n",
       "      <th>total_visit_count_before_buy</th>\n",
       "      <th>total_view_car_count_before_buy</th>\n",
       "      <th>landing_page_scroll_rate</th>\n",
       "      <th>landing_view_time</th>\n",
       "      <th>is_buy</th>\n",
       "      <th>is_before_buy</th>\n",
       "      <th>is_after_buy</th>\n",
       "    </tr>\n",
       "  </thead>\n",
       "  <tbody>\n",
       "  </tbody>\n",
       "</table>\n",
       "</div>"
      ],
      "text/plain": [
       "Empty DataFrame\n",
       "Columns: [visit_id, buy_car_count, buy_new_car_count, buy_used_car_count, total_visit_count_before_buy, total_view_car_count_before_buy, landing_page_scroll_rate, landing_view_time, is_buy, is_before_buy, is_after_buy]\n",
       "Index: []"
      ]
     },
     "execution_count": 8,
     "metadata": {},
     "output_type": "execute_result"
    }
   ],
   "source": [
    "not_flg_df = df.filter(regex='^.*(?<!_flg)$')\n",
    "not_flg_df"
   ]
  },
  {
   "cell_type": "code",
   "execution_count": 10,
   "metadata": {},
   "outputs": [
    {
     "data": {
      "text/plain": [
       "76"
      ]
     },
     "metadata": {},
     "output_type": "display_data"
    },
    {
     "data": {
      "text/plain": [
       "65"
      ]
     },
     "metadata": {},
     "output_type": "display_data"
    },
    {
     "data": {
      "text/plain": [
       "11"
      ]
     },
     "metadata": {},
     "output_type": "display_data"
    }
   ],
   "source": [
    "# それそれ抽出したカラム数を確認\n",
    "display(df.shape[1], flg_df.shape[1], not_flg_df.shape[1])"
   ]
  },
  {
   "cell_type": "code",
   "execution_count": null,
   "metadata": {
    "collapsed": true
   },
   "outputs": [],
   "source": []
  }
 ],
 "metadata": {
  "kernelspec": {
   "display_name": "Python 3",
   "language": "python",
   "name": "python3"
  },
  "language_info": {
   "codemirror_mode": {
    "name": "ipython",
    "version": 3
   },
   "file_extension": ".py",
   "mimetype": "text/x-python",
   "name": "python",
   "nbconvert_exporter": "python",
   "pygments_lexer": "ipython3",
   "version": "3.6.3"
  }
 },
 "nbformat": 4,
 "nbformat_minor": 2
}
