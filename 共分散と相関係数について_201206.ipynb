{
 "cells": [
  {
   "cell_type": "code",
   "execution_count": 1,
   "metadata": {},
   "outputs": [],
   "source": [
    "import gc\n",
    "\n",
    "import pandas as pd\n",
    "import numpy as np\n",
    "\n",
    "# グラフ描画\n",
    "from matplotlib import pylab as plt\n",
    "import seaborn as sns\n",
    "%matplotlib inline\n",
    "\n",
    "# グラフを横長にする\n",
    "from matplotlib.pylab import rcParams\n",
    "rcParams['figure.figsize'] = 30, 16"
   ]
  },
  {
   "cell_type": "code",
   "execution_count": 2,
   "metadata": {},
   "outputs": [
    {
     "data": {
      "text/html": [
       "<div>\n",
       "<style scoped>\n",
       "    .dataframe tbody tr th:only-of-type {\n",
       "        vertical-align: middle;\n",
       "    }\n",
       "\n",
       "    .dataframe tbody tr th {\n",
       "        vertical-align: top;\n",
       "    }\n",
       "\n",
       "    .dataframe thead th {\n",
       "        text-align: right;\n",
       "    }\n",
       "</style>\n",
       "<table border=\"1\" class=\"dataframe\">\n",
       "  <thead>\n",
       "    <tr style=\"text-align: right;\">\n",
       "      <th></th>\n",
       "      <th>日付</th>\n",
       "      <th>売上</th>\n",
       "    </tr>\n",
       "  </thead>\n",
       "  <tbody>\n",
       "    <tr>\n",
       "      <th>0</th>\n",
       "      <td>2016-06-30</td>\n",
       "      <td>10</td>\n",
       "    </tr>\n",
       "    <tr>\n",
       "      <th>1</th>\n",
       "      <td>2016-09-30</td>\n",
       "      <td>30</td>\n",
       "    </tr>\n",
       "    <tr>\n",
       "      <th>2</th>\n",
       "      <td>2016-12-31</td>\n",
       "      <td>70</td>\n",
       "    </tr>\n",
       "    <tr>\n",
       "      <th>3</th>\n",
       "      <td>2017-03-31</td>\n",
       "      <td>90</td>\n",
       "    </tr>\n",
       "    <tr>\n",
       "      <th>4</th>\n",
       "      <td>2017-06-30</td>\n",
       "      <td>100</td>\n",
       "    </tr>\n",
       "  </tbody>\n",
       "</table>\n",
       "</div>"
      ],
      "text/plain": [
       "           日付   売上\n",
       "0  2016-06-30   10\n",
       "1  2016-09-30   30\n",
       "2  2016-12-31   70\n",
       "3  2017-03-31   90\n",
       "4  2017-06-30  100"
      ]
     },
     "execution_count": 2,
     "metadata": {},
     "output_type": "execute_result"
    }
   ],
   "source": [
    "df = pd.DataFrame({'日付':['2016-06-30','2016-09-30','2016-12-31', '2017-03-31','2017-06-30'],\n",
    "                   '売上':[10,30,70,90,100]\n",
    "                   })\n",
    "\n",
    "df"
   ]
  },
  {
   "cell_type": "markdown",
   "metadata": {},
   "source": [
    "## 日付のシリアル値を算出"
   ]
  },
  {
   "cell_type": "code",
   "execution_count": 3,
   "metadata": {},
   "outputs": [],
   "source": [
    "def change_str_to_serial(day):\n",
    "    '''文字列型の日付をシリアル値に変更する関数'''\n",
    "    import datetime\n",
    "    \n",
    "    # 文字列を日付型に変換\n",
    "    end_day = datetime.datetime.strptime(day, '%Y-%m-%d')\n",
    "    start_day = datetime.datetime(1899, 12, 31)\n",
    "    serial = end_day - start_day\n",
    "    \n",
    "    # 1900年3月1日以降は+1する必要があるらしい\n",
    "    if end_day >= datetime.datetime(1900, 3, 1):\n",
    "        return serial.days + 1\n",
    "    else:\n",
    "        return serial.days"
   ]
  },
  {
   "cell_type": "code",
   "execution_count": 4,
   "metadata": {},
   "outputs": [
    {
     "data": {
      "text/html": [
       "<div>\n",
       "<style scoped>\n",
       "    .dataframe tbody tr th:only-of-type {\n",
       "        vertical-align: middle;\n",
       "    }\n",
       "\n",
       "    .dataframe tbody tr th {\n",
       "        vertical-align: top;\n",
       "    }\n",
       "\n",
       "    .dataframe thead th {\n",
       "        text-align: right;\n",
       "    }\n",
       "</style>\n",
       "<table border=\"1\" class=\"dataframe\">\n",
       "  <thead>\n",
       "    <tr style=\"text-align: right;\">\n",
       "      <th></th>\n",
       "      <th>日付</th>\n",
       "      <th>売上</th>\n",
       "      <th>日付(シリアル値)</th>\n",
       "    </tr>\n",
       "  </thead>\n",
       "  <tbody>\n",
       "    <tr>\n",
       "      <th>0</th>\n",
       "      <td>2016-06-30</td>\n",
       "      <td>10</td>\n",
       "      <td>42551</td>\n",
       "    </tr>\n",
       "    <tr>\n",
       "      <th>1</th>\n",
       "      <td>2016-09-30</td>\n",
       "      <td>30</td>\n",
       "      <td>42643</td>\n",
       "    </tr>\n",
       "    <tr>\n",
       "      <th>2</th>\n",
       "      <td>2016-12-31</td>\n",
       "      <td>70</td>\n",
       "      <td>42735</td>\n",
       "    </tr>\n",
       "    <tr>\n",
       "      <th>3</th>\n",
       "      <td>2017-03-31</td>\n",
       "      <td>90</td>\n",
       "      <td>42825</td>\n",
       "    </tr>\n",
       "    <tr>\n",
       "      <th>4</th>\n",
       "      <td>2017-06-30</td>\n",
       "      <td>100</td>\n",
       "      <td>42916</td>\n",
       "    </tr>\n",
       "  </tbody>\n",
       "</table>\n",
       "</div>"
      ],
      "text/plain": [
       "           日付   売上  日付(シリアル値)\n",
       "0  2016-06-30   10      42551\n",
       "1  2016-09-30   30      42643\n",
       "2  2016-12-31   70      42735\n",
       "3  2017-03-31   90      42825\n",
       "4  2017-06-30  100      42916"
      ]
     },
     "execution_count": 4,
     "metadata": {},
     "output_type": "execute_result"
    }
   ],
   "source": [
    "df['日付(シリアル値)'] = df['日付'].map(lambda x: change_str_to_serial(x))\n",
    "\n",
    "df"
   ]
  },
  {
   "cell_type": "code",
   "execution_count": 5,
   "metadata": {},
   "outputs": [
    {
     "data": {
      "text/plain": [
       "日付           object\n",
       "売上            int64\n",
       "日付(シリアル値)     int64\n",
       "dtype: object"
      ]
     },
     "execution_count": 5,
     "metadata": {},
     "output_type": "execute_result"
    }
   ],
   "source": [
    "df.dtypes"
   ]
  },
  {
   "cell_type": "markdown",
   "metadata": {},
   "source": [
    "## 平均を算出"
   ]
  },
  {
   "cell_type": "code",
   "execution_count": 6,
   "metadata": {},
   "outputs": [
    {
     "data": {
      "text/html": [
       "<div>\n",
       "<style scoped>\n",
       "    .dataframe tbody tr th:only-of-type {\n",
       "        vertical-align: middle;\n",
       "    }\n",
       "\n",
       "    .dataframe tbody tr th {\n",
       "        vertical-align: top;\n",
       "    }\n",
       "\n",
       "    .dataframe thead th {\n",
       "        text-align: right;\n",
       "    }\n",
       "</style>\n",
       "<table border=\"1\" class=\"dataframe\">\n",
       "  <thead>\n",
       "    <tr style=\"text-align: right;\">\n",
       "      <th></th>\n",
       "      <th>日付</th>\n",
       "      <th>売上</th>\n",
       "      <th>日付(シリアル値)</th>\n",
       "      <th>日付(シリアル値)_平均</th>\n",
       "      <th>売上_平均</th>\n",
       "    </tr>\n",
       "  </thead>\n",
       "  <tbody>\n",
       "    <tr>\n",
       "      <th>0</th>\n",
       "      <td>2016-06-30</td>\n",
       "      <td>10</td>\n",
       "      <td>42551</td>\n",
       "      <td>42734.0</td>\n",
       "      <td>60.0</td>\n",
       "    </tr>\n",
       "    <tr>\n",
       "      <th>1</th>\n",
       "      <td>2016-09-30</td>\n",
       "      <td>30</td>\n",
       "      <td>42643</td>\n",
       "      <td>42734.0</td>\n",
       "      <td>60.0</td>\n",
       "    </tr>\n",
       "    <tr>\n",
       "      <th>2</th>\n",
       "      <td>2016-12-31</td>\n",
       "      <td>70</td>\n",
       "      <td>42735</td>\n",
       "      <td>42734.0</td>\n",
       "      <td>60.0</td>\n",
       "    </tr>\n",
       "    <tr>\n",
       "      <th>3</th>\n",
       "      <td>2017-03-31</td>\n",
       "      <td>90</td>\n",
       "      <td>42825</td>\n",
       "      <td>42734.0</td>\n",
       "      <td>60.0</td>\n",
       "    </tr>\n",
       "    <tr>\n",
       "      <th>4</th>\n",
       "      <td>2017-06-30</td>\n",
       "      <td>100</td>\n",
       "      <td>42916</td>\n",
       "      <td>42734.0</td>\n",
       "      <td>60.0</td>\n",
       "    </tr>\n",
       "  </tbody>\n",
       "</table>\n",
       "</div>"
      ],
      "text/plain": [
       "           日付   売上  日付(シリアル値)  日付(シリアル値)_平均  売上_平均\n",
       "0  2016-06-30   10      42551       42734.0   60.0\n",
       "1  2016-09-30   30      42643       42734.0   60.0\n",
       "2  2016-12-31   70      42735       42734.0   60.0\n",
       "3  2017-03-31   90      42825       42734.0   60.0\n",
       "4  2017-06-30  100      42916       42734.0   60.0"
      ]
     },
     "execution_count": 6,
     "metadata": {},
     "output_type": "execute_result"
    }
   ],
   "source": [
    "df['日付(シリアル値)_平均'] = df['日付(シリアル値)'].mean()\n",
    "df['売上_平均'] = df['売上'].mean()\n",
    "\n",
    "df"
   ]
  },
  {
   "cell_type": "markdown",
   "metadata": {},
   "source": [
    "## 偏差を算出"
   ]
  },
  {
   "cell_type": "code",
   "execution_count": 7,
   "metadata": {},
   "outputs": [
    {
     "data": {
      "text/html": [
       "<div>\n",
       "<style scoped>\n",
       "    .dataframe tbody tr th:only-of-type {\n",
       "        vertical-align: middle;\n",
       "    }\n",
       "\n",
       "    .dataframe tbody tr th {\n",
       "        vertical-align: top;\n",
       "    }\n",
       "\n",
       "    .dataframe thead th {\n",
       "        text-align: right;\n",
       "    }\n",
       "</style>\n",
       "<table border=\"1\" class=\"dataframe\">\n",
       "  <thead>\n",
       "    <tr style=\"text-align: right;\">\n",
       "      <th></th>\n",
       "      <th>日付</th>\n",
       "      <th>売上</th>\n",
       "      <th>日付(シリアル値)</th>\n",
       "      <th>日付(シリアル値)_平均</th>\n",
       "      <th>売上_平均</th>\n",
       "      <th>日付(シリアル値)_偏差</th>\n",
       "      <th>売上_偏差</th>\n",
       "    </tr>\n",
       "  </thead>\n",
       "  <tbody>\n",
       "    <tr>\n",
       "      <th>0</th>\n",
       "      <td>2016-06-30</td>\n",
       "      <td>10</td>\n",
       "      <td>42551</td>\n",
       "      <td>42734.0</td>\n",
       "      <td>60.0</td>\n",
       "      <td>-183.0</td>\n",
       "      <td>-50.0</td>\n",
       "    </tr>\n",
       "    <tr>\n",
       "      <th>1</th>\n",
       "      <td>2016-09-30</td>\n",
       "      <td>30</td>\n",
       "      <td>42643</td>\n",
       "      <td>42734.0</td>\n",
       "      <td>60.0</td>\n",
       "      <td>-91.0</td>\n",
       "      <td>-30.0</td>\n",
       "    </tr>\n",
       "    <tr>\n",
       "      <th>2</th>\n",
       "      <td>2016-12-31</td>\n",
       "      <td>70</td>\n",
       "      <td>42735</td>\n",
       "      <td>42734.0</td>\n",
       "      <td>60.0</td>\n",
       "      <td>1.0</td>\n",
       "      <td>10.0</td>\n",
       "    </tr>\n",
       "    <tr>\n",
       "      <th>3</th>\n",
       "      <td>2017-03-31</td>\n",
       "      <td>90</td>\n",
       "      <td>42825</td>\n",
       "      <td>42734.0</td>\n",
       "      <td>60.0</td>\n",
       "      <td>91.0</td>\n",
       "      <td>30.0</td>\n",
       "    </tr>\n",
       "    <tr>\n",
       "      <th>4</th>\n",
       "      <td>2017-06-30</td>\n",
       "      <td>100</td>\n",
       "      <td>42916</td>\n",
       "      <td>42734.0</td>\n",
       "      <td>60.0</td>\n",
       "      <td>182.0</td>\n",
       "      <td>40.0</td>\n",
       "    </tr>\n",
       "  </tbody>\n",
       "</table>\n",
       "</div>"
      ],
      "text/plain": [
       "           日付   売上  日付(シリアル値)  日付(シリアル値)_平均  売上_平均  日付(シリアル値)_偏差  売上_偏差\n",
       "0  2016-06-30   10      42551       42734.0   60.0        -183.0  -50.0\n",
       "1  2016-09-30   30      42643       42734.0   60.0         -91.0  -30.0\n",
       "2  2016-12-31   70      42735       42734.0   60.0           1.0   10.0\n",
       "3  2017-03-31   90      42825       42734.0   60.0          91.0   30.0\n",
       "4  2017-06-30  100      42916       42734.0   60.0         182.0   40.0"
      ]
     },
     "execution_count": 7,
     "metadata": {},
     "output_type": "execute_result"
    }
   ],
   "source": [
    "df['日付(シリアル値)_偏差'] = df['日付(シリアル値)']-df['日付(シリアル値)_平均']\n",
    "df['売上_偏差'] = df['売上']-df['売上_平均']\n",
    "\n",
    "df"
   ]
  },
  {
   "cell_type": "markdown",
   "metadata": {},
   "source": [
    "## 2変数の偏差を掛けた値を算出"
   ]
  },
  {
   "cell_type": "code",
   "execution_count": 8,
   "metadata": {},
   "outputs": [
    {
     "data": {
      "text/html": [
       "<div>\n",
       "<style scoped>\n",
       "    .dataframe tbody tr th:only-of-type {\n",
       "        vertical-align: middle;\n",
       "    }\n",
       "\n",
       "    .dataframe tbody tr th {\n",
       "        vertical-align: top;\n",
       "    }\n",
       "\n",
       "    .dataframe thead th {\n",
       "        text-align: right;\n",
       "    }\n",
       "</style>\n",
       "<table border=\"1\" class=\"dataframe\">\n",
       "  <thead>\n",
       "    <tr style=\"text-align: right;\">\n",
       "      <th></th>\n",
       "      <th>日付</th>\n",
       "      <th>売上</th>\n",
       "      <th>日付(シリアル値)</th>\n",
       "      <th>日付(シリアル値)_平均</th>\n",
       "      <th>売上_平均</th>\n",
       "      <th>日付(シリアル値)_偏差</th>\n",
       "      <th>売上_偏差</th>\n",
       "      <th>日付(シリアル値)_偏差×売上_偏差</th>\n",
       "    </tr>\n",
       "  </thead>\n",
       "  <tbody>\n",
       "    <tr>\n",
       "      <th>0</th>\n",
       "      <td>2016-06-30</td>\n",
       "      <td>10</td>\n",
       "      <td>42551</td>\n",
       "      <td>42734.0</td>\n",
       "      <td>60.0</td>\n",
       "      <td>-183.0</td>\n",
       "      <td>-50.0</td>\n",
       "      <td>9150.0</td>\n",
       "    </tr>\n",
       "    <tr>\n",
       "      <th>1</th>\n",
       "      <td>2016-09-30</td>\n",
       "      <td>30</td>\n",
       "      <td>42643</td>\n",
       "      <td>42734.0</td>\n",
       "      <td>60.0</td>\n",
       "      <td>-91.0</td>\n",
       "      <td>-30.0</td>\n",
       "      <td>2730.0</td>\n",
       "    </tr>\n",
       "    <tr>\n",
       "      <th>2</th>\n",
       "      <td>2016-12-31</td>\n",
       "      <td>70</td>\n",
       "      <td>42735</td>\n",
       "      <td>42734.0</td>\n",
       "      <td>60.0</td>\n",
       "      <td>1.0</td>\n",
       "      <td>10.0</td>\n",
       "      <td>10.0</td>\n",
       "    </tr>\n",
       "    <tr>\n",
       "      <th>3</th>\n",
       "      <td>2017-03-31</td>\n",
       "      <td>90</td>\n",
       "      <td>42825</td>\n",
       "      <td>42734.0</td>\n",
       "      <td>60.0</td>\n",
       "      <td>91.0</td>\n",
       "      <td>30.0</td>\n",
       "      <td>2730.0</td>\n",
       "    </tr>\n",
       "    <tr>\n",
       "      <th>4</th>\n",
       "      <td>2017-06-30</td>\n",
       "      <td>100</td>\n",
       "      <td>42916</td>\n",
       "      <td>42734.0</td>\n",
       "      <td>60.0</td>\n",
       "      <td>182.0</td>\n",
       "      <td>40.0</td>\n",
       "      <td>7280.0</td>\n",
       "    </tr>\n",
       "  </tbody>\n",
       "</table>\n",
       "</div>"
      ],
      "text/plain": [
       "           日付   売上  日付(シリアル値)  日付(シリアル値)_平均  売上_平均  日付(シリアル値)_偏差  売上_偏差  \\\n",
       "0  2016-06-30   10      42551       42734.0   60.0        -183.0  -50.0   \n",
       "1  2016-09-30   30      42643       42734.0   60.0         -91.0  -30.0   \n",
       "2  2016-12-31   70      42735       42734.0   60.0           1.0   10.0   \n",
       "3  2017-03-31   90      42825       42734.0   60.0          91.0   30.0   \n",
       "4  2017-06-30  100      42916       42734.0   60.0         182.0   40.0   \n",
       "\n",
       "   日付(シリアル値)_偏差×売上_偏差  \n",
       "0              9150.0  \n",
       "1              2730.0  \n",
       "2                10.0  \n",
       "3              2730.0  \n",
       "4              7280.0  "
      ]
     },
     "execution_count": 8,
     "metadata": {},
     "output_type": "execute_result"
    }
   ],
   "source": [
    "df['日付(シリアル値)_偏差×売上_偏差'] = df['日付(シリアル値)_偏差']*df['売上_偏差']\n",
    "\n",
    "df"
   ]
  },
  {
   "cell_type": "markdown",
   "metadata": {},
   "source": [
    "## 偏差の2乗値を算出"
   ]
  },
  {
   "cell_type": "code",
   "execution_count": 9,
   "metadata": {},
   "outputs": [
    {
     "data": {
      "text/html": [
       "<div>\n",
       "<style scoped>\n",
       "    .dataframe tbody tr th:only-of-type {\n",
       "        vertical-align: middle;\n",
       "    }\n",
       "\n",
       "    .dataframe tbody tr th {\n",
       "        vertical-align: top;\n",
       "    }\n",
       "\n",
       "    .dataframe thead th {\n",
       "        text-align: right;\n",
       "    }\n",
       "</style>\n",
       "<table border=\"1\" class=\"dataframe\">\n",
       "  <thead>\n",
       "    <tr style=\"text-align: right;\">\n",
       "      <th></th>\n",
       "      <th>日付</th>\n",
       "      <th>売上</th>\n",
       "      <th>日付(シリアル値)</th>\n",
       "      <th>日付(シリアル値)_平均</th>\n",
       "      <th>売上_平均</th>\n",
       "      <th>日付(シリアル値)_偏差</th>\n",
       "      <th>売上_偏差</th>\n",
       "      <th>日付(シリアル値)_偏差×売上_偏差</th>\n",
       "      <th>日付(シリアル値)_偏差_2乗</th>\n",
       "      <th>売上_偏差_2乗</th>\n",
       "    </tr>\n",
       "  </thead>\n",
       "  <tbody>\n",
       "    <tr>\n",
       "      <th>0</th>\n",
       "      <td>2016-06-30</td>\n",
       "      <td>10</td>\n",
       "      <td>42551</td>\n",
       "      <td>42734.0</td>\n",
       "      <td>60.0</td>\n",
       "      <td>-183.0</td>\n",
       "      <td>-50.0</td>\n",
       "      <td>9150.0</td>\n",
       "      <td>33489.0</td>\n",
       "      <td>2500.0</td>\n",
       "    </tr>\n",
       "    <tr>\n",
       "      <th>1</th>\n",
       "      <td>2016-09-30</td>\n",
       "      <td>30</td>\n",
       "      <td>42643</td>\n",
       "      <td>42734.0</td>\n",
       "      <td>60.0</td>\n",
       "      <td>-91.0</td>\n",
       "      <td>-30.0</td>\n",
       "      <td>2730.0</td>\n",
       "      <td>8281.0</td>\n",
       "      <td>900.0</td>\n",
       "    </tr>\n",
       "    <tr>\n",
       "      <th>2</th>\n",
       "      <td>2016-12-31</td>\n",
       "      <td>70</td>\n",
       "      <td>42735</td>\n",
       "      <td>42734.0</td>\n",
       "      <td>60.0</td>\n",
       "      <td>1.0</td>\n",
       "      <td>10.0</td>\n",
       "      <td>10.0</td>\n",
       "      <td>1.0</td>\n",
       "      <td>100.0</td>\n",
       "    </tr>\n",
       "    <tr>\n",
       "      <th>3</th>\n",
       "      <td>2017-03-31</td>\n",
       "      <td>90</td>\n",
       "      <td>42825</td>\n",
       "      <td>42734.0</td>\n",
       "      <td>60.0</td>\n",
       "      <td>91.0</td>\n",
       "      <td>30.0</td>\n",
       "      <td>2730.0</td>\n",
       "      <td>8281.0</td>\n",
       "      <td>900.0</td>\n",
       "    </tr>\n",
       "    <tr>\n",
       "      <th>4</th>\n",
       "      <td>2017-06-30</td>\n",
       "      <td>100</td>\n",
       "      <td>42916</td>\n",
       "      <td>42734.0</td>\n",
       "      <td>60.0</td>\n",
       "      <td>182.0</td>\n",
       "      <td>40.0</td>\n",
       "      <td>7280.0</td>\n",
       "      <td>33124.0</td>\n",
       "      <td>1600.0</td>\n",
       "    </tr>\n",
       "  </tbody>\n",
       "</table>\n",
       "</div>"
      ],
      "text/plain": [
       "           日付   売上  日付(シリアル値)  日付(シリアル値)_平均  売上_平均  日付(シリアル値)_偏差  売上_偏差  \\\n",
       "0  2016-06-30   10      42551       42734.0   60.0        -183.0  -50.0   \n",
       "1  2016-09-30   30      42643       42734.0   60.0         -91.0  -30.0   \n",
       "2  2016-12-31   70      42735       42734.0   60.0           1.0   10.0   \n",
       "3  2017-03-31   90      42825       42734.0   60.0          91.0   30.0   \n",
       "4  2017-06-30  100      42916       42734.0   60.0         182.0   40.0   \n",
       "\n",
       "   日付(シリアル値)_偏差×売上_偏差  日付(シリアル値)_偏差_2乗  売上_偏差_2乗  \n",
       "0              9150.0          33489.0    2500.0  \n",
       "1              2730.0           8281.0     900.0  \n",
       "2                10.0              1.0     100.0  \n",
       "3              2730.0           8281.0     900.0  \n",
       "4              7280.0          33124.0    1600.0  "
      ]
     },
     "execution_count": 9,
     "metadata": {},
     "output_type": "execute_result"
    }
   ],
   "source": [
    "df['日付(シリアル値)_偏差_2乗'] = df['日付(シリアル値)_偏差']**2\n",
    "df['売上_偏差_2乗'] = df['売上_偏差']**2\n",
    "\n",
    "df"
   ]
  },
  {
   "cell_type": "markdown",
   "metadata": {},
   "source": [
    "#### 合計を算出(念のため)"
   ]
  },
  {
   "cell_type": "code",
   "execution_count": 10,
   "metadata": {},
   "outputs": [
    {
     "data": {
      "text/html": [
       "<div>\n",
       "<style scoped>\n",
       "    .dataframe tbody tr th:only-of-type {\n",
       "        vertical-align: middle;\n",
       "    }\n",
       "\n",
       "    .dataframe tbody tr th {\n",
       "        vertical-align: top;\n",
       "    }\n",
       "\n",
       "    .dataframe thead th {\n",
       "        text-align: right;\n",
       "    }\n",
       "</style>\n",
       "<table border=\"1\" class=\"dataframe\">\n",
       "  <thead>\n",
       "    <tr style=\"text-align: right;\">\n",
       "      <th></th>\n",
       "      <th>日付</th>\n",
       "      <th>売上</th>\n",
       "      <th>日付(シリアル値)</th>\n",
       "      <th>日付(シリアル値)_平均</th>\n",
       "      <th>売上_平均</th>\n",
       "      <th>日付(シリアル値)_偏差</th>\n",
       "      <th>売上_偏差</th>\n",
       "      <th>日付(シリアル値)_偏差×売上_偏差</th>\n",
       "      <th>日付(シリアル値)_偏差_2乗</th>\n",
       "      <th>売上_偏差_2乗</th>\n",
       "    </tr>\n",
       "  </thead>\n",
       "  <tbody>\n",
       "    <tr>\n",
       "      <th>0</th>\n",
       "      <td>2016-06-30</td>\n",
       "      <td>10.0</td>\n",
       "      <td>42551.0</td>\n",
       "      <td>42734.0</td>\n",
       "      <td>60.0</td>\n",
       "      <td>-183.0</td>\n",
       "      <td>-50.0</td>\n",
       "      <td>9150.0</td>\n",
       "      <td>33489.0</td>\n",
       "      <td>2500.0</td>\n",
       "    </tr>\n",
       "    <tr>\n",
       "      <th>1</th>\n",
       "      <td>2016-09-30</td>\n",
       "      <td>30.0</td>\n",
       "      <td>42643.0</td>\n",
       "      <td>42734.0</td>\n",
       "      <td>60.0</td>\n",
       "      <td>-91.0</td>\n",
       "      <td>-30.0</td>\n",
       "      <td>2730.0</td>\n",
       "      <td>8281.0</td>\n",
       "      <td>900.0</td>\n",
       "    </tr>\n",
       "    <tr>\n",
       "      <th>2</th>\n",
       "      <td>2016-12-31</td>\n",
       "      <td>70.0</td>\n",
       "      <td>42735.0</td>\n",
       "      <td>42734.0</td>\n",
       "      <td>60.0</td>\n",
       "      <td>1.0</td>\n",
       "      <td>10.0</td>\n",
       "      <td>10.0</td>\n",
       "      <td>1.0</td>\n",
       "      <td>100.0</td>\n",
       "    </tr>\n",
       "    <tr>\n",
       "      <th>3</th>\n",
       "      <td>2017-03-31</td>\n",
       "      <td>90.0</td>\n",
       "      <td>42825.0</td>\n",
       "      <td>42734.0</td>\n",
       "      <td>60.0</td>\n",
       "      <td>91.0</td>\n",
       "      <td>30.0</td>\n",
       "      <td>2730.0</td>\n",
       "      <td>8281.0</td>\n",
       "      <td>900.0</td>\n",
       "    </tr>\n",
       "    <tr>\n",
       "      <th>4</th>\n",
       "      <td>2017-06-30</td>\n",
       "      <td>100.0</td>\n",
       "      <td>42916.0</td>\n",
       "      <td>42734.0</td>\n",
       "      <td>60.0</td>\n",
       "      <td>182.0</td>\n",
       "      <td>40.0</td>\n",
       "      <td>7280.0</td>\n",
       "      <td>33124.0</td>\n",
       "      <td>1600.0</td>\n",
       "    </tr>\n",
       "    <tr>\n",
       "      <th>5</th>\n",
       "      <td>合計</td>\n",
       "      <td>300.0</td>\n",
       "      <td>213670.0</td>\n",
       "      <td>213670.0</td>\n",
       "      <td>300.0</td>\n",
       "      <td>0.0</td>\n",
       "      <td>0.0</td>\n",
       "      <td>21900.0</td>\n",
       "      <td>83176.0</td>\n",
       "      <td>6000.0</td>\n",
       "    </tr>\n",
       "  </tbody>\n",
       "</table>\n",
       "</div>"
      ],
      "text/plain": [
       "           日付     売上  日付(シリアル値)  日付(シリアル値)_平均  売上_平均  日付(シリアル値)_偏差  売上_偏差  \\\n",
       "0  2016-06-30   10.0    42551.0       42734.0   60.0        -183.0  -50.0   \n",
       "1  2016-09-30   30.0    42643.0       42734.0   60.0         -91.0  -30.0   \n",
       "2  2016-12-31   70.0    42735.0       42734.0   60.0           1.0   10.0   \n",
       "3  2017-03-31   90.0    42825.0       42734.0   60.0          91.0   30.0   \n",
       "4  2017-06-30  100.0    42916.0       42734.0   60.0         182.0   40.0   \n",
       "5          合計  300.0   213670.0      213670.0  300.0           0.0    0.0   \n",
       "\n",
       "   日付(シリアル値)_偏差×売上_偏差  日付(シリアル値)_偏差_2乗  売上_偏差_2乗  \n",
       "0              9150.0          33489.0    2500.0  \n",
       "1              2730.0           8281.0     900.0  \n",
       "2                10.0              1.0     100.0  \n",
       "3              2730.0           8281.0     900.0  \n",
       "4              7280.0          33124.0    1600.0  \n",
       "5             21900.0          83176.0    6000.0  "
      ]
     },
     "execution_count": 10,
     "metadata": {},
     "output_type": "execute_result"
    }
   ],
   "source": [
    "tmp = df.copy()\n",
    "\n",
    "# 日付列以外の列の合計を算出\n",
    "sum_df = pd.DataFrame({'合計':tmp.iloc[:,1:].sum()})\n",
    "\n",
    "# 上記データフレームを転置\n",
    "df0 = sum_df.T.reset_index().rename(columns={'index':'日付'})\n",
    "\n",
    "df1 = pd.concat([df,df0], ignore_index=True)\n",
    "\n",
    "df1"
   ]
  },
  {
   "cell_type": "markdown",
   "metadata": {},
   "source": [
    "## 共分散を算出\n",
    "(xの偏差×yの偏差)の平均"
   ]
  },
  {
   "cell_type": "code",
   "execution_count": 12,
   "metadata": {},
   "outputs": [
    {
     "data": {
      "text/plain": [
       "4380.0"
      ]
     },
     "execution_count": 12,
     "metadata": {},
     "output_type": "execute_result"
    }
   ],
   "source": [
    "# 1\n",
    "# どちらでも同じ\n",
    "#covariance = df['日付(シリアル値)_偏差×売上_偏差'].sum() / df.shape[0]\n",
    "covariance = df['日付(シリアル値)_偏差×売上_偏差'].mean()\n",
    "\n",
    "covariance"
   ]
  },
  {
   "cell_type": "code",
   "execution_count": 13,
   "metadata": {},
   "outputs": [
    {
     "data": {
      "text/plain": [
       "array([[16635.2,  4380. ],\n",
       "       [ 4380. ,  1200. ]])"
      ]
     },
     "execution_count": 13,
     "metadata": {},
     "output_type": "execute_result"
    }
   ],
   "source": [
    "# 2\n",
    "np.cov(df['日付(シリアル値)'],df['売上'], ddof=0)"
   ]
  },
  {
   "cell_type": "markdown",
   "metadata": {},
   "source": [
    "## 相関係数を算出\n",
    "xとyの共分散÷(xの標準偏差*yの標準偏差)"
   ]
  },
  {
   "cell_type": "code",
   "execution_count": 14,
   "metadata": {},
   "outputs": [
    {
     "data": {
      "text/plain": [
       "0.9803236368717841"
      ]
     },
     "execution_count": 14,
     "metadata": {},
     "output_type": "execute_result"
    }
   ],
   "source": [
    "# 1\n",
    "correlation =\\\n",
    "df['日付(シリアル値)_偏差×売上_偏差'].mean() / (np.sqrt(df['日付(シリアル値)_偏差_2乗'].mean())*np.sqrt(df['売上_偏差_2乗'].mean()))\n",
    "\n",
    "correlation"
   ]
  },
  {
   "cell_type": "code",
   "execution_count": 15,
   "metadata": {},
   "outputs": [
    {
     "data": {
      "text/plain": [
       "0.9803236368717841"
      ]
     },
     "execution_count": 15,
     "metadata": {},
     "output_type": "execute_result"
    }
   ],
   "source": [
    "# 2\n",
    "np.cov(df['日付(シリアル値)'],df['売上'], ddof=0)[0,1] / (np.std(df['日付(シリアル値)'])*np.std(df['売上']))"
   ]
  },
  {
   "cell_type": "code",
   "execution_count": 16,
   "metadata": {},
   "outputs": [
    {
     "data": {
      "text/plain": [
       "0.9803236368717841"
      ]
     },
     "execution_count": 16,
     "metadata": {},
     "output_type": "execute_result"
    }
   ],
   "source": [
    "# 3\n",
    "df['日付(シリアル値)'].corr(df['売上'])"
   ]
  },
  {
   "cell_type": "code",
   "execution_count": 79,
   "metadata": {},
   "outputs": [
    {
     "data": {
      "text/html": [
       "<div>\n",
       "<style scoped>\n",
       "    .dataframe tbody tr th:only-of-type {\n",
       "        vertical-align: middle;\n",
       "    }\n",
       "\n",
       "    .dataframe tbody tr th {\n",
       "        vertical-align: top;\n",
       "    }\n",
       "\n",
       "    .dataframe thead th {\n",
       "        text-align: right;\n",
       "    }\n",
       "</style>\n",
       "<table border=\"1\" class=\"dataframe\">\n",
       "  <thead>\n",
       "    <tr style=\"text-align: right;\">\n",
       "      <th></th>\n",
       "      <th>日付</th>\n",
       "      <th>売上</th>\n",
       "      <th>日付(シリアル値)</th>\n",
       "    </tr>\n",
       "  </thead>\n",
       "  <tbody>\n",
       "    <tr>\n",
       "      <th>0</th>\n",
       "      <td>2016-06-30</td>\n",
       "      <td>10</td>\n",
       "      <td>42551</td>\n",
       "    </tr>\n",
       "    <tr>\n",
       "      <th>1</th>\n",
       "      <td>2016-09-30</td>\n",
       "      <td>50</td>\n",
       "      <td>42643</td>\n",
       "    </tr>\n",
       "    <tr>\n",
       "      <th>2</th>\n",
       "      <td>2016-12-31</td>\n",
       "      <td>20</td>\n",
       "      <td>42735</td>\n",
       "    </tr>\n",
       "    <tr>\n",
       "      <th>3</th>\n",
       "      <td>2017-03-31</td>\n",
       "      <td>20</td>\n",
       "      <td>42825</td>\n",
       "    </tr>\n",
       "    <tr>\n",
       "      <th>4</th>\n",
       "      <td>2017-06-30</td>\n",
       "      <td>100</td>\n",
       "      <td>42916</td>\n",
       "    </tr>\n",
       "  </tbody>\n",
       "</table>\n",
       "</div>"
      ],
      "text/plain": [
       "           日付   売上  日付(シリアル値)\n",
       "0  2016-06-30   10      42551\n",
       "1  2016-09-30   50      42643\n",
       "2  2016-12-31   20      42735\n",
       "3  2017-03-31   20      42825\n",
       "4  2017-06-30  100      42916"
      ]
     },
     "execution_count": 79,
     "metadata": {},
     "output_type": "execute_result"
    }
   ],
   "source": [
    "df10 = pd.DataFrame({'日付':['2016-06-30','2016-09-30','2016-12-31', '2017-03-31','2017-06-30'],\n",
    "                   '売上':[10,50,20,20,100]\n",
    "                   })\n",
    "\n",
    "df10['日付(シリアル値)'] = df10['日付'].map(lambda x: change_str_to_serial(x))\n",
    "\n",
    "df10"
   ]
  },
  {
   "cell_type": "code",
   "execution_count": 80,
   "metadata": {},
   "outputs": [
    {
     "data": {
      "text/plain": [
       "0.6445473155274928"
      ]
     },
     "execution_count": 80,
     "metadata": {},
     "output_type": "execute_result"
    }
   ],
   "source": [
    "df10['日付(シリアル値)'].corr(df10['売上'])"
   ]
  },
  {
   "cell_type": "code",
   "execution_count": 81,
   "metadata": {},
   "outputs": [
    {
     "data": {
      "text/plain": [
       "0.64"
      ]
     },
     "execution_count": 81,
     "metadata": {},
     "output_type": "execute_result"
    }
   ],
   "source": [
    "round(df10['日付(シリアル値)'].corr(df10['売上']), 2)"
   ]
  },
  {
   "cell_type": "markdown",
   "metadata": {},
   "source": [
    "## 可視化"
   ]
  },
  {
   "cell_type": "markdown",
   "metadata": {},
   "source": [
    "!pip install japanize-matplotlib"
   ]
  },
  {
   "cell_type": "code",
   "execution_count": 19,
   "metadata": {},
   "outputs": [],
   "source": [
    "import japanize_matplotlib"
   ]
  },
  {
   "cell_type": "code",
   "execution_count": 84,
   "metadata": {
    "scrolled": true
   },
   "outputs": [
    {
     "data": {
      "text/plain": [
       "Text(0.5, 1.0, '相関係数:0.98')"
      ]
     },
     "execution_count": 84,
     "metadata": {},
     "output_type": "execute_result"
    },
    {
     "data": {
      "image/png": "[encoded data removed]",
      "text/plain": [
       "<Figure size 432x288 with 1 Axes>"
      ]
     },
     "metadata": {
      "needs_background": "light"
     },
     "output_type": "display_data"
    }
   ],
   "source": [
    "fig, ax = plt.subplots()\n",
    "ax.scatter(df['日付(シリアル値)_偏差'],df['売上_偏差'], color='g')\n",
    "ax.set_xlabel('日付(シリアル値)の偏差',fontsize=16)\n",
    "ax.set_ylabel('売上の偏差',fontsize=16)\n",
    "ax.set_title('相関係数:{}'.format(round(df['日付(シリアル値)'].corr(df['売上']),2)) ,fontsize=18)"
   ]
  },
  {
   "cell_type": "code",
   "execution_count": 82,
   "metadata": {},
   "outputs": [],
   "source": [
    "df10['日付(シリアル値)_平均'] = df10['日付(シリアル値)'].mean()\n",
    "df10['売上_平均'] = df10['売上'].mean()\n",
    "df10['日付(シリアル値)_偏差'] = df10['日付(シリアル値)']-df10['日付(シリアル値)_平均']\n",
    "df10['売上_偏差'] = df10['売上']-df10['売上_平均']"
   ]
  },
  {
   "cell_type": "code",
   "execution_count": 85,
   "metadata": {},
   "outputs": [
    {
     "data": {
      "text/plain": [
       "Text(0.5, 1.0, '相関係数:0.64')"
      ]
     },
     "execution_count": 85,
     "metadata": {},
     "output_type": "execute_result"
    },
    {
     "data": {
      "image/png": "[encoded data removed]",
      "text/plain": [
       "<Figure size 432x288 with 1 Axes>"
      ]
     },
     "metadata": {
      "needs_background": "light"
     },
     "output_type": "display_data"
    }
   ],
   "source": [
    "fig, ax = plt.subplots()\n",
    "ax.scatter(df10['日付(シリアル値)_偏差'],df10['売上_偏差'], color='r')\n",
    "ax.set_xlabel('日付(シリアル値)の偏差',fontsize=16)\n",
    "ax.set_ylabel('売上の偏差',fontsize=16)\n",
    "ax.set_title('相関係数:{}'.format(round(df10['日付(シリアル値)'].corr(df10['売上']),2)) ,fontsize=18)"
   ]
  },
  {
   "cell_type": "markdown",
   "metadata": {},
   "source": [
    "## 可視化まとめ"
   ]
  },
  {
   "cell_type": "code",
   "execution_count": 86,
   "metadata": {},
   "outputs": [
    {
     "data": {
      "text/html": [
       "<div>\n",
       "<style scoped>\n",
       "    .dataframe tbody tr th:only-of-type {\n",
       "        vertical-align: middle;\n",
       "    }\n",
       "\n",
       "    .dataframe tbody tr th {\n",
       "        vertical-align: top;\n",
       "    }\n",
       "\n",
       "    .dataframe thead th {\n",
       "        text-align: right;\n",
       "    }\n",
       "</style>\n",
       "<table border=\"1\" class=\"dataframe\">\n",
       "  <thead>\n",
       "    <tr style=\"text-align: right;\">\n",
       "      <th></th>\n",
       "      <th>日付</th>\n",
       "      <th>売上</th>\n",
       "      <th>日付(シリアル値)</th>\n",
       "      <th>日付(シリアル値)_偏差</th>\n",
       "      <th>売上_偏差</th>\n",
       "    </tr>\n",
       "  </thead>\n",
       "  <tbody>\n",
       "    <tr>\n",
       "      <th>0</th>\n",
       "      <td>2016-06-30</td>\n",
       "      <td>10</td>\n",
       "      <td>42551</td>\n",
       "      <td>-183.0</td>\n",
       "      <td>-50.0</td>\n",
       "    </tr>\n",
       "    <tr>\n",
       "      <th>1</th>\n",
       "      <td>2016-09-30</td>\n",
       "      <td>30</td>\n",
       "      <td>42643</td>\n",
       "      <td>-91.0</td>\n",
       "      <td>-30.0</td>\n",
       "    </tr>\n",
       "    <tr>\n",
       "      <th>2</th>\n",
       "      <td>2016-12-31</td>\n",
       "      <td>70</td>\n",
       "      <td>42735</td>\n",
       "      <td>1.0</td>\n",
       "      <td>10.0</td>\n",
       "    </tr>\n",
       "    <tr>\n",
       "      <th>3</th>\n",
       "      <td>2017-03-31</td>\n",
       "      <td>90</td>\n",
       "      <td>42825</td>\n",
       "      <td>91.0</td>\n",
       "      <td>30.0</td>\n",
       "    </tr>\n",
       "    <tr>\n",
       "      <th>4</th>\n",
       "      <td>2017-06-30</td>\n",
       "      <td>100</td>\n",
       "      <td>42916</td>\n",
       "      <td>182.0</td>\n",
       "      <td>40.0</td>\n",
       "    </tr>\n",
       "  </tbody>\n",
       "</table>\n",
       "</div>"
      ],
      "text/plain": [
       "           日付   売上  日付(シリアル値)  日付(シリアル値)_偏差  売上_偏差\n",
       "0  2016-06-30   10      42551        -183.0  -50.0\n",
       "1  2016-09-30   30      42643         -91.0  -30.0\n",
       "2  2016-12-31   70      42735           1.0   10.0\n",
       "3  2017-03-31   90      42825          91.0   30.0\n",
       "4  2017-06-30  100      42916         182.0   40.0"
      ]
     },
     "metadata": {},
     "output_type": "display_data"
    },
    {
     "data": {
      "text/html": [
       "<div>\n",
       "<style scoped>\n",
       "    .dataframe tbody tr th:only-of-type {\n",
       "        vertical-align: middle;\n",
       "    }\n",
       "\n",
       "    .dataframe tbody tr th {\n",
       "        vertical-align: top;\n",
       "    }\n",
       "\n",
       "    .dataframe thead th {\n",
       "        text-align: right;\n",
       "    }\n",
       "</style>\n",
       "<table border=\"1\" class=\"dataframe\">\n",
       "  <thead>\n",
       "    <tr style=\"text-align: right;\">\n",
       "      <th></th>\n",
       "      <th>日付</th>\n",
       "      <th>売上</th>\n",
       "      <th>日付(シリアル値)</th>\n",
       "      <th>日付(シリアル値)_偏差</th>\n",
       "      <th>売上_偏差</th>\n",
       "    </tr>\n",
       "  </thead>\n",
       "  <tbody>\n",
       "    <tr>\n",
       "      <th>0</th>\n",
       "      <td>2016-06-30</td>\n",
       "      <td>10</td>\n",
       "      <td>42551</td>\n",
       "      <td>-183.0</td>\n",
       "      <td>-30.0</td>\n",
       "    </tr>\n",
       "    <tr>\n",
       "      <th>1</th>\n",
       "      <td>2016-09-30</td>\n",
       "      <td>50</td>\n",
       "      <td>42643</td>\n",
       "      <td>-91.0</td>\n",
       "      <td>10.0</td>\n",
       "    </tr>\n",
       "    <tr>\n",
       "      <th>2</th>\n",
       "      <td>2016-12-31</td>\n",
       "      <td>20</td>\n",
       "      <td>42735</td>\n",
       "      <td>1.0</td>\n",
       "      <td>-20.0</td>\n",
       "    </tr>\n",
       "    <tr>\n",
       "      <th>3</th>\n",
       "      <td>2017-03-31</td>\n",
       "      <td>20</td>\n",
       "      <td>42825</td>\n",
       "      <td>91.0</td>\n",
       "      <td>-20.0</td>\n",
       "    </tr>\n",
       "    <tr>\n",
       "      <th>4</th>\n",
       "      <td>2017-06-30</td>\n",
       "      <td>100</td>\n",
       "      <td>42916</td>\n",
       "      <td>182.0</td>\n",
       "      <td>60.0</td>\n",
       "    </tr>\n",
       "  </tbody>\n",
       "</table>\n",
       "</div>"
      ],
      "text/plain": [
       "           日付   売上  日付(シリアル値)  日付(シリアル値)_偏差  売上_偏差\n",
       "0  2016-06-30   10      42551        -183.0  -30.0\n",
       "1  2016-09-30   50      42643         -91.0   10.0\n",
       "2  2016-12-31   20      42735           1.0  -20.0\n",
       "3  2017-03-31   20      42825          91.0  -20.0\n",
       "4  2017-06-30  100      42916         182.0   60.0"
      ]
     },
     "metadata": {},
     "output_type": "display_data"
    }
   ],
   "source": [
    "usecols=['日付', '売上', '日付(シリアル値)','日付(シリアル値)_偏差','売上_偏差']\n",
    "v_df = df[usecols]\n",
    "v_df10 = df10[usecols]\n",
    "display(v_df, v_df10)"
   ]
  },
  {
   "cell_type": "code",
   "execution_count": 91,
   "metadata": {},
   "outputs": [
    {
     "data": {
      "text/plain": [
       "<matplotlib.collections.LineCollection at 0x2e0c4a2c160>"
      ]
     },
     "execution_count": 91,
     "metadata": {},
     "output_type": "execute_result"
    },
    {
     "data": {
      "image/png": "[encoded data removed]",
      "text/plain": [
       "<Figure size 1152x360 with 2 Axes>"
      ]
     },
     "metadata": {
      "needs_background": "light"
     },
     "output_type": "display_data"
    }
   ],
   "source": [
    "fig, ax = plt.subplots(nrows=1,ncols=2,figsize=(16, 5))\n",
    "\n",
    "ax[0].scatter(df['日付(シリアル値)_偏差'],df['売上_偏差'], color='g')\n",
    "ax[0].set_xlabel('日付(シリアル値)の偏差',fontsize=16)\n",
    "ax[0].set_ylabel('売上の偏差',fontsize=16)\n",
    "ax[0].set_title('相関係数:{}'.format(round(df['日付(シリアル値)'].corr(df['売上']),2)) ,fontsize=18)\n",
    "ax[0].hlines(0, xmin=-200, xmax=200,linestyles='dashed',alpha=0.5)\n",
    "ax[0].vlines(0, ymin=-200, ymax=200,linestyles='dashed',alpha=0.5)\n",
    "\n",
    "ax[1].scatter(df10['日付(シリアル値)_偏差'],df10['売上_偏差'], color='r')\n",
    "ax[1].set_xlabel('日付(シリアル値)の偏差',fontsize=16)\n",
    "ax[1].set_ylabel('売上の偏差',fontsize=16)\n",
    "ax[1].set_title('相関係数:{}'.format(round(df10['日付(シリアル値)'].corr(df10['売上']),2)) ,fontsize=18)\n",
    "ax[1].hlines(0, xmin=-200, xmax=200,linestyles='dashed',alpha=0.5)\n",
    "ax[1].vlines(0, ymin=-200, ymax=200,linestyles='dashed',alpha=0.5)"
   ]
  },
  {
   "cell_type": "code",
   "execution_count": null,
   "metadata": {},
   "outputs": [],
   "source": []
  },
  {
   "cell_type": "code",
   "execution_count": 98,
   "metadata": {},
   "outputs": [
    {
     "data": {
      "text/plain": [
       "<matplotlib.collections.LineCollection at 0x2e0c5902cc0>"
      ]
     },
     "execution_count": 98,
     "metadata": {},
     "output_type": "execute_result"
    },
    {
     "data": {
      "image/png": "[encoded data removed]",
      "text/plain": [
       "<Figure size 648x504 with 1 Axes>"
      ]
     },
     "metadata": {
      "needs_background": "light"
     },
     "output_type": "display_data"
    }
   ],
   "source": [
    "fig, ax = plt.subplots(figsize=(9, 7))\n",
    "ax.scatter(df['日付(シリアル値)_偏差'],df['売上_偏差'], color='g')\n",
    "ax.scatter(df10['日付(シリアル値)_偏差'],df10['売上_偏差'], color='r')\n",
    "\n",
    "ax.set_xlabel('日付(シリアル値)の偏差',fontsize=16)\n",
    "ax.set_ylabel('売上の偏差',fontsize=16)\n",
    "ax.set_title('日付と売上の散布図' ,fontsize=18)\n",
    "ax.legend(loc='upper left')\n",
    "ax.hlines(0, xmin=-200, xmax=200,linestyles='dashed',alpha=0.5)\n",
    "ax.vlines(0, ymin=-200, ymax=200,linestyles='dashed',alpha=0.5)"
   ]
  },
  {
   "cell_type": "code",
   "execution_count": null,
   "metadata": {},
   "outputs": [],
   "source": []
  }
 ],
 "metadata": {
  "kernelspec": {
   "display_name": "Python 3",
   "language": "python",
   "name": "python3"
  },
  "language_info": {
   "codemirror_mode": {
    "name": "ipython",
    "version": 3
   },
   "file_extension": ".py",
   "mimetype": "text/x-python",
   "name": "python",
   "nbconvert_exporter": "python",
   "pygments_lexer": "ipython3",
   "version": "3.6.8"
  }
 },
 "nbformat": 4,
 "nbformat_minor": 2
}
