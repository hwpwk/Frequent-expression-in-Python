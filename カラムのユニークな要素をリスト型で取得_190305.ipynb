{
 "cells": [
  {
   "cell_type": "code",
   "execution_count": 1,
   "metadata": {
    "collapsed": true
   },
   "outputs": [],
   "source": [
    "# データ分析用のライブラリ\n",
    "import pandas as pd\n",
    "import numpy as np"
   ]
  },
  {
   "cell_type": "code",
   "execution_count": 2,
   "metadata": {},
   "outputs": [
    {
     "data": {
      "text/html": [
       "<div>\n",
       "<style>\n",
       "    .dataframe thead tr:only-child th {\n",
       "        text-align: right;\n",
       "    }\n",
       "\n",
       "    .dataframe thead th {\n",
       "        text-align: left;\n",
       "    }\n",
       "\n",
       "    .dataframe tbody tr th {\n",
       "        vertical-align: top;\n",
       "    }\n",
       "</style>\n",
       "<table border=\"1\" class=\"dataframe\">\n",
       "  <thead>\n",
       "    <tr style=\"text-align: right;\">\n",
       "      <th></th>\n",
       "      <th>surface</th>\n",
       "      <th>yomi</th>\n",
       "      <th>original</th>\n",
       "      <th>type</th>\n",
       "      <th>katsuyoukei</th>\n",
       "      <th>katsuyougata</th>\n",
       "      <th>内容</th>\n",
       "    </tr>\n",
       "  </thead>\n",
       "  <tbody>\n",
       "    <tr>\n",
       "      <th>0</th>\n",
       "      <td>neologd</td>\n",
       "      <td>ネオログディー</td>\n",
       "      <td>NEologd</td>\n",
       "      <td>名詞-固有名詞-一般</td>\n",
       "      <td>NaN</td>\n",
       "      <td>NaN</td>\n",
       "      <td>neologd_tagger.parse(text)で各単語の原形、品詞などが1行で連続して...</td>\n",
       "    </tr>\n",
       "    <tr>\n",
       "      <th>1</th>\n",
       "      <td>_</td>\n",
       "      <td>_</td>\n",
       "      <td>_</td>\n",
       "      <td>記号-一般</td>\n",
       "      <td>NaN</td>\n",
       "      <td>NaN</td>\n",
       "      <td>neologd_tagger.parse(text)で各単語の原形、品詞などが1行で連続して...</td>\n",
       "    </tr>\n",
       "    <tr>\n",
       "      <th>2</th>\n",
       "      <td>tagger</td>\n",
       "      <td>タガー</td>\n",
       "      <td>tagger</td>\n",
       "      <td>名詞-固有名詞-一般</td>\n",
       "      <td>NaN</td>\n",
       "      <td>NaN</td>\n",
       "      <td>neologd_tagger.parse(text)で各単語の原形、品詞などが1行で連続して...</td>\n",
       "    </tr>\n",
       "    <tr>\n",
       "      <th>3</th>\n",
       "      <td>.</td>\n",
       "      <td>.</td>\n",
       "      <td>.</td>\n",
       "      <td>記号-一般</td>\n",
       "      <td>NaN</td>\n",
       "      <td>NaN</td>\n",
       "      <td>neologd_tagger.parse(text)で各単語の原形、品詞などが1行で連続して...</td>\n",
       "    </tr>\n",
       "    <tr>\n",
       "      <th>4</th>\n",
       "      <td>parse</td>\n",
       "      <td>パース</td>\n",
       "      <td>Parse</td>\n",
       "      <td>名詞-固有名詞-一般</td>\n",
       "      <td>NaN</td>\n",
       "      <td>NaN</td>\n",
       "      <td>neologd_tagger.parse(text)で各単語の原形、品詞などが1行で連続して...</td>\n",
       "    </tr>\n",
       "  </tbody>\n",
       "</table>\n",
       "</div>"
      ],
      "text/plain": [
       "   surface     yomi original        type katsuyoukei katsuyougata  \\\n",
       "0  neologd  ネオログディー  NEologd  名詞-固有名詞-一般         NaN          NaN   \n",
       "1        _        _        _       記号-一般         NaN          NaN   \n",
       "2   tagger      タガー   tagger  名詞-固有名詞-一般         NaN          NaN   \n",
       "3        .        .        .       記号-一般         NaN          NaN   \n",
       "4    parse      パース    Parse  名詞-固有名詞-一般         NaN          NaN   \n",
       "\n",
       "                                                  内容  \n",
       "0  neologd_tagger.parse(text)で各単語の原形、品詞などが1行で連続して...  \n",
       "1  neologd_tagger.parse(text)で各単語の原形、品詞などが1行で連続して...  \n",
       "2  neologd_tagger.parse(text)で各単語の原形、品詞などが1行で連続して...  \n",
       "3  neologd_tagger.parse(text)で各単語の原形、品詞などが1行で連続して...  \n",
       "4  neologd_tagger.parse(text)で各単語の原形、品詞などが1行で連続して...  "
      ]
     },
     "execution_count": 2,
     "metadata": {},
     "output_type": "execute_result"
    }
   ],
   "source": [
    "df = pd.read_csv('all_text_wakatigaki.csv',encoding='utf-8')\n",
    "df.head()"
   ]
  },
  {
   "cell_type": "markdown",
   "metadata": {},
   "source": [
    "# カラムのユニークな要素をリスト型で取得①"
   ]
  },
  {
   "cell_type": "code",
   "execution_count": 3,
   "metadata": {},
   "outputs": [
    {
     "data": {
      "text/plain": [
       "['名詞-一般',\n",
       " '助詞-格助詞-一般',\n",
       " '記号-一般',\n",
       " '動詞-自立',\n",
       " '名詞-固有名詞-一般',\n",
       " '助動詞',\n",
       " '名詞-固有名詞-組織',\n",
       " '助詞-連体化',\n",
       " '名詞-接尾-一般',\n",
       " '名詞-サ変接続',\n",
       " '助詞-係助詞',\n",
       " '記号-読点',\n",
       " '助詞-接続助詞',\n",
       " '記号-括弧閉',\n",
       " '動詞-接尾',\n",
       " '記号-括弧開',\n",
       " '接続詞',\n",
       " '助詞-副助詞',\n",
       " '接頭詞-名詞接続',\n",
       " '記号-句点',\n",
       " '名詞-接尾-助数詞',\n",
       " '動詞-非自立',\n",
       " '名詞-非自立-副詞可能',\n",
       " '助詞-並立助詞',\n",
       " '名詞-形容動詞語幹',\n",
       " '名詞-数']"
      ]
     },
     "execution_count": 3,
     "metadata": {},
     "output_type": "execute_result"
    }
   ],
   "source": [
    "col_list = df['type'].value_counts().reset_index()['index'].tolist()\n",
    "col_list"
   ]
  },
  {
   "cell_type": "code",
   "execution_count": 4,
   "metadata": {},
   "outputs": [
    {
     "data": {
      "text/plain": [
       "['名詞-固有名詞-一般',\n",
       " '記号-一般',\n",
       " '名詞-固有名詞-一般',\n",
       " '記号-一般',\n",
       " '名詞-固有名詞-一般',\n",
       " '記号-一般',\n",
       " '名詞-固有名詞-一般',\n",
       " '記号-一般',\n",
       " '助詞-格助詞-一般',\n",
       " '接頭詞-名詞接続',\n",
       " '名詞-一般',\n",
       " '助詞-連体化',\n",
       " '名詞-一般',\n",
       " '記号-読点',\n",
       " '名詞-一般',\n",
       " '助詞-副助詞',\n",
       " '助詞-格助詞-一般',\n",
       " '名詞-数',\n",
       " '名詞-接尾-助数詞',\n",
       " '助詞-格助詞-一般',\n",
       " '名詞-サ変接続',\n",
       " '動詞-自立',\n",
       " '助詞-接続助詞',\n",
       " '名詞-サ変接続',\n",
       " '動詞-自立',\n",
       " '動詞-接尾',\n",
       " '名詞-一般',\n",
       " '記号-読点',\n",
       " '名詞-一般',\n",
       " '助詞-副助詞',\n",
       " '助詞-連体化',\n",
       " '名詞-一般',\n",
       " '助詞-格助詞-一般',\n",
       " '助詞-係助詞',\n",
       " '記号-括弧開',\n",
       " '記号-一般',\n",
       " '名詞-固有名詞-組織',\n",
       " '記号-括弧閉',\n",
       " '助詞-格助詞-一般',\n",
       " '記号-読点',\n",
       " '名詞-一般',\n",
       " '動詞-自立',\n",
       " '動詞-接尾',\n",
       " '助動詞',\n",
       " '名詞-一般',\n",
       " '助詞-並立助詞',\n",
       " '名詞-一般',\n",
       " '助詞-連体化',\n",
       " '名詞-一般',\n",
       " '助詞-格助詞-一般',\n",
       " '助詞-係助詞',\n",
       " '記号-括弧開',\n",
       " '記号-一般',\n",
       " '名詞-固有名詞-組織',\n",
       " '記号-括弧閉',\n",
       " '助詞-格助詞-一般',\n",
       " '名詞-サ変接続',\n",
       " '動詞-自立',\n",
       " '動詞-接尾',\n",
       " '接続詞',\n",
       " '名詞-固有名詞-一般',\n",
       " '名詞-固有名詞-一般',\n",
       " '助詞-格助詞-一般',\n",
       " '名詞-一般',\n",
       " '動詞-自立',\n",
       " '助動詞',\n",
       " '名詞-一般',\n",
       " '名詞-接尾-一般',\n",
       " '助詞-係助詞',\n",
       " '名詞-一般',\n",
       " '助詞-連体化',\n",
       " '名詞-固有名詞-一般',\n",
       " '名詞-接尾-一般',\n",
       " '助詞-格助詞-一般',\n",
       " '動詞-自立',\n",
       " '助詞-接続助詞',\n",
       " '動詞-非自立',\n",
       " '助詞-接続助詞',\n",
       " '記号-括弧開',\n",
       " '記号-一般',\n",
       " '名詞-固有名詞-組織',\n",
       " '記号-括弧閉',\n",
       " '助詞-格助詞-一般',\n",
       " '動詞-自立',\n",
       " '記号-読点',\n",
       " '名詞-一般',\n",
       " '名詞-接尾-一般',\n",
       " '助詞-格助詞-一般',\n",
       " '動詞-自立',\n",
       " '接続詞',\n",
       " '名詞-形容動詞語幹',\n",
       " '助動詞',\n",
       " '名詞-一般',\n",
       " '記号-一般',\n",
       " '名詞-固有名詞-組織',\n",
       " '記号-括弧閉',\n",
       " '助詞-格助詞-一般',\n",
       " '動詞-自立',\n",
       " '助動詞',\n",
       " '記号-句点',\n",
       " '接続詞',\n",
       " '記号-読点',\n",
       " '名詞-固有名詞-組織',\n",
       " '記号-一般',\n",
       " '名詞-固有名詞-組織',\n",
       " '記号-一般',\n",
       " '助詞-格助詞-一般',\n",
       " '名詞-サ変接続',\n",
       " '動詞-自立',\n",
       " '助動詞',\n",
       " '助詞-接続助詞',\n",
       " '名詞-一般',\n",
       " '記号-一般',\n",
       " '名詞-固有名詞-一般',\n",
       " '助詞-係助詞',\n",
       " '名詞-固有名詞-一般',\n",
       " '名詞-接尾-一般',\n",
       " '助詞-格助詞-一般',\n",
       " '助詞-係助詞',\n",
       " '助動詞',\n",
       " '名詞-一般',\n",
       " '名詞-接尾-一般',\n",
       " '助詞-連体化',\n",
       " '名詞-非自立-副詞可能',\n",
       " '名詞-一般',\n",
       " '名詞-一般',\n",
       " '助詞-格助詞-一般',\n",
       " '名詞-サ変接続',\n",
       " '動詞-自立',\n",
       " '助動詞']"
      ]
     },
     "execution_count": 4,
     "metadata": {},
     "output_type": "execute_result"
    }
   ],
   "source": [
    "'''重複あり'''\n",
    "col_list2 = df['type'].tolist()\n",
    "col_list2"
   ]
  },
  {
   "cell_type": "markdown",
   "metadata": {},
   "source": [
    "# カラムのユニークな要素をリスト型で取得②"
   ]
  },
  {
   "cell_type": "code",
   "execution_count": 5,
   "metadata": {},
   "outputs": [
    {
     "data": {
      "text/plain": [
       "['助詞-係助詞',\n",
       " '記号-一般',\n",
       " '名詞-非自立-副詞可能',\n",
       " '名詞-接尾-一般',\n",
       " '記号-句点',\n",
       " '助詞-連体化',\n",
       " '名詞-固有名詞-一般',\n",
       " '名詞-接尾-助数詞',\n",
       " '助詞-副助詞',\n",
       " '記号-括弧閉',\n",
       " '助詞-格助詞-一般',\n",
       " '助詞-並立助詞',\n",
       " '名詞-形容動詞語幹',\n",
       " '接続詞',\n",
       " '助動詞',\n",
       " '名詞-サ変接続',\n",
       " '記号-括弧開',\n",
       " '助詞-接続助詞',\n",
       " '接頭詞-名詞接続',\n",
       " '動詞-接尾',\n",
       " '記号-読点',\n",
       " '動詞-非自立',\n",
       " '名詞-一般',\n",
       " '動詞-自立',\n",
       " '名詞-固有名詞-組織',\n",
       " '名詞-数']"
      ]
     },
     "execution_count": 5,
     "metadata": {},
     "output_type": "execute_result"
    }
   ],
   "source": [
    "col_list3 = list(set(df['type'].tolist()))\n",
    "col_list3"
   ]
  },
  {
   "cell_type": "code",
   "execution_count": 6,
   "metadata": {},
   "outputs": [
    {
     "data": {
      "text/plain": [
       "26"
      ]
     },
     "metadata": {},
     "output_type": "display_data"
    },
    {
     "data": {
      "text/plain": [
       "26"
      ]
     },
     "metadata": {},
     "output_type": "display_data"
    }
   ],
   "source": [
    "display(len(col_list), len(col_list3))"
   ]
  },
  {
   "cell_type": "code",
   "execution_count": null,
   "metadata": {
    "collapsed": true
   },
   "outputs": [],
   "source": []
  }
 ],
 "metadata": {
  "kernelspec": {
   "display_name": "Python 3",
   "language": "python",
   "name": "python3"
  },
  "language_info": {
   "codemirror_mode": {
    "name": "ipython",
    "version": 3
   },
   "file_extension": ".py",
   "mimetype": "text/x-python",
   "name": "python",
   "nbconvert_exporter": "python",
   "pygments_lexer": "ipython3",
   "version": "3.6.3"
  }
 },
 "nbformat": 4,
 "nbformat_minor": 2
}
