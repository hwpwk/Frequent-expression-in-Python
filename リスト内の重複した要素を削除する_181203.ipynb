{
 "cells": [
  {
   "cell_type": "code",
   "execution_count": 1,
   "metadata": {
    "collapsed": true
   },
   "outputs": [],
   "source": [
    "# データ分析用のライブラリ\n",
    "import pandas as pd\n",
    "import numpy as np\n",
    "\n",
    "# 可視化用のライブラリ\n",
    "import matplotlib.pyplot as plt\n",
    "%matplotlib inline"
   ]
  },
  {
   "cell_type": "markdown",
   "metadata": {},
   "source": [
    "#### データ読み込み時にカラムを絞る\n",
    "usecols=['xx', 'yy']を引数に与える"
   ]
  },
  {
   "cell_type": "code",
   "execution_count": 2,
   "metadata": {
    "scrolled": true
   },
   "outputs": [
    {
     "data": {
      "text/html": [
       "<div>\n",
       "<style>\n",
       "    .dataframe thead tr:only-child th {\n",
       "        text-align: right;\n",
       "    }\n",
       "\n",
       "    .dataframe thead th {\n",
       "        text-align: left;\n",
       "    }\n",
       "\n",
       "    .dataframe tbody tr th {\n",
       "        vertical-align: top;\n",
       "    }\n",
       "</style>\n",
       "<table border=\"1\" class=\"dataframe\">\n",
       "  <thead>\n",
       "    <tr style=\"text-align: right;\">\n",
       "      <th></th>\n",
       "      <th>original</th>\n",
       "      <th>type</th>\n",
       "      <th>内容</th>\n",
       "    </tr>\n",
       "  </thead>\n",
       "  <tbody>\n",
       "    <tr>\n",
       "      <th>0</th>\n",
       "      <td>NEologd</td>\n",
       "      <td>名詞-固有名詞-一般</td>\n",
       "      <td>neologd_tagger.parse(text)で各単語の原形、品詞などが1行で連続して...</td>\n",
       "    </tr>\n",
       "    <tr>\n",
       "      <th>1</th>\n",
       "      <td>_</td>\n",
       "      <td>記号-一般</td>\n",
       "      <td>neologd_tagger.parse(text)で各単語の原形、品詞などが1行で連続して...</td>\n",
       "    </tr>\n",
       "    <tr>\n",
       "      <th>2</th>\n",
       "      <td>tagger</td>\n",
       "      <td>名詞-固有名詞-一般</td>\n",
       "      <td>neologd_tagger.parse(text)で各単語の原形、品詞などが1行で連続して...</td>\n",
       "    </tr>\n",
       "    <tr>\n",
       "      <th>3</th>\n",
       "      <td>.</td>\n",
       "      <td>記号-一般</td>\n",
       "      <td>neologd_tagger.parse(text)で各単語の原形、品詞などが1行で連続して...</td>\n",
       "    </tr>\n",
       "    <tr>\n",
       "      <th>4</th>\n",
       "      <td>Parse</td>\n",
       "      <td>名詞-固有名詞-一般</td>\n",
       "      <td>neologd_tagger.parse(text)で各単語の原形、品詞などが1行で連続して...</td>\n",
       "    </tr>\n",
       "  </tbody>\n",
       "</table>\n",
       "</div>"
      ],
      "text/plain": [
       "  original        type                                                 内容\n",
       "0  NEologd  名詞-固有名詞-一般  neologd_tagger.parse(text)で各単語の原形、品詞などが1行で連続して...\n",
       "1        _       記号-一般  neologd_tagger.parse(text)で各単語の原形、品詞などが1行で連続して...\n",
       "2   tagger  名詞-固有名詞-一般  neologd_tagger.parse(text)で各単語の原形、品詞などが1行で連続して...\n",
       "3        .       記号-一般  neologd_tagger.parse(text)で各単語の原形、品詞などが1行で連続して...\n",
       "4    Parse  名詞-固有名詞-一般  neologd_tagger.parse(text)で各単語の原形、品詞などが1行で連続して..."
      ]
     },
     "execution_count": 2,
     "metadata": {},
     "output_type": "execute_result"
    }
   ],
   "source": [
    "squeeze_df = pd.read_csv('all_text_wakatigaki.csv', usecols=['内容', 'original', 'type'] ,encoding='utf-8')\n",
    "squeeze_df.head()"
   ]
  },
  {
   "cell_type": "code",
   "execution_count": 3,
   "metadata": {},
   "outputs": [
    {
     "data": {
      "text/plain": [
       "['名詞-固有名詞-一般',\n",
       " '記号-一般',\n",
       " '名詞-固有名詞-一般',\n",
       " '記号-一般',\n",
       " '名詞-固有名詞-一般',\n",
       " '記号-一般',\n",
       " '名詞-固有名詞-一般',\n",
       " '記号-一般',\n",
       " '助詞-格助詞-一般',\n",
       " '接頭詞-名詞接続',\n",
       " '名詞-一般',\n",
       " '助詞-連体化',\n",
       " '名詞-一般',\n",
       " '記号-読点',\n",
       " '名詞-一般',\n",
       " '助詞-副助詞',\n",
       " '助詞-格助詞-一般',\n",
       " '名詞-数',\n",
       " '名詞-接尾-助数詞',\n",
       " '助詞-格助詞-一般',\n",
       " '名詞-サ変接続',\n",
       " '動詞-自立',\n",
       " '助詞-接続助詞',\n",
       " '名詞-サ変接続',\n",
       " '動詞-自立',\n",
       " '動詞-接尾',\n",
       " '名詞-一般',\n",
       " '記号-読点',\n",
       " '名詞-一般',\n",
       " '助詞-副助詞',\n",
       " '助詞-連体化',\n",
       " '名詞-一般',\n",
       " '助詞-格助詞-一般',\n",
       " '助詞-係助詞',\n",
       " '記号-括弧開',\n",
       " '記号-一般',\n",
       " '名詞-固有名詞-組織',\n",
       " '記号-括弧閉',\n",
       " '助詞-格助詞-一般',\n",
       " '記号-読点',\n",
       " '名詞-一般',\n",
       " '動詞-自立',\n",
       " '動詞-接尾',\n",
       " '助動詞',\n",
       " '名詞-一般',\n",
       " '助詞-並立助詞',\n",
       " '名詞-一般',\n",
       " '助詞-連体化',\n",
       " '名詞-一般',\n",
       " '助詞-格助詞-一般',\n",
       " '助詞-係助詞',\n",
       " '記号-括弧開',\n",
       " '記号-一般',\n",
       " '名詞-固有名詞-組織',\n",
       " '記号-括弧閉',\n",
       " '助詞-格助詞-一般',\n",
       " '名詞-サ変接続',\n",
       " '動詞-自立',\n",
       " '動詞-接尾',\n",
       " '接続詞',\n",
       " '名詞-固有名詞-一般',\n",
       " '名詞-固有名詞-一般',\n",
       " '助詞-格助詞-一般',\n",
       " '名詞-一般',\n",
       " '動詞-自立',\n",
       " '助動詞',\n",
       " '名詞-一般',\n",
       " '名詞-接尾-一般',\n",
       " '助詞-係助詞',\n",
       " '名詞-一般',\n",
       " '助詞-連体化',\n",
       " '名詞-固有名詞-一般',\n",
       " '名詞-接尾-一般',\n",
       " '助詞-格助詞-一般',\n",
       " '動詞-自立',\n",
       " '助詞-接続助詞',\n",
       " '動詞-非自立',\n",
       " '助詞-接続助詞',\n",
       " '記号-括弧開',\n",
       " '記号-一般',\n",
       " '名詞-固有名詞-組織',\n",
       " '記号-括弧閉',\n",
       " '助詞-格助詞-一般',\n",
       " '動詞-自立',\n",
       " '記号-読点',\n",
       " '名詞-一般',\n",
       " '名詞-接尾-一般',\n",
       " '助詞-格助詞-一般',\n",
       " '動詞-自立',\n",
       " '接続詞',\n",
       " '名詞-形容動詞語幹',\n",
       " '助動詞',\n",
       " '名詞-一般',\n",
       " '記号-一般',\n",
       " '名詞-固有名詞-組織',\n",
       " '記号-括弧閉',\n",
       " '助詞-格助詞-一般',\n",
       " '動詞-自立',\n",
       " '助動詞',\n",
       " '記号-句点',\n",
       " '接続詞',\n",
       " '記号-読点',\n",
       " '名詞-固有名詞-組織',\n",
       " '記号-一般',\n",
       " '名詞-固有名詞-組織',\n",
       " '記号-一般',\n",
       " '助詞-格助詞-一般',\n",
       " '名詞-サ変接続',\n",
       " '動詞-自立',\n",
       " '助動詞',\n",
       " '助詞-接続助詞',\n",
       " '名詞-一般',\n",
       " '記号-一般',\n",
       " '名詞-固有名詞-一般',\n",
       " '助詞-係助詞',\n",
       " '名詞-固有名詞-一般',\n",
       " '名詞-接尾-一般',\n",
       " '助詞-格助詞-一般',\n",
       " '助詞-係助詞',\n",
       " '助動詞',\n",
       " '名詞-一般',\n",
       " '名詞-接尾-一般',\n",
       " '助詞-連体化',\n",
       " '名詞-非自立-副詞可能',\n",
       " '名詞-一般',\n",
       " '名詞-一般',\n",
       " '助詞-格助詞-一般',\n",
       " '名詞-サ変接続',\n",
       " '動詞-自立',\n",
       " '助動詞']"
      ]
     },
     "execution_count": 3,
     "metadata": {},
     "output_type": "execute_result"
    }
   ],
   "source": [
    "# Series型からlist型に変更\n",
    "type_list = squeeze_df['type'].tolist()\n",
    "type_list"
   ]
  },
  {
   "cell_type": "markdown",
   "metadata": {},
   "source": [
    "## リスト内の重複した要素を削除し、ユニークな要素のみ格納されたリストを生成\n",
    "元のリストの順序を保持する必要がない場合はset関数を使えばよい\n",
    "\n",
    "参考URL：https://note.nkmk.me/python-list-unique-duplicate/"
   ]
  },
  {
   "cell_type": "code",
   "execution_count": 4,
   "metadata": {},
   "outputs": [
    {
     "data": {
      "text/plain": [
       "['動詞-非自立',\n",
       " '助詞-連体化',\n",
       " '動詞-接尾',\n",
       " '記号-句点',\n",
       " '助詞-副助詞',\n",
       " '記号-読点',\n",
       " '名詞-接尾-一般',\n",
       " '名詞-固有名詞-組織',\n",
       " '名詞-サ変接続',\n",
       " '名詞-固有名詞-一般',\n",
       " '名詞-数',\n",
       " '記号-括弧開',\n",
       " '助詞-並立助詞',\n",
       " '助詞-係助詞',\n",
       " '名詞-接尾-助数詞',\n",
       " '助詞-格助詞-一般',\n",
       " '名詞-一般',\n",
       " '助詞-接続助詞',\n",
       " '助動詞',\n",
       " '名詞-非自立-副詞可能',\n",
       " '記号-括弧閉',\n",
       " '接続詞',\n",
       " '名詞-形容動詞語幹',\n",
       " '接頭詞-名詞接続',\n",
       " '動詞-自立',\n",
       " '記号-一般']"
      ]
     },
     "execution_count": 4,
     "metadata": {},
     "output_type": "execute_result"
    }
   ],
   "source": [
    "unique_type_list = list(set(type_list))\n",
    "unique_type_list"
   ]
  },
  {
   "cell_type": "code",
   "execution_count": null,
   "metadata": {
    "collapsed": true
   },
   "outputs": [],
   "source": []
  }
 ],
 "metadata": {
  "kernelspec": {
   "display_name": "Python 3",
   "language": "python",
   "name": "python3"
  },
  "language_info": {
   "codemirror_mode": {
    "name": "ipython",
    "version": 3
   },
   "file_extension": ".py",
   "mimetype": "text/x-python",
   "name": "python",
   "nbconvert_exporter": "python",
   "pygments_lexer": "ipython3",
   "version": "3.6.3"
  }
 },
 "nbformat": 4,
 "nbformat_minor": 2
}
