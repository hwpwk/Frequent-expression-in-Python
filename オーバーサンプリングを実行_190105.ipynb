{
 "cells": [
  {
   "cell_type": "code",
   "execution_count": 1,
   "metadata": {
    "collapsed": true
   },
   "outputs": [],
   "source": [
    "import pandas as pd\n",
    "import numpy as np\n",
    "from sklearn.datasets import make_classification\n",
    "from imblearn.over_sampling import SMOTE"
   ]
  },
  {
   "cell_type": "markdown",
   "metadata": {},
   "source": [
    "### 不均衡データを生成"
   ]
  },
  {
   "cell_type": "code",
   "execution_count": 2,
   "metadata": {
    "collapsed": true
   },
   "outputs": [],
   "source": [
    "'''make_classification関数の返り値はタプル型になっている'''\n",
    "''' 今回はデータ数が10000で特徴量の数が10個の2値分類データを生成'''\n",
    "'''tuple[0]に特徴量(10000, 10)、tuple[1]に0,1ラベル(10000,)のnummpy.arrayオブジェクトを返す'''\n",
    "\n",
    "sample_tuple = make_classification(\n",
    "    n_samples=10000,# 生成するサンプルサイズ\n",
    "    n_features=10,# 生成する特徴量の数\n",
    "    n_informative=2,# 目的変数のラベルと相関が強い特徴量(Informative fearture）の数\n",
    "    n_redundant=0,# Informative featureの線形結合から作られる特徴量(Redundant fearture）の数\n",
    "    n_repeated=0,# Infomative、Redundant featureのコピーからなる特徴量の数(Repeated feature)\n",
    "    n_classes=2,# 分類するクラス数\n",
    "    n_clusters_per_class=2,# 1クラスあたりのクラスタ数\n",
    "    weights=[0.8,0.2],# クラスの比率 例えば、2値分類問題の場合、Noneとすると0と1が50%ずつだが、[0.9, 0.1] と与えると0が90%、1が10%になる\n",
    "    flip_y=0,#クラスのフリップ率で、例えば0.01とすると各クラスの1%の符号がランダムに変更される\n",
    "    class_sep=1.0,#\n",
    "    hypercube=True,\n",
    "    shift=0.0,# 全ての特徴量にshiftを加算する。Noneが指定された場合、[-class_sep, class_sep]の一様乱数を加算する\n",
    "    scale=1.0,# 全ての特徴量にscaleを乗算、Noneが指定された場合、 [1, 100]の一様乱数を乗算する\n",
    "    shuffle=True,# Trueにすると行と列をシャッフルする\n",
    "    random_state=0# 乱数を制御するパラメータで、Noneにすると毎回違うデータが生成されが、整数をシードとして渡すと毎回同じデータが生成される\n",
    ")"
   ]
  },
  {
   "cell_type": "code",
   "execution_count": 3,
   "metadata": {
    "scrolled": true
   },
   "outputs": [
    {
     "data": {
      "text/html": [
       "<div>\n",
       "<style>\n",
       "    .dataframe thead tr:only-child th {\n",
       "        text-align: right;\n",
       "    }\n",
       "\n",
       "    .dataframe thead th {\n",
       "        text-align: left;\n",
       "    }\n",
       "\n",
       "    .dataframe tbody tr th {\n",
       "        vertical-align: top;\n",
       "    }\n",
       "</style>\n",
       "<table border=\"1\" class=\"dataframe\">\n",
       "  <thead>\n",
       "    <tr style=\"text-align: right;\">\n",
       "      <th></th>\n",
       "      <th>feature1</th>\n",
       "      <th>feature2</th>\n",
       "      <th>feature3</th>\n",
       "      <th>feature4</th>\n",
       "      <th>feature5</th>\n",
       "      <th>feature6</th>\n",
       "      <th>feature7</th>\n",
       "      <th>feature8</th>\n",
       "      <th>feature9</th>\n",
       "      <th>feature10</th>\n",
       "      <th>label</th>\n",
       "    </tr>\n",
       "  </thead>\n",
       "  <tbody>\n",
       "    <tr>\n",
       "      <th>0</th>\n",
       "      <td>0.816287</td>\n",
       "      <td>-0.139045</td>\n",
       "      <td>0.018994</td>\n",
       "      <td>-0.036648</td>\n",
       "      <td>-1.138450</td>\n",
       "      <td>-0.325999</td>\n",
       "      <td>0.142047</td>\n",
       "      <td>0.129547</td>\n",
       "      <td>-0.568520</td>\n",
       "      <td>0.077755</td>\n",
       "      <td>0</td>\n",
       "    </tr>\n",
       "    <tr>\n",
       "      <th>1</th>\n",
       "      <td>-1.273545</td>\n",
       "      <td>1.289346</td>\n",
       "      <td>0.313829</td>\n",
       "      <td>0.442706</td>\n",
       "      <td>0.901476</td>\n",
       "      <td>0.335221</td>\n",
       "      <td>-0.160540</td>\n",
       "      <td>-0.627416</td>\n",
       "      <td>0.044498</td>\n",
       "      <td>0.331668</td>\n",
       "      <td>1</td>\n",
       "    </tr>\n",
       "    <tr>\n",
       "      <th>2</th>\n",
       "      <td>1.100432</td>\n",
       "      <td>2.230420</td>\n",
       "      <td>-0.370878</td>\n",
       "      <td>-0.555314</td>\n",
       "      <td>0.287594</td>\n",
       "      <td>-0.176547</td>\n",
       "      <td>-1.143621</td>\n",
       "      <td>-0.476902</td>\n",
       "      <td>-0.077695</td>\n",
       "      <td>0.136673</td>\n",
       "      <td>0</td>\n",
       "    </tr>\n",
       "    <tr>\n",
       "      <th>3</th>\n",
       "      <td>-1.347767</td>\n",
       "      <td>-1.695182</td>\n",
       "      <td>1.498963</td>\n",
       "      <td>0.220853</td>\n",
       "      <td>-0.697995</td>\n",
       "      <td>-1.037833</td>\n",
       "      <td>-0.074883</td>\n",
       "      <td>-0.658640</td>\n",
       "      <td>-1.739479</td>\n",
       "      <td>0.334915</td>\n",
       "      <td>1</td>\n",
       "    </tr>\n",
       "    <tr>\n",
       "      <th>4</th>\n",
       "      <td>-0.123829</td>\n",
       "      <td>0.985498</td>\n",
       "      <td>-0.343744</td>\n",
       "      <td>-1.573451</td>\n",
       "      <td>1.240281</td>\n",
       "      <td>-1.977330</td>\n",
       "      <td>-0.676114</td>\n",
       "      <td>-2.031301</td>\n",
       "      <td>-2.117098</td>\n",
       "      <td>0.148379</td>\n",
       "      <td>0</td>\n",
       "    </tr>\n",
       "  </tbody>\n",
       "</table>\n",
       "</div>"
      ],
      "text/plain": [
       "   feature1  feature2  feature3  feature4  feature5  feature6  feature7  \\\n",
       "0  0.816287 -0.139045  0.018994 -0.036648 -1.138450 -0.325999  0.142047   \n",
       "1 -1.273545  1.289346  0.313829  0.442706  0.901476  0.335221 -0.160540   \n",
       "2  1.100432  2.230420 -0.370878 -0.555314  0.287594 -0.176547 -1.143621   \n",
       "3 -1.347767 -1.695182  1.498963  0.220853 -0.697995 -1.037833 -0.074883   \n",
       "4 -0.123829  0.985498 -0.343744 -1.573451  1.240281 -1.977330 -0.676114   \n",
       "\n",
       "   feature8  feature9  feature10  label  \n",
       "0  0.129547 -0.568520   0.077755      0  \n",
       "1 -0.627416  0.044498   0.331668      1  \n",
       "2 -0.476902 -0.077695   0.136673      0  \n",
       "3 -0.658640 -1.739479   0.334915      1  \n",
       "4 -2.031301 -2.117098   0.148379      0  "
      ]
     },
     "metadata": {},
     "output_type": "display_data"
    },
    {
     "data": {
      "text/html": [
       "<div>\n",
       "<style>\n",
       "    .dataframe thead tr:only-child th {\n",
       "        text-align: right;\n",
       "    }\n",
       "\n",
       "    .dataframe thead th {\n",
       "        text-align: left;\n",
       "    }\n",
       "\n",
       "    .dataframe tbody tr th {\n",
       "        vertical-align: top;\n",
       "    }\n",
       "</style>\n",
       "<table border=\"1\" class=\"dataframe\">\n",
       "  <thead>\n",
       "    <tr style=\"text-align: right;\">\n",
       "      <th></th>\n",
       "      <th>feature1</th>\n",
       "      <th>feature2</th>\n",
       "      <th>feature3</th>\n",
       "      <th>feature4</th>\n",
       "      <th>feature5</th>\n",
       "      <th>feature6</th>\n",
       "      <th>feature7</th>\n",
       "      <th>feature8</th>\n",
       "      <th>feature9</th>\n",
       "      <th>feature10</th>\n",
       "      <th>label</th>\n",
       "    </tr>\n",
       "  </thead>\n",
       "  <tbody>\n",
       "    <tr>\n",
       "      <th>9995</th>\n",
       "      <td>-0.708704</td>\n",
       "      <td>-1.434699</td>\n",
       "      <td>-1.041849</td>\n",
       "      <td>0.826490</td>\n",
       "      <td>1.030935</td>\n",
       "      <td>-1.140579</td>\n",
       "      <td>0.846821</td>\n",
       "      <td>-0.625970</td>\n",
       "      <td>-1.001335</td>\n",
       "      <td>1.674589</td>\n",
       "      <td>0</td>\n",
       "    </tr>\n",
       "    <tr>\n",
       "      <th>9996</th>\n",
       "      <td>-0.466609</td>\n",
       "      <td>2.136676</td>\n",
       "      <td>-0.649788</td>\n",
       "      <td>1.386893</td>\n",
       "      <td>0.390530</td>\n",
       "      <td>-0.489459</td>\n",
       "      <td>0.328740</td>\n",
       "      <td>0.313474</td>\n",
       "      <td>-1.298719</td>\n",
       "      <td>1.445180</td>\n",
       "      <td>0</td>\n",
       "    </tr>\n",
       "    <tr>\n",
       "      <th>9997</th>\n",
       "      <td>-0.653944</td>\n",
       "      <td>0.274619</td>\n",
       "      <td>-0.982599</td>\n",
       "      <td>0.893593</td>\n",
       "      <td>0.953820</td>\n",
       "      <td>0.843044</td>\n",
       "      <td>-0.857943</td>\n",
       "      <td>0.879207</td>\n",
       "      <td>-0.191407</td>\n",
       "      <td>-0.745003</td>\n",
       "      <td>0</td>\n",
       "    </tr>\n",
       "    <tr>\n",
       "      <th>9998</th>\n",
       "      <td>1.216568</td>\n",
       "      <td>-0.865380</td>\n",
       "      <td>-2.977779</td>\n",
       "      <td>-0.296825</td>\n",
       "      <td>-1.453430</td>\n",
       "      <td>1.267117</td>\n",
       "      <td>0.285247</td>\n",
       "      <td>-0.526219</td>\n",
       "      <td>1.216049</td>\n",
       "      <td>0.386086</td>\n",
       "      <td>0</td>\n",
       "    </tr>\n",
       "    <tr>\n",
       "      <th>9999</th>\n",
       "      <td>1.475198</td>\n",
       "      <td>0.696876</td>\n",
       "      <td>-0.328941</td>\n",
       "      <td>-2.410436</td>\n",
       "      <td>-0.675101</td>\n",
       "      <td>-0.193835</td>\n",
       "      <td>-0.026474</td>\n",
       "      <td>-1.326299</td>\n",
       "      <td>0.023770</td>\n",
       "      <td>-1.166060</td>\n",
       "      <td>0</td>\n",
       "    </tr>\n",
       "  </tbody>\n",
       "</table>\n",
       "</div>"
      ],
      "text/plain": [
       "      feature1  feature2  feature3  feature4  feature5  feature6  feature7  \\\n",
       "9995 -0.708704 -1.434699 -1.041849  0.826490  1.030935 -1.140579  0.846821   \n",
       "9996 -0.466609  2.136676 -0.649788  1.386893  0.390530 -0.489459  0.328740   \n",
       "9997 -0.653944  0.274619 -0.982599  0.893593  0.953820  0.843044 -0.857943   \n",
       "9998  1.216568 -0.865380 -2.977779 -0.296825 -1.453430  1.267117  0.285247   \n",
       "9999  1.475198  0.696876 -0.328941 -2.410436 -0.675101 -0.193835 -0.026474   \n",
       "\n",
       "      feature8  feature9  feature10  label  \n",
       "9995 -0.625970 -1.001335   1.674589      0  \n",
       "9996  0.313474 -1.298719   1.445180      0  \n",
       "9997  0.879207 -0.191407  -0.745003      0  \n",
       "9998 -0.526219  1.216049   0.386086      0  \n",
       "9999 -1.326299  0.023770  -1.166060      0  "
      ]
     },
     "metadata": {},
     "output_type": "display_data"
    }
   ],
   "source": [
    "df = pd.DataFrame(\n",
    "    sample_tuple[0],\n",
    "    columns = ['feature1', 'feature2', 'feature3', 'feature4', 'feature5', 'feature6', 'feature7', 'feature8', 'feature9', 'feature10']\n",
    ")\n",
    "\n",
    "df['label'] = sample_tuple[1]\n",
    "\n",
    "display(df.head(), df.tail())"
   ]
  },
  {
   "cell_type": "code",
   "execution_count": 4,
   "metadata": {},
   "outputs": [
    {
     "data": {
      "text/plain": [
       "0    8000\n",
       "1    2000\n",
       "Name: label, dtype: int64"
      ]
     },
     "execution_count": 4,
     "metadata": {},
     "output_type": "execute_result"
    }
   ],
   "source": [
    "df['label'].value_counts()"
   ]
  },
  {
   "cell_type": "markdown",
   "metadata": {},
   "source": [
    "#### 参考URL：http://overlap.hatenablog.jp/entry/2015/10/08/022246\n",
    "#### 参考URL：http://tekenuko.hatenablog.com/entry/2017/12/11/214522"
   ]
  },
  {
   "cell_type": "markdown",
   "metadata": {
    "collapsed": true
   },
   "source": [
    "## オーバーサンプリング実行\n",
    "SMOTE関数→smote.fit_sample(train_X, train_y)"
   ]
  },
  {
   "cell_type": "code",
   "execution_count": 5,
   "metadata": {
    "collapsed": true
   },
   "outputs": [],
   "source": [
    "'''SMOTE関数の設定'''\n",
    "smote = SMOTE(ratio='auto',# 不均衡データにおける少ない方のデータを多いほうのデータの何割まで増やすかを設定 autoの場合は同じ数まで増やす\n",
    "             k_neighbors=5,# SMOTEのkパラメータ\n",
    "             random_state=0\n",
    "             )"
   ]
  },
  {
   "cell_type": "code",
   "execution_count": 6,
   "metadata": {
    "collapsed": true
   },
   "outputs": [],
   "source": [
    "'''オーバーサンプリング実行'''\n",
    "train_X = df.drop('label', axis=1)\n",
    "train_y = df['label']\n",
    "\n",
    "train_X_resampled, train_y_resampled = smote.fit_sample(train_X, train_y)"
   ]
  },
  {
   "cell_type": "code",
   "execution_count": 7,
   "metadata": {},
   "outputs": [
    {
     "data": {
      "text/plain": [
       "1    8000\n",
       "0    8000\n",
       "Name: label, dtype: int64"
      ]
     },
     "execution_count": 7,
     "metadata": {},
     "output_type": "execute_result"
    }
   ],
   "source": [
    "'''0,1データの数が等しくなっているか確認'''\n",
    "check_df = pd.DataFrame(train_y_resampled, columns=['label'])\n",
    "check_df['label'].value_counts()"
   ]
  },
  {
   "cell_type": "code",
   "execution_count": null,
   "metadata": {
    "collapsed": true
   },
   "outputs": [],
   "source": []
  }
 ],
 "metadata": {
  "kernelspec": {
   "display_name": "Python 3",
   "language": "python",
   "name": "python3"
  },
  "language_info": {
   "codemirror_mode": {
    "name": "ipython",
    "version": 3
   },
   "file_extension": ".py",
   "mimetype": "text/x-python",
   "name": "python",
   "nbconvert_exporter": "python",
   "pygments_lexer": "ipython3",
   "version": "3.6.3"
  }
 },
 "nbformat": 4,
 "nbformat_minor": 2
}
