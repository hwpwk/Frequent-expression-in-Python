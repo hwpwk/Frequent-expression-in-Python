{
 "cells": [
  {
   "cell_type": "code",
   "execution_count": 1,
   "metadata": {},
   "outputs": [],
   "source": [
    "import re\n",
    "import gc\n",
    "import glob\n",
    "\n",
    "import pandas as pd\n",
    "import numpy as np"
   ]
  },
  {
   "cell_type": "code",
   "execution_count": 2,
   "metadata": {},
   "outputs": [
    {
     "data": {
      "text/plain": [
       "18"
      ]
     },
     "metadata": {},
     "output_type": "display_data"
    },
    {
     "data": {
      "text/plain": [
       "['data\\\\enavi201904(6875).csv',\n",
       " 'data\\\\enavi201905(6875).csv',\n",
       " 'data\\\\enavi201906(6875).csv',\n",
       " 'data\\\\enavi201907(6875).csv',\n",
       " 'data\\\\enavi201908(6875).csv',\n",
       " 'data\\\\enavi201909(6875).csv',\n",
       " 'data\\\\enavi201910(6875).csv',\n",
       " 'data\\\\enavi201911(6875).csv',\n",
       " 'data\\\\enavi201912(6875).csv',\n",
       " 'data\\\\enavi202001(6875).csv',\n",
       " 'data\\\\enavi202002(6875).csv',\n",
       " 'data\\\\enavi202003(6875).csv',\n",
       " 'data\\\\enavi202004(6875).csv',\n",
       " 'data\\\\enavi202005(6875).csv',\n",
       " 'data\\\\enavi202006(6875).csv',\n",
       " 'data\\\\enavi202007(6875).csv',\n",
       " 'data\\\\enavi202008(6875).csv',\n",
       " 'data\\\\enavi202009(6875).csv']"
      ]
     },
     "metadata": {},
     "output_type": "display_data"
    }
   ],
   "source": [
    "file_list = sorted(glob.glob('data/enavi*.csv'))\n",
    "\n",
    "display(len(file_list), file_list)"
   ]
  },
  {
   "cell_type": "code",
   "execution_count": 3,
   "metadata": {},
   "outputs": [
    {
     "data": {
      "text/plain": [
       "['enavi201904',\n",
       " 'enavi201905',\n",
       " 'enavi201906',\n",
       " 'enavi201907',\n",
       " 'enavi201908',\n",
       " 'enavi201909',\n",
       " 'enavi201910',\n",
       " 'enavi201911',\n",
       " 'enavi201912',\n",
       " 'enavi202001',\n",
       " 'enavi202002',\n",
       " 'enavi202003',\n",
       " 'enavi202004',\n",
       " 'enavi202005',\n",
       " 'enavi202006',\n",
       " 'enavi202007',\n",
       " 'enavi202008',\n",
       " 'enavi202009']"
      ]
     },
     "execution_count": 3,
     "metadata": {},
     "output_type": "execute_result"
    }
   ],
   "source": [
    "name_list = [name.split('\\\\')[1].split('(')[0] for name in file_list]\n",
    "\n",
    "name_list"
   ]
  },
  {
   "cell_type": "code",
   "execution_count": 4,
   "metadata": {},
   "outputs": [],
   "source": [
    "def memo_for_sqlcode_about_union_all(table_name_list):\n",
    "    '''UNION ALLを効率よく書く関数'''\n",
    "    for i, name in zip(range(len(table_name_list)), table_name_list):\n",
    "        if i == int(len(table_name_list))-1:\n",
    "            print('SELECT * FROM [dbo].[' + name + ']')\n",
    "        else:\n",
    "            print('SELECT * FROM [dbo].[' + name + ']' +  '\\nUNION ALL')"
   ]
  },
  {
   "cell_type": "code",
   "execution_count": 5,
   "metadata": {},
   "outputs": [
    {
     "name": "stdout",
     "output_type": "stream",
     "text": [
      "SELECT * FROM [dbo].[enavi201904]\n",
      "UNION ALL\n",
      "SELECT * FROM [dbo].[enavi201905]\n",
      "UNION ALL\n",
      "SELECT * FROM [dbo].[enavi201906]\n",
      "UNION ALL\n",
      "SELECT * FROM [dbo].[enavi201907]\n",
      "UNION ALL\n",
      "SELECT * FROM [dbo].[enavi201908]\n",
      "UNION ALL\n",
      "SELECT * FROM [dbo].[enavi201909]\n",
      "UNION ALL\n",
      "SELECT * FROM [dbo].[enavi201910]\n",
      "UNION ALL\n",
      "SELECT * FROM [dbo].[enavi201911]\n",
      "UNION ALL\n",
      "SELECT * FROM [dbo].[enavi201912]\n",
      "UNION ALL\n",
      "SELECT * FROM [dbo].[enavi202001]\n",
      "UNION ALL\n",
      "SELECT * FROM [dbo].[enavi202002]\n",
      "UNION ALL\n",
      "SELECT * FROM [dbo].[enavi202003]\n",
      "UNION ALL\n",
      "SELECT * FROM [dbo].[enavi202004]\n",
      "UNION ALL\n",
      "SELECT * FROM [dbo].[enavi202005]\n",
      "UNION ALL\n",
      "SELECT * FROM [dbo].[enavi202006]\n",
      "UNION ALL\n",
      "SELECT * FROM [dbo].[enavi202007]\n",
      "UNION ALL\n",
      "SELECT * FROM [dbo].[enavi202008]\n",
      "UNION ALL\n",
      "SELECT * FROM [dbo].[enavi202009]\n"
     ]
    }
   ],
   "source": [
    "memo_for_sqlcode_about_union_all(name_list)"
   ]
  },
  {
   "cell_type": "code",
   "execution_count": null,
   "metadata": {},
   "outputs": [],
   "source": []
  }
 ],
 "metadata": {
  "kernelspec": {
   "display_name": "Python 3",
   "language": "python",
   "name": "python3"
  },
  "language_info": {
   "codemirror_mode": {
    "name": "ipython",
    "version": 3
   },
   "file_extension": ".py",
   "mimetype": "text/x-python",
   "name": "python",
   "nbconvert_exporter": "python",
   "pygments_lexer": "ipython3",
   "version": "3.6.8"
  }
 },
 "nbformat": 4,
 "nbformat_minor": 2
}
