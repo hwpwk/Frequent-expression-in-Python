{
 "cells": [
  {
   "cell_type": "code",
   "execution_count": 1,
   "metadata": {
    "collapsed": true
   },
   "outputs": [],
   "source": [
    "import pandas as pd\n",
    "import numpy as np"
   ]
  },
  {
   "cell_type": "code",
   "execution_count": 2,
   "metadata": {
    "collapsed": true
   },
   "outputs": [],
   "source": [
    "# col1_listの中に格納されている要素があるデータフレームのカラムであると仮定する\n",
    "col1_list = ['RANK()', 'OVER', 'PARTITION BY', 'ORDER BY']\n",
    "\n",
    "# 上記カラムの末尾に追加したい文字列\n",
    "col2_list = ['_sql', '_window']"
   ]
  },
  {
   "cell_type": "code",
   "execution_count": 3,
   "metadata": {},
   "outputs": [
    {
     "data": {
      "text/plain": [
       "['RANK()_sql',\n",
       " 'RANK()_window',\n",
       " 'OVER_sql',\n",
       " 'OVER_window',\n",
       " 'PARTITION BY_sql',\n",
       " 'PARTITION BY_window',\n",
       " 'ORDER BY_sql',\n",
       " 'ORDER BY_window']"
      ]
     },
     "execution_count": 3,
     "metadata": {},
     "output_type": "execute_result"
    }
   ],
   "source": [
    "# 総当たり\n",
    "import itertools\n",
    "\n",
    "combi_col_list = [col1 + col2 for col1, col2 in itertools.product(col1_list, col2_list)]\n",
    "\n",
    "combi_col_list"
   ]
  },
  {
   "cell_type": "code",
   "execution_count": null,
   "metadata": {
    "collapsed": true
   },
   "outputs": [],
   "source": []
  }
 ],
 "metadata": {
  "kernelspec": {
   "display_name": "Python 3",
   "language": "python",
   "name": "python3"
  },
  "language_info": {
   "codemirror_mode": {
    "name": "ipython",
    "version": 3
   },
   "file_extension": ".py",
   "mimetype": "text/x-python",
   "name": "python",
   "nbconvert_exporter": "python",
   "pygments_lexer": "ipython3",
   "version": "3.6.3"
  }
 },
 "nbformat": 4,
 "nbformat_minor": 2
}
