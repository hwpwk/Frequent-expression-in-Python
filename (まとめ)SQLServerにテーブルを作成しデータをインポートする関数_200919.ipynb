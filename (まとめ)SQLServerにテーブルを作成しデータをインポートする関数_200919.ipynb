{
 "cells": [
  {
   "cell_type": "code",
   "execution_count": 1,
   "metadata": {},
   "outputs": [],
   "source": [
    "import re\n",
    "import gc\n",
    "import glob\n",
    "\n",
    "import pandas as pd\n",
    "import numpy as np"
   ]
  },
  {
   "cell_type": "code",
   "execution_count": 2,
   "metadata": {},
   "outputs": [
    {
     "data": {
      "text/plain": [
       "18"
      ]
     },
     "metadata": {},
     "output_type": "display_data"
    },
    {
     "data": {
      "text/plain": [
       "['data\\\\enavi201904(6875).csv',\n",
       " 'data\\\\enavi201905(6875).csv',\n",
       " 'data\\\\enavi201906(6875).csv',\n",
       " 'data\\\\enavi201907(6875).csv',\n",
       " 'data\\\\enavi201908(6875).csv',\n",
       " 'data\\\\enavi201909(6875).csv',\n",
       " 'data\\\\enavi201910(6875).csv',\n",
       " 'data\\\\enavi201911(6875).csv',\n",
       " 'data\\\\enavi201912(6875).csv',\n",
       " 'data\\\\enavi202001(6875).csv',\n",
       " 'data\\\\enavi202002(6875).csv',\n",
       " 'data\\\\enavi202003(6875).csv',\n",
       " 'data\\\\enavi202004(6875).csv',\n",
       " 'data\\\\enavi202005(6875).csv',\n",
       " 'data\\\\enavi202006(6875).csv',\n",
       " 'data\\\\enavi202007(6875).csv',\n",
       " 'data\\\\enavi202008(6875).csv',\n",
       " 'data\\\\enavi202009(6875).csv']"
      ]
     },
     "metadata": {},
     "output_type": "display_data"
    }
   ],
   "source": [
    "file_list = sorted(glob.glob('data/enavi*.csv'))\n",
    "\n",
    "display(len(file_list), file_list)"
   ]
  },
  {
   "cell_type": "markdown",
   "metadata": {},
   "source": [
    "# SQLServerへのインポート前準備"
   ]
  },
  {
   "cell_type": "markdown",
   "metadata": {},
   "source": [
    "### データの読み込み"
   ]
  },
  {
   "cell_type": "code",
   "execution_count": 3,
   "metadata": {},
   "outputs": [],
   "source": [
    "use_cols_llist = ['利用日', '利用店名・商品名', '利用者', '支払方法', '利用金額', '支払手数料', '支払総額']\n",
    "df_list = [pd.read_csv(path)[use_cols_llist] for path in file_list]\n",
    "\n",
    "# 利用日が欠損値の行を削除\n",
    "df_list = [df.dropna(subset=['利用日']) for df in df_list]\n",
    "\n",
    "# 欠損値をNoneで補完\n",
    "df_list = [df.where(df.notnull(), None) for df in df_list]"
   ]
  },
  {
   "cell_type": "code",
   "execution_count": 4,
   "metadata": {},
   "outputs": [
    {
     "data": {
      "text/plain": [
       "(54, 7)"
      ]
     },
     "metadata": {},
     "output_type": "display_data"
    },
    {
     "data": {
      "text/html": [
       "<div>\n",
       "<style scoped>\n",
       "    .dataframe tbody tr th:only-of-type {\n",
       "        vertical-align: middle;\n",
       "    }\n",
       "\n",
       "    .dataframe tbody tr th {\n",
       "        vertical-align: top;\n",
       "    }\n",
       "\n",
       "    .dataframe thead th {\n",
       "        text-align: right;\n",
       "    }\n",
       "</style>\n",
       "<table border=\"1\" class=\"dataframe\">\n",
       "  <thead>\n",
       "    <tr style=\"text-align: right;\">\n",
       "      <th></th>\n",
       "      <th>利用日</th>\n",
       "      <th>利用店名・商品名</th>\n",
       "      <th>利用者</th>\n",
       "      <th>支払方法</th>\n",
       "      <th>利用金額</th>\n",
       "      <th>支払手数料</th>\n",
       "      <th>支払総額</th>\n",
       "    </tr>\n",
       "  </thead>\n",
       "  <tbody>\n",
       "    <tr>\n",
       "      <th>0</th>\n",
       "      <td>2019/03/30</td>\n",
       "      <td>AMAZON.CO.JP</td>\n",
       "      <td>本人</td>\n",
       "      <td>1回払い</td>\n",
       "      <td>1782.0</td>\n",
       "      <td>0.0</td>\n",
       "      <td>1782.0</td>\n",
       "    </tr>\n",
       "  </tbody>\n",
       "</table>\n",
       "</div>"
      ],
      "text/plain": [
       "          利用日      利用店名・商品名 利用者  支払方法    利用金額  支払手数料    支払総額\n",
       "0  2019/03/30  AMAZON.CO.JP  本人  1回払い  1782.0    0.0  1782.0"
      ]
     },
     "metadata": {},
     "output_type": "display_data"
    },
    {
     "data": {
      "text/plain": [
       "(33, 7)"
      ]
     },
     "metadata": {},
     "output_type": "display_data"
    },
    {
     "data": {
      "text/html": [
       "<div>\n",
       "<style scoped>\n",
       "    .dataframe tbody tr th:only-of-type {\n",
       "        vertical-align: middle;\n",
       "    }\n",
       "\n",
       "    .dataframe tbody tr th {\n",
       "        vertical-align: top;\n",
       "    }\n",
       "\n",
       "    .dataframe thead th {\n",
       "        text-align: right;\n",
       "    }\n",
       "</style>\n",
       "<table border=\"1\" class=\"dataframe\">\n",
       "  <thead>\n",
       "    <tr style=\"text-align: right;\">\n",
       "      <th></th>\n",
       "      <th>利用日</th>\n",
       "      <th>利用店名・商品名</th>\n",
       "      <th>利用者</th>\n",
       "      <th>支払方法</th>\n",
       "      <th>利用金額</th>\n",
       "      <th>支払手数料</th>\n",
       "      <th>支払総額</th>\n",
       "    </tr>\n",
       "  </thead>\n",
       "  <tbody>\n",
       "    <tr>\n",
       "      <th>0</th>\n",
       "      <td>2019/04/30</td>\n",
       "      <td>ﾏｲﾊﾞｽｹﾂﾄ ｼﾓﾒｸﾞﾛ2ﾁ</td>\n",
       "      <td>本人</td>\n",
       "      <td>1回払い</td>\n",
       "      <td>1857</td>\n",
       "      <td>0</td>\n",
       "      <td>1857</td>\n",
       "    </tr>\n",
       "  </tbody>\n",
       "</table>\n",
       "</div>"
      ],
      "text/plain": [
       "          利用日           利用店名・商品名 利用者  支払方法  利用金額  支払手数料  支払総額\n",
       "0  2019/04/30  ﾏｲﾊﾞｽｹﾂﾄ ｼﾓﾒｸﾞﾛ2ﾁ  本人  1回払い  1857      0  1857"
      ]
     },
     "metadata": {},
     "output_type": "display_data"
    },
    {
     "data": {
      "text/plain": [
       "(29, 7)"
      ]
     },
     "metadata": {},
     "output_type": "display_data"
    },
    {
     "data": {
      "text/html": [
       "<div>\n",
       "<style scoped>\n",
       "    .dataframe tbody tr th:only-of-type {\n",
       "        vertical-align: middle;\n",
       "    }\n",
       "\n",
       "    .dataframe tbody tr th {\n",
       "        vertical-align: top;\n",
       "    }\n",
       "\n",
       "    .dataframe thead th {\n",
       "        text-align: right;\n",
       "    }\n",
       "</style>\n",
       "<table border=\"1\" class=\"dataframe\">\n",
       "  <thead>\n",
       "    <tr style=\"text-align: right;\">\n",
       "      <th></th>\n",
       "      <th>利用日</th>\n",
       "      <th>利用店名・商品名</th>\n",
       "      <th>利用者</th>\n",
       "      <th>支払方法</th>\n",
       "      <th>利用金額</th>\n",
       "      <th>支払手数料</th>\n",
       "      <th>支払総額</th>\n",
       "    </tr>\n",
       "  </thead>\n",
       "  <tbody>\n",
       "    <tr>\n",
       "      <th>0</th>\n",
       "      <td>2019/05/31</td>\n",
       "      <td>ｺｺｶﾗﾌｱｲﾝ</td>\n",
       "      <td>本人</td>\n",
       "      <td>1回払い</td>\n",
       "      <td>1736</td>\n",
       "      <td>0</td>\n",
       "      <td>1736</td>\n",
       "    </tr>\n",
       "  </tbody>\n",
       "</table>\n",
       "</div>"
      ],
      "text/plain": [
       "          利用日  利用店名・商品名 利用者  支払方法  利用金額  支払手数料  支払総額\n",
       "0  2019/05/31  ｺｺｶﾗﾌｱｲﾝ  本人  1回払い  1736      0  1736"
      ]
     },
     "metadata": {},
     "output_type": "display_data"
    },
    {
     "data": {
      "text/plain": [
       "(38, 7)"
      ]
     },
     "metadata": {},
     "output_type": "display_data"
    },
    {
     "data": {
      "text/html": [
       "<div>\n",
       "<style scoped>\n",
       "    .dataframe tbody tr th:only-of-type {\n",
       "        vertical-align: middle;\n",
       "    }\n",
       "\n",
       "    .dataframe tbody tr th {\n",
       "        vertical-align: top;\n",
       "    }\n",
       "\n",
       "    .dataframe thead th {\n",
       "        text-align: right;\n",
       "    }\n",
       "</style>\n",
       "<table border=\"1\" class=\"dataframe\">\n",
       "  <thead>\n",
       "    <tr style=\"text-align: right;\">\n",
       "      <th></th>\n",
       "      <th>利用日</th>\n",
       "      <th>利用店名・商品名</th>\n",
       "      <th>利用者</th>\n",
       "      <th>支払方法</th>\n",
       "      <th>利用金額</th>\n",
       "      <th>支払手数料</th>\n",
       "      <th>支払総額</th>\n",
       "    </tr>\n",
       "  </thead>\n",
       "  <tbody>\n",
       "    <tr>\n",
       "      <th>0</th>\n",
       "      <td>2019/06/30</td>\n",
       "      <td>ﾏｲﾊﾞｽｹﾂﾄ ｼﾓﾒｸﾞﾛ2ﾁ</td>\n",
       "      <td>本人</td>\n",
       "      <td>1回払い</td>\n",
       "      <td>894.0</td>\n",
       "      <td>0.0</td>\n",
       "      <td>894.0</td>\n",
       "    </tr>\n",
       "  </tbody>\n",
       "</table>\n",
       "</div>"
      ],
      "text/plain": [
       "          利用日           利用店名・商品名 利用者  支払方法   利用金額  支払手数料   支払総額\n",
       "0  2019/06/30  ﾏｲﾊﾞｽｹﾂﾄ ｼﾓﾒｸﾞﾛ2ﾁ  本人  1回払い  894.0    0.0  894.0"
      ]
     },
     "metadata": {},
     "output_type": "display_data"
    },
    {
     "data": {
      "text/plain": [
       "(60, 7)"
      ]
     },
     "metadata": {},
     "output_type": "display_data"
    },
    {
     "data": {
      "text/html": [
       "<div>\n",
       "<style scoped>\n",
       "    .dataframe tbody tr th:only-of-type {\n",
       "        vertical-align: middle;\n",
       "    }\n",
       "\n",
       "    .dataframe tbody tr th {\n",
       "        vertical-align: top;\n",
       "    }\n",
       "\n",
       "    .dataframe thead th {\n",
       "        text-align: right;\n",
       "    }\n",
       "</style>\n",
       "<table border=\"1\" class=\"dataframe\">\n",
       "  <thead>\n",
       "    <tr style=\"text-align: right;\">\n",
       "      <th></th>\n",
       "      <th>利用日</th>\n",
       "      <th>利用店名・商品名</th>\n",
       "      <th>利用者</th>\n",
       "      <th>支払方法</th>\n",
       "      <th>利用金額</th>\n",
       "      <th>支払手数料</th>\n",
       "      <th>支払総額</th>\n",
       "    </tr>\n",
       "  </thead>\n",
       "  <tbody>\n",
       "    <tr>\n",
       "      <th>0</th>\n",
       "      <td>2019/07/31</td>\n",
       "      <td>ﾌｱﾐﾘ-ﾏ-ﾄｴｲﾁﾋﾟ-ｴｽﾊ</td>\n",
       "      <td>本人</td>\n",
       "      <td>1回払い</td>\n",
       "      <td>1037</td>\n",
       "      <td>0</td>\n",
       "      <td>1037</td>\n",
       "    </tr>\n",
       "  </tbody>\n",
       "</table>\n",
       "</div>"
      ],
      "text/plain": [
       "          利用日           利用店名・商品名 利用者  支払方法  利用金額  支払手数料  支払総額\n",
       "0  2019/07/31  ﾌｱﾐﾘ-ﾏ-ﾄｴｲﾁﾋﾟ-ｴｽﾊ  本人  1回払い  1037      0  1037"
      ]
     },
     "metadata": {},
     "output_type": "display_data"
    },
    {
     "data": {
      "text/plain": [
       "(42, 7)"
      ]
     },
     "metadata": {},
     "output_type": "display_data"
    },
    {
     "data": {
      "text/html": [
       "<div>\n",
       "<style scoped>\n",
       "    .dataframe tbody tr th:only-of-type {\n",
       "        vertical-align: middle;\n",
       "    }\n",
       "\n",
       "    .dataframe tbody tr th {\n",
       "        vertical-align: top;\n",
       "    }\n",
       "\n",
       "    .dataframe thead th {\n",
       "        text-align: right;\n",
       "    }\n",
       "</style>\n",
       "<table border=\"1\" class=\"dataframe\">\n",
       "  <thead>\n",
       "    <tr style=\"text-align: right;\">\n",
       "      <th></th>\n",
       "      <th>利用日</th>\n",
       "      <th>利用店名・商品名</th>\n",
       "      <th>利用者</th>\n",
       "      <th>支払方法</th>\n",
       "      <th>利用金額</th>\n",
       "      <th>支払手数料</th>\n",
       "      <th>支払総額</th>\n",
       "    </tr>\n",
       "  </thead>\n",
       "  <tbody>\n",
       "    <tr>\n",
       "      <th>0</th>\n",
       "      <td>2019/08/31</td>\n",
       "      <td>AMAZON.CO.JP</td>\n",
       "      <td>本人</td>\n",
       "      <td>1回払い</td>\n",
       "      <td>445.0</td>\n",
       "      <td>0.0</td>\n",
       "      <td>445.0</td>\n",
       "    </tr>\n",
       "  </tbody>\n",
       "</table>\n",
       "</div>"
      ],
      "text/plain": [
       "          利用日      利用店名・商品名 利用者  支払方法   利用金額  支払手数料   支払総額\n",
       "0  2019/08/31  AMAZON.CO.JP  本人  1回払い  445.0    0.0  445.0"
      ]
     },
     "metadata": {},
     "output_type": "display_data"
    },
    {
     "data": {
      "text/plain": [
       "(64, 7)"
      ]
     },
     "metadata": {},
     "output_type": "display_data"
    },
    {
     "data": {
      "text/html": [
       "<div>\n",
       "<style scoped>\n",
       "    .dataframe tbody tr th:only-of-type {\n",
       "        vertical-align: middle;\n",
       "    }\n",
       "\n",
       "    .dataframe tbody tr th {\n",
       "        vertical-align: top;\n",
       "    }\n",
       "\n",
       "    .dataframe thead th {\n",
       "        text-align: right;\n",
       "    }\n",
       "</style>\n",
       "<table border=\"1\" class=\"dataframe\">\n",
       "  <thead>\n",
       "    <tr style=\"text-align: right;\">\n",
       "      <th></th>\n",
       "      <th>利用日</th>\n",
       "      <th>利用店名・商品名</th>\n",
       "      <th>利用者</th>\n",
       "      <th>支払方法</th>\n",
       "      <th>利用金額</th>\n",
       "      <th>支払手数料</th>\n",
       "      <th>支払総額</th>\n",
       "    </tr>\n",
       "  </thead>\n",
       "  <tbody>\n",
       "    <tr>\n",
       "      <th>0</th>\n",
       "      <td>2019/09/30</td>\n",
       "      <td>ｼﾞｪｲｱｰﾙﾋｶﾞｼﾆﾎﾝ ﾃｲ</td>\n",
       "      <td>本人</td>\n",
       "      <td>1回払い</td>\n",
       "      <td>16580</td>\n",
       "      <td>0</td>\n",
       "      <td>16580</td>\n",
       "    </tr>\n",
       "  </tbody>\n",
       "</table>\n",
       "</div>"
      ],
      "text/plain": [
       "          利用日           利用店名・商品名 利用者  支払方法   利用金額  支払手数料   支払総額\n",
       "0  2019/09/30  ｼﾞｪｲｱｰﾙﾋｶﾞｼﾆﾎﾝ ﾃｲ  本人  1回払い  16580      0  16580"
      ]
     },
     "metadata": {},
     "output_type": "display_data"
    },
    {
     "data": {
      "text/plain": [
       "(47, 7)"
      ]
     },
     "metadata": {},
     "output_type": "display_data"
    },
    {
     "data": {
      "text/html": [
       "<div>\n",
       "<style scoped>\n",
       "    .dataframe tbody tr th:only-of-type {\n",
       "        vertical-align: middle;\n",
       "    }\n",
       "\n",
       "    .dataframe tbody tr th {\n",
       "        vertical-align: top;\n",
       "    }\n",
       "\n",
       "    .dataframe thead th {\n",
       "        text-align: right;\n",
       "    }\n",
       "</style>\n",
       "<table border=\"1\" class=\"dataframe\">\n",
       "  <thead>\n",
       "    <tr style=\"text-align: right;\">\n",
       "      <th></th>\n",
       "      <th>利用日</th>\n",
       "      <th>利用店名・商品名</th>\n",
       "      <th>利用者</th>\n",
       "      <th>支払方法</th>\n",
       "      <th>利用金額</th>\n",
       "      <th>支払手数料</th>\n",
       "      <th>支払総額</th>\n",
       "    </tr>\n",
       "  </thead>\n",
       "  <tbody>\n",
       "    <tr>\n",
       "      <th>0</th>\n",
       "      <td>2019/10/31</td>\n",
       "      <td>ﾔﾌｰ ﾒｸﾞﾛｸﾄｸﾍﾞﾂｸﾐﾝ</td>\n",
       "      <td>本人</td>\n",
       "      <td>1回払い</td>\n",
       "      <td>85635</td>\n",
       "      <td>0</td>\n",
       "      <td>85635</td>\n",
       "    </tr>\n",
       "  </tbody>\n",
       "</table>\n",
       "</div>"
      ],
      "text/plain": [
       "          利用日           利用店名・商品名 利用者  支払方法   利用金額  支払手数料   支払総額\n",
       "0  2019/10/31  ﾔﾌｰ ﾒｸﾞﾛｸﾄｸﾍﾞﾂｸﾐﾝ  本人  1回払い  85635      0  85635"
      ]
     },
     "metadata": {},
     "output_type": "display_data"
    },
    {
     "data": {
      "text/plain": [
       "(63, 7)"
      ]
     },
     "metadata": {},
     "output_type": "display_data"
    },
    {
     "data": {
      "text/html": [
       "<div>\n",
       "<style scoped>\n",
       "    .dataframe tbody tr th:only-of-type {\n",
       "        vertical-align: middle;\n",
       "    }\n",
       "\n",
       "    .dataframe tbody tr th {\n",
       "        vertical-align: top;\n",
       "    }\n",
       "\n",
       "    .dataframe thead th {\n",
       "        text-align: right;\n",
       "    }\n",
       "</style>\n",
       "<table border=\"1\" class=\"dataframe\">\n",
       "  <thead>\n",
       "    <tr style=\"text-align: right;\">\n",
       "      <th></th>\n",
       "      <th>利用日</th>\n",
       "      <th>利用店名・商品名</th>\n",
       "      <th>利用者</th>\n",
       "      <th>支払方法</th>\n",
       "      <th>利用金額</th>\n",
       "      <th>支払手数料</th>\n",
       "      <th>支払総額</th>\n",
       "    </tr>\n",
       "  </thead>\n",
       "  <tbody>\n",
       "    <tr>\n",
       "      <th>0</th>\n",
       "      <td>2019/11/30</td>\n",
       "      <td>ﾌｱﾐﾘ-ﾏ-ﾄｲｽﾞﾔｼﾓﾒｸﾞ</td>\n",
       "      <td>本人</td>\n",
       "      <td>1回払い</td>\n",
       "      <td>781</td>\n",
       "      <td>0</td>\n",
       "      <td>781</td>\n",
       "    </tr>\n",
       "  </tbody>\n",
       "</table>\n",
       "</div>"
      ],
      "text/plain": [
       "          利用日           利用店名・商品名 利用者  支払方法  利用金額  支払手数料  支払総額\n",
       "0  2019/11/30  ﾌｱﾐﾘ-ﾏ-ﾄｲｽﾞﾔｼﾓﾒｸﾞ  本人  1回払い   781      0   781"
      ]
     },
     "metadata": {},
     "output_type": "display_data"
    },
    {
     "data": {
      "text/plain": [
       "(55, 7)"
      ]
     },
     "metadata": {},
     "output_type": "display_data"
    },
    {
     "data": {
      "text/html": [
       "<div>\n",
       "<style scoped>\n",
       "    .dataframe tbody tr th:only-of-type {\n",
       "        vertical-align: middle;\n",
       "    }\n",
       "\n",
       "    .dataframe tbody tr th {\n",
       "        vertical-align: top;\n",
       "    }\n",
       "\n",
       "    .dataframe thead th {\n",
       "        text-align: right;\n",
       "    }\n",
       "</style>\n",
       "<table border=\"1\" class=\"dataframe\">\n",
       "  <thead>\n",
       "    <tr style=\"text-align: right;\">\n",
       "      <th></th>\n",
       "      <th>利用日</th>\n",
       "      <th>利用店名・商品名</th>\n",
       "      <th>利用者</th>\n",
       "      <th>支払方法</th>\n",
       "      <th>利用金額</th>\n",
       "      <th>支払手数料</th>\n",
       "      <th>支払総額</th>\n",
       "    </tr>\n",
       "  </thead>\n",
       "  <tbody>\n",
       "    <tr>\n",
       "      <th>0</th>\n",
       "      <td>2019/12/31</td>\n",
       "      <td>ﾏｲﾊﾞｽｹﾂﾄ ｼﾓﾒｸﾞﾛ2ﾁ</td>\n",
       "      <td>本人</td>\n",
       "      <td>1回払い</td>\n",
       "      <td>820</td>\n",
       "      <td>0</td>\n",
       "      <td>820</td>\n",
       "    </tr>\n",
       "  </tbody>\n",
       "</table>\n",
       "</div>"
      ],
      "text/plain": [
       "          利用日           利用店名・商品名 利用者  支払方法  利用金額  支払手数料  支払総額\n",
       "0  2019/12/31  ﾏｲﾊﾞｽｹﾂﾄ ｼﾓﾒｸﾞﾛ2ﾁ  本人  1回払い   820      0   820"
      ]
     },
     "metadata": {},
     "output_type": "display_data"
    },
    {
     "data": {
      "text/plain": [
       "(50, 7)"
      ]
     },
     "metadata": {},
     "output_type": "display_data"
    },
    {
     "data": {
      "text/html": [
       "<div>\n",
       "<style scoped>\n",
       "    .dataframe tbody tr th:only-of-type {\n",
       "        vertical-align: middle;\n",
       "    }\n",
       "\n",
       "    .dataframe tbody tr th {\n",
       "        vertical-align: top;\n",
       "    }\n",
       "\n",
       "    .dataframe thead th {\n",
       "        text-align: right;\n",
       "    }\n",
       "</style>\n",
       "<table border=\"1\" class=\"dataframe\">\n",
       "  <thead>\n",
       "    <tr style=\"text-align: right;\">\n",
       "      <th></th>\n",
       "      <th>利用日</th>\n",
       "      <th>利用店名・商品名</th>\n",
       "      <th>利用者</th>\n",
       "      <th>支払方法</th>\n",
       "      <th>利用金額</th>\n",
       "      <th>支払手数料</th>\n",
       "      <th>支払総額</th>\n",
       "    </tr>\n",
       "  </thead>\n",
       "  <tbody>\n",
       "    <tr>\n",
       "      <th>0</th>\n",
       "      <td>2020/01/31</td>\n",
       "      <td>ﾌｱﾐﾘ-ﾏ-ﾄﾕｳﾗｸﾁﾖｳｴｷ</td>\n",
       "      <td>本人</td>\n",
       "      <td>1回払い</td>\n",
       "      <td>1171</td>\n",
       "      <td>0</td>\n",
       "      <td>1171</td>\n",
       "    </tr>\n",
       "  </tbody>\n",
       "</table>\n",
       "</div>"
      ],
      "text/plain": [
       "          利用日           利用店名・商品名 利用者  支払方法  利用金額  支払手数料  支払総額\n",
       "0  2020/01/31  ﾌｱﾐﾘ-ﾏ-ﾄﾕｳﾗｸﾁﾖｳｴｷ  本人  1回払い  1171      0  1171"
      ]
     },
     "metadata": {},
     "output_type": "display_data"
    },
    {
     "data": {
      "text/plain": [
       "(54, 7)"
      ]
     },
     "metadata": {},
     "output_type": "display_data"
    },
    {
     "data": {
      "text/html": [
       "<div>\n",
       "<style scoped>\n",
       "    .dataframe tbody tr th:only-of-type {\n",
       "        vertical-align: middle;\n",
       "    }\n",
       "\n",
       "    .dataframe tbody tr th {\n",
       "        vertical-align: top;\n",
       "    }\n",
       "\n",
       "    .dataframe thead th {\n",
       "        text-align: right;\n",
       "    }\n",
       "</style>\n",
       "<table border=\"1\" class=\"dataframe\">\n",
       "  <thead>\n",
       "    <tr style=\"text-align: right;\">\n",
       "      <th></th>\n",
       "      <th>利用日</th>\n",
       "      <th>利用店名・商品名</th>\n",
       "      <th>利用者</th>\n",
       "      <th>支払方法</th>\n",
       "      <th>利用金額</th>\n",
       "      <th>支払手数料</th>\n",
       "      <th>支払総額</th>\n",
       "    </tr>\n",
       "  </thead>\n",
       "  <tbody>\n",
       "    <tr>\n",
       "      <th>0</th>\n",
       "      <td>2020/02/29</td>\n",
       "      <td>ﾏｲﾊﾞｽｹﾂﾄ ｼﾓﾒｸﾞﾛ2ﾁ</td>\n",
       "      <td>本人</td>\n",
       "      <td>1回払い</td>\n",
       "      <td>1045</td>\n",
       "      <td>0</td>\n",
       "      <td>1045</td>\n",
       "    </tr>\n",
       "  </tbody>\n",
       "</table>\n",
       "</div>"
      ],
      "text/plain": [
       "          利用日           利用店名・商品名 利用者  支払方法  利用金額  支払手数料  支払総額\n",
       "0  2020/02/29  ﾏｲﾊﾞｽｹﾂﾄ ｼﾓﾒｸﾞﾛ2ﾁ  本人  1回払い  1045      0  1045"
      ]
     },
     "metadata": {},
     "output_type": "display_data"
    },
    {
     "data": {
      "text/plain": [
       "(57, 7)"
      ]
     },
     "metadata": {},
     "output_type": "display_data"
    },
    {
     "data": {
      "text/html": [
       "<div>\n",
       "<style scoped>\n",
       "    .dataframe tbody tr th:only-of-type {\n",
       "        vertical-align: middle;\n",
       "    }\n",
       "\n",
       "    .dataframe tbody tr th {\n",
       "        vertical-align: top;\n",
       "    }\n",
       "\n",
       "    .dataframe thead th {\n",
       "        text-align: right;\n",
       "    }\n",
       "</style>\n",
       "<table border=\"1\" class=\"dataframe\">\n",
       "  <thead>\n",
       "    <tr style=\"text-align: right;\">\n",
       "      <th></th>\n",
       "      <th>利用日</th>\n",
       "      <th>利用店名・商品名</th>\n",
       "      <th>利用者</th>\n",
       "      <th>支払方法</th>\n",
       "      <th>利用金額</th>\n",
       "      <th>支払手数料</th>\n",
       "      <th>支払総額</th>\n",
       "    </tr>\n",
       "  </thead>\n",
       "  <tbody>\n",
       "    <tr>\n",
       "      <th>0</th>\n",
       "      <td>2020/03/31</td>\n",
       "      <td>ﾌｱﾐﾘ-ﾏ-ﾄｲｽﾞﾔｼﾓﾒｸﾞ</td>\n",
       "      <td>本人</td>\n",
       "      <td>1回払い</td>\n",
       "      <td>391</td>\n",
       "      <td>0</td>\n",
       "      <td>391</td>\n",
       "    </tr>\n",
       "  </tbody>\n",
       "</table>\n",
       "</div>"
      ],
      "text/plain": [
       "          利用日           利用店名・商品名 利用者  支払方法  利用金額  支払手数料  支払総額\n",
       "0  2020/03/31  ﾌｱﾐﾘ-ﾏ-ﾄｲｽﾞﾔｼﾓﾒｸﾞ  本人  1回払い   391      0   391"
      ]
     },
     "metadata": {},
     "output_type": "display_data"
    },
    {
     "data": {
      "text/plain": [
       "(43, 7)"
      ]
     },
     "metadata": {},
     "output_type": "display_data"
    },
    {
     "data": {
      "text/html": [
       "<div>\n",
       "<style scoped>\n",
       "    .dataframe tbody tr th:only-of-type {\n",
       "        vertical-align: middle;\n",
       "    }\n",
       "\n",
       "    .dataframe tbody tr th {\n",
       "        vertical-align: top;\n",
       "    }\n",
       "\n",
       "    .dataframe thead th {\n",
       "        text-align: right;\n",
       "    }\n",
       "</style>\n",
       "<table border=\"1\" class=\"dataframe\">\n",
       "  <thead>\n",
       "    <tr style=\"text-align: right;\">\n",
       "      <th></th>\n",
       "      <th>利用日</th>\n",
       "      <th>利用店名・商品名</th>\n",
       "      <th>利用者</th>\n",
       "      <th>支払方法</th>\n",
       "      <th>利用金額</th>\n",
       "      <th>支払手数料</th>\n",
       "      <th>支払総額</th>\n",
       "    </tr>\n",
       "  </thead>\n",
       "  <tbody>\n",
       "    <tr>\n",
       "      <th>0</th>\n",
       "      <td>2020/04/30</td>\n",
       "      <td>ﾄｳｷﾕｳｽﾄｱ</td>\n",
       "      <td>本人</td>\n",
       "      <td>1回払い</td>\n",
       "      <td>2026</td>\n",
       "      <td>0</td>\n",
       "      <td>2026</td>\n",
       "    </tr>\n",
       "  </tbody>\n",
       "</table>\n",
       "</div>"
      ],
      "text/plain": [
       "          利用日  利用店名・商品名 利用者  支払方法  利用金額  支払手数料  支払総額\n",
       "0  2020/04/30  ﾄｳｷﾕｳｽﾄｱ  本人  1回払い  2026      0  2026"
      ]
     },
     "metadata": {},
     "output_type": "display_data"
    },
    {
     "data": {
      "text/plain": [
       "(37, 7)"
      ]
     },
     "metadata": {},
     "output_type": "display_data"
    },
    {
     "data": {
      "text/html": [
       "<div>\n",
       "<style scoped>\n",
       "    .dataframe tbody tr th:only-of-type {\n",
       "        vertical-align: middle;\n",
       "    }\n",
       "\n",
       "    .dataframe tbody tr th {\n",
       "        vertical-align: top;\n",
       "    }\n",
       "\n",
       "    .dataframe thead th {\n",
       "        text-align: right;\n",
       "    }\n",
       "</style>\n",
       "<table border=\"1\" class=\"dataframe\">\n",
       "  <thead>\n",
       "    <tr style=\"text-align: right;\">\n",
       "      <th></th>\n",
       "      <th>利用日</th>\n",
       "      <th>利用店名・商品名</th>\n",
       "      <th>利用者</th>\n",
       "      <th>支払方法</th>\n",
       "      <th>利用金額</th>\n",
       "      <th>支払手数料</th>\n",
       "      <th>支払総額</th>\n",
       "    </tr>\n",
       "  </thead>\n",
       "  <tbody>\n",
       "    <tr>\n",
       "      <th>0</th>\n",
       "      <td>2020/05/31</td>\n",
       "      <td>ﾄｳｷﾕｳｽﾄｱ</td>\n",
       "      <td>本人</td>\n",
       "      <td>1回払い</td>\n",
       "      <td>622</td>\n",
       "      <td>0</td>\n",
       "      <td>622</td>\n",
       "    </tr>\n",
       "  </tbody>\n",
       "</table>\n",
       "</div>"
      ],
      "text/plain": [
       "          利用日  利用店名・商品名 利用者  支払方法  利用金額  支払手数料  支払総額\n",
       "0  2020/05/31  ﾄｳｷﾕｳｽﾄｱ  本人  1回払い   622      0   622"
      ]
     },
     "metadata": {},
     "output_type": "display_data"
    },
    {
     "data": {
      "text/plain": [
       "(41, 7)"
      ]
     },
     "metadata": {},
     "output_type": "display_data"
    },
    {
     "data": {
      "text/html": [
       "<div>\n",
       "<style scoped>\n",
       "    .dataframe tbody tr th:only-of-type {\n",
       "        vertical-align: middle;\n",
       "    }\n",
       "\n",
       "    .dataframe tbody tr th {\n",
       "        vertical-align: top;\n",
       "    }\n",
       "\n",
       "    .dataframe thead th {\n",
       "        text-align: right;\n",
       "    }\n",
       "</style>\n",
       "<table border=\"1\" class=\"dataframe\">\n",
       "  <thead>\n",
       "    <tr style=\"text-align: right;\">\n",
       "      <th></th>\n",
       "      <th>利用日</th>\n",
       "      <th>利用店名・商品名</th>\n",
       "      <th>利用者</th>\n",
       "      <th>支払方法</th>\n",
       "      <th>利用金額</th>\n",
       "      <th>支払手数料</th>\n",
       "      <th>支払総額</th>\n",
       "    </tr>\n",
       "  </thead>\n",
       "  <tbody>\n",
       "    <tr>\n",
       "      <th>0</th>\n",
       "      <td>2020/06/30</td>\n",
       "      <td>ﾄｳｷﾕｳｽﾄｱ</td>\n",
       "      <td>本人</td>\n",
       "      <td>1回払い</td>\n",
       "      <td>1367</td>\n",
       "      <td>0</td>\n",
       "      <td>1367</td>\n",
       "    </tr>\n",
       "  </tbody>\n",
       "</table>\n",
       "</div>"
      ],
      "text/plain": [
       "          利用日  利用店名・商品名 利用者  支払方法  利用金額  支払手数料  支払総額\n",
       "0  2020/06/30  ﾄｳｷﾕｳｽﾄｱ  本人  1回払い  1367      0  1367"
      ]
     },
     "metadata": {},
     "output_type": "display_data"
    },
    {
     "data": {
      "text/plain": [
       "(47, 7)"
      ]
     },
     "metadata": {},
     "output_type": "display_data"
    },
    {
     "data": {
      "text/html": [
       "<div>\n",
       "<style scoped>\n",
       "    .dataframe tbody tr th:only-of-type {\n",
       "        vertical-align: middle;\n",
       "    }\n",
       "\n",
       "    .dataframe tbody tr th {\n",
       "        vertical-align: top;\n",
       "    }\n",
       "\n",
       "    .dataframe thead th {\n",
       "        text-align: right;\n",
       "    }\n",
       "</style>\n",
       "<table border=\"1\" class=\"dataframe\">\n",
       "  <thead>\n",
       "    <tr style=\"text-align: right;\">\n",
       "      <th></th>\n",
       "      <th>利用日</th>\n",
       "      <th>利用店名・商品名</th>\n",
       "      <th>利用者</th>\n",
       "      <th>支払方法</th>\n",
       "      <th>利用金額</th>\n",
       "      <th>支払手数料</th>\n",
       "      <th>支払総額</th>\n",
       "    </tr>\n",
       "  </thead>\n",
       "  <tbody>\n",
       "    <tr>\n",
       "      <th>0</th>\n",
       "      <td>2020/07/31</td>\n",
       "      <td>ﾄｳｷﾕｳｽﾄｱ</td>\n",
       "      <td>本人</td>\n",
       "      <td>1回払い</td>\n",
       "      <td>1010</td>\n",
       "      <td>0</td>\n",
       "      <td>1010</td>\n",
       "    </tr>\n",
       "  </tbody>\n",
       "</table>\n",
       "</div>"
      ],
      "text/plain": [
       "          利用日  利用店名・商品名 利用者  支払方法  利用金額  支払手数料  支払総額\n",
       "0  2020/07/31  ﾄｳｷﾕｳｽﾄｱ  本人  1回払い  1010      0  1010"
      ]
     },
     "metadata": {},
     "output_type": "display_data"
    },
    {
     "data": {
      "text/plain": [
       "(54, 7)"
      ]
     },
     "metadata": {},
     "output_type": "display_data"
    },
    {
     "data": {
      "text/html": [
       "<div>\n",
       "<style scoped>\n",
       "    .dataframe tbody tr th:only-of-type {\n",
       "        vertical-align: middle;\n",
       "    }\n",
       "\n",
       "    .dataframe tbody tr th {\n",
       "        vertical-align: top;\n",
       "    }\n",
       "\n",
       "    .dataframe thead th {\n",
       "        text-align: right;\n",
       "    }\n",
       "</style>\n",
       "<table border=\"1\" class=\"dataframe\">\n",
       "  <thead>\n",
       "    <tr style=\"text-align: right;\">\n",
       "      <th></th>\n",
       "      <th>利用日</th>\n",
       "      <th>利用店名・商品名</th>\n",
       "      <th>利用者</th>\n",
       "      <th>支払方法</th>\n",
       "      <th>利用金額</th>\n",
       "      <th>支払手数料</th>\n",
       "      <th>支払総額</th>\n",
       "    </tr>\n",
       "  </thead>\n",
       "  <tbody>\n",
       "    <tr>\n",
       "      <th>0</th>\n",
       "      <td>2020/08/31</td>\n",
       "      <td>ﾄｳｷﾕｳｽﾄｱ</td>\n",
       "      <td>本人</td>\n",
       "      <td>1回払い</td>\n",
       "      <td>804</td>\n",
       "      <td>0</td>\n",
       "      <td>804</td>\n",
       "    </tr>\n",
       "  </tbody>\n",
       "</table>\n",
       "</div>"
      ],
      "text/plain": [
       "          利用日  利用店名・商品名 利用者  支払方法  利用金額  支払手数料  支払総額\n",
       "0  2020/08/31  ﾄｳｷﾕｳｽﾄｱ  本人  1回払い   804      0   804"
      ]
     },
     "metadata": {},
     "output_type": "display_data"
    }
   ],
   "source": [
    "for df in df_list:\n",
    "    display(df.shape,df.head(1))"
   ]
  },
  {
   "cell_type": "code",
   "execution_count": 5,
   "metadata": {},
   "outputs": [
    {
     "data": {
      "text/plain": [
       "14"
      ]
     },
     "execution_count": 5,
     "metadata": {},
     "output_type": "execute_result"
    }
   ],
   "source": [
    "gc.collect()"
   ]
  },
  {
   "cell_type": "code",
   "execution_count": 6,
   "metadata": {},
   "outputs": [
    {
     "data": {
      "text/plain": [
       "7"
      ]
     },
     "metadata": {},
     "output_type": "display_data"
    },
    {
     "data": {
      "text/plain": [
       "7"
      ]
     },
     "metadata": {},
     "output_type": "display_data"
    }
   ],
   "source": [
    "# SQLServerにインポートするカラムをデータ型毎に分ける\n",
    "date_col_list = ['利用日']\n",
    "nvarchar_col_list = ['利用店名・商品名', '利用者', '支払方法']\n",
    "numeric_col_list = ['利用金額', '支払手数料', '支払総額']\n",
    "\n",
    "display(len(use_cols_llist), len(date_col_list+nvarchar_col_list+numeric_col_list))"
   ]
  },
  {
   "cell_type": "code",
   "execution_count": null,
   "metadata": {},
   "outputs": [],
   "source": []
  },
  {
   "cell_type": "code",
   "execution_count": 7,
   "metadata": {},
   "outputs": [],
   "source": [
    "# SQLServerにインポートする関数一式\n",
    "def main_import_data_to_sqlserver(database, df, file_name,date_col_list, nvarchar_col_list, numeric_col_list):\n",
    "    '''\n",
    "    関数内容\n",
    "    ・予め読み込んだデータをSQLServerにインポートする関数\n",
    "    Input\n",
    "    ・database：テーブルをインポートしたいデータベース名\n",
    "    ・df：インポートしたいテーブル(データフレーム)\n",
    "    ・file_name:インポートしたいテーブルの名前\n",
    "    ・date_col_list：DATE型としてインポートしたいカラム名を格納したリスト\n",
    "    ・nvarchar_col_list：NVARCHAR型としてインポートしたいカラム名を格納したリスト\n",
    "    ・numeric_col_list：NUMERIC型としてインポートしたいカラム名を格納したリスト\n",
    "    関数使用方法\n",
    "    for df, file_name in zip(df_list1, file_name_list):\n",
    "        main_import_data_to_sqlserver('210_tbl',df,file_name,date_col_list,nvarchar_col_list,numeric_col_list)\n",
    "    '''\n",
    "    # 1\n",
    "    dtypes_df = extract_colname_and_dtype_from_dataframe(df,date_col_list,nvarchar_col_list,numeric_col_list)\n",
    "    # 2\n",
    "    conn, curs = connect_to_sqlserver(database)\n",
    "    # 3\n",
    "    colname_and_dtype_str = get_colname_and_dtype_to_create_table(dtypes_df)\n",
    "    # 4\n",
    "    create_tables_in_sqlserver(file_name, colname_and_dtype_str, curs=curs, conn=conn)\n",
    "    # 5\n",
    "    it_col_str, questionmark_str = get_colname_and_questionmark_to_insert_data(dtypes_df)\n",
    "    # 6\n",
    "    insert_into_sqlserver(file_name, df, it_col_str, questionmark_str,curs=curs, conn=conn)\n",
    "    # 7\n",
    "    disconnect_from_sqlserver(curs=curs, conn=conn)\n",
    "\n",
    "\n",
    "# 1\n",
    "def extract_colname_and_dtype_from_dataframe(df,date_col_list,nvarchar_col_list,numeric_col_list):\n",
    "    '''\n",
    "    関数内容\n",
    "    ・読み込んだデータのカラム名とデータ型を抽出し、データ型はSQLServerへのインポート用のデータ型名に変換してそれらをデータフレームに格納する関数\n",
    "    '''\n",
    "    dtypes_df = pd.DataFrame(df.dtypes).reset_index()\n",
    "    dtypes_df.columns=['カラム名','データ型']\n",
    "\n",
    "    for i in range(len(dtypes_df)):\n",
    "        if dtypes_df.loc[i,'カラム名'] in date_col_list:\n",
    "            dtypes_df.loc[i,'データ型'] = 'DATE'\n",
    "        elif dtypes_df.loc[i,'カラム名'] in nvarchar_col_list:\n",
    "            dtypes_df.loc[i,'データ型'] = 'NVARCHAR(255)'\n",
    "        elif dtypes_df.loc[i,'カラム名'] in numeric_col_list:\n",
    "            dtypes_df.loc[i,'データ型'] = 'NUMERIC(25,2)'\n",
    "        else:\n",
    "            pass\n",
    "    \n",
    "\n",
    "    return dtypes_df\n",
    "\n",
    "# 2\n",
    "def connect_to_sqlserver(database, driver='{SQL Server}', server = 'localhost\\SQLEXPRESS',trusted_connection='yes'):\n",
    "    '''\n",
    "    関数内容\n",
    "    ・PythonからSQLserverへ接続する関数\n",
    "    Input\n",
    "    ・database：使用するデータベース名(予めSQLserver上で「CREATE DATABASE [データベース名]」というコードを実行させて作成しておく)\n",
    "    関数使用方法\n",
    "    ・connect_to_sqlserver('C10000_database')\n",
    "    '''\n",
    "    import pyodbc\n",
    "    conn = pyodbc.connect('DRIVER='+driver+';SERVER='+server+';DATABASE='+database+';Trusted_Connection='+trusted_connection+';')\n",
    "    curs = conn.cursor()\n",
    "    \n",
    "    return conn, curs\n",
    "\n",
    "# 3\n",
    "def get_colname_and_dtype_to_create_table(df):\n",
    "    '''\n",
    "    関数内容\n",
    "    ・create tableに必要なカラム名とデータ型を取得し、2つを特定の形式に並べた文字列を作成する関数\n",
    "    '''\n",
    "\n",
    "    ct_col_list = df['カラム名'].tolist()\n",
    "    \n",
    "    # カラム名に記号や数字が含まれているとSQLServerへのインポート時にエラーが発生するのでリネーム\n",
    "    ct_col_list =['['+ col_name + ']'  for col_name in ct_col_list]\n",
    "\n",
    "    ct_dtype_list = df['データ型'].tolist()\n",
    "\n",
    "    combi_ct_list = [str(col_name)+' '+str(dtype_name) for col_name, dtype_name in zip (ct_col_list, ct_dtype_list)]\n",
    "\n",
    "    colname_and_dtype_str = ','.join(map(str, combi_ct_list))\n",
    "\n",
    "    return colname_and_dtype_str\n",
    "\n",
    "# 4\n",
    "def create_tables_in_sqlserver(file_name, colname_and_dtype_str, curs, conn):\n",
    "    '''\n",
    "    関数内容\n",
    "    ・データベース内にテーブルを作成する関数\n",
    "    '''\n",
    "    #for file_name in file_name_list:\n",
    "    \n",
    "    print(file_name+'テーブルをSQLServerに作成します。')\n",
    "    #print(colname_and_dtype_str)\n",
    "    curs.execute(\n",
    "    'CREATE TABLE ' + file_name +\\\n",
    "    '(' + colname_and_dtype_str +')')\n",
    "    print(file_name+'テーブルをSQLServerに作成し終えました。')\n",
    "\n",
    "    conn.commit()\n",
    "\n",
    "# 5       \n",
    "def get_colname_and_questionmark_to_insert_data(df):\n",
    "    '''\n",
    "    関数内容\n",
    "    ・insert intoに必要なカラム名と?マークを取得する関数\n",
    "    '''\n",
    "    \n",
    "    it_col_list = df['カラム名'].tolist()\n",
    "    \n",
    "    # カラム名に記号や数字が含まれているとSQLServerへのインポート時にエラーが発生するのでリネーム\n",
    "    it_col_list =['['+ col_name + ']'  for col_name in it_col_list]\n",
    "    \n",
    "    it_col_str = ','.join(map(str, it_col_list))\n",
    "\n",
    "    questionmark_str = '?,'*len(df)\n",
    "    # 最後の「,」は必要ない + ()を追加\n",
    "    questionmark_str = '(' + questionmark_str[:-1] + ')'\n",
    "\n",
    "    return it_col_str, questionmark_str\n",
    "\n",
    "# 6\n",
    "def insert_into_sqlserver(file_name, df, it_col_str, questionmark_str, curs, conn):\n",
    "    '''\n",
    "    関数内容\n",
    "    ・データベース内のテーブルにデータを追加する関数\n",
    "    '''\n",
    "\n",
    "    #for file_name, df in zip(file_name_list, df_list):\n",
    "    \n",
    "    print(file_name+'テーブルにデータを格納します。')\n",
    "    \n",
    "    values_tuple = [tuple(row) for row in df.values]\n",
    "    # カラムが複数ある結果、挿入したい値が複数ある場合はcurs.executemanyを使う\n",
    "    curs.executemany(\n",
    "        'INSERT INTO ' + file_name +'(' + it_col_str + ')'+ 'VALUES ' + questionmark_str ,values_tuple\n",
    "    )\n",
    "    print(file_name+'テーブルにデータを格納し終えました。')\n",
    "\n",
    "    conn.commit()\n",
    "\n",
    "# 7\n",
    "def disconnect_from_sqlserver(curs, conn):\n",
    "    '''\n",
    "    関数内容\n",
    "    ・SQLserverへの接続を切る関数\n",
    "    '''\n",
    "    #conn, curs = connect_to_sqlserver()\n",
    "\n",
    "    curs.close()\n",
    "    conn.close()"
   ]
  },
  {
   "cell_type": "markdown",
   "metadata": {},
   "source": [
    "# SQLServerへのインポート"
   ]
  },
  {
   "cell_type": "code",
   "execution_count": 8,
   "metadata": {},
   "outputs": [
    {
     "data": {
      "text/plain": [
       "['enavi201904',\n",
       " 'enavi201905',\n",
       " 'enavi201906',\n",
       " 'enavi201907',\n",
       " 'enavi201908',\n",
       " 'enavi201909',\n",
       " 'enavi201910',\n",
       " 'enavi201911',\n",
       " 'enavi201912',\n",
       " 'enavi202001',\n",
       " 'enavi202002',\n",
       " 'enavi202003',\n",
       " 'enavi202004',\n",
       " 'enavi202005',\n",
       " 'enavi202006',\n",
       " 'enavi202007',\n",
       " 'enavi202008',\n",
       " 'enavi202009']"
      ]
     },
     "execution_count": 8,
     "metadata": {},
     "output_type": "execute_result"
    }
   ],
   "source": [
    "table_name_list = [name.split('\\\\')[1].split('(')[0] for name in file_list]\n",
    "\n",
    "table_name_list"
   ]
  },
  {
   "cell_type": "code",
   "execution_count": 9,
   "metadata": {
    "scrolled": true
   },
   "outputs": [
    {
     "name": "stdout",
     "output_type": "stream",
     "text": [
      "enavi201904テーブルをSQLServerに作成します。\n",
      "enavi201904テーブルをSQLServerに作成し終えました。\n",
      "enavi201904テーブルにデータを格納します。\n",
      "enavi201904テーブルにデータを格納し終えました。\n",
      "enavi201905テーブルをSQLServerに作成します。\n",
      "enavi201905テーブルをSQLServerに作成し終えました。\n",
      "enavi201905テーブルにデータを格納します。\n",
      "enavi201905テーブルにデータを格納し終えました。\n",
      "enavi201906テーブルをSQLServerに作成します。\n",
      "enavi201906テーブルをSQLServerに作成し終えました。\n",
      "enavi201906テーブルにデータを格納します。\n",
      "enavi201906テーブルにデータを格納し終えました。\n",
      "enavi201907テーブルをSQLServerに作成します。\n",
      "enavi201907テーブルをSQLServerに作成し終えました。\n",
      "enavi201907テーブルにデータを格納します。\n",
      "enavi201907テーブルにデータを格納し終えました。\n",
      "enavi201908テーブルをSQLServerに作成します。\n",
      "enavi201908テーブルをSQLServerに作成し終えました。\n",
      "enavi201908テーブルにデータを格納します。\n",
      "enavi201908テーブルにデータを格納し終えました。\n",
      "enavi201909テーブルをSQLServerに作成します。\n",
      "enavi201909テーブルをSQLServerに作成し終えました。\n",
      "enavi201909テーブルにデータを格納します。\n",
      "enavi201909テーブルにデータを格納し終えました。\n",
      "enavi201910テーブルをSQLServerに作成します。\n",
      "enavi201910テーブルをSQLServerに作成し終えました。\n",
      "enavi201910テーブルにデータを格納します。\n",
      "enavi201910テーブルにデータを格納し終えました。\n",
      "enavi201911テーブルをSQLServerに作成します。\n",
      "enavi201911テーブルをSQLServerに作成し終えました。\n",
      "enavi201911テーブルにデータを格納します。\n",
      "enavi201911テーブルにデータを格納し終えました。\n",
      "enavi201912テーブルをSQLServerに作成します。\n",
      "enavi201912テーブルをSQLServerに作成し終えました。\n",
      "enavi201912テーブルにデータを格納します。\n",
      "enavi201912テーブルにデータを格納し終えました。\n",
      "enavi202001テーブルをSQLServerに作成します。\n",
      "enavi202001テーブルをSQLServerに作成し終えました。\n",
      "enavi202001テーブルにデータを格納します。\n",
      "enavi202001テーブルにデータを格納し終えました。\n",
      "enavi202002テーブルをSQLServerに作成します。\n",
      "enavi202002テーブルをSQLServerに作成し終えました。\n",
      "enavi202002テーブルにデータを格納します。\n",
      "enavi202002テーブルにデータを格納し終えました。\n",
      "enavi202003テーブルをSQLServerに作成します。\n",
      "enavi202003テーブルをSQLServerに作成し終えました。\n",
      "enavi202003テーブルにデータを格納します。\n",
      "enavi202003テーブルにデータを格納し終えました。\n",
      "enavi202004テーブルをSQLServerに作成します。\n",
      "enavi202004テーブルをSQLServerに作成し終えました。\n",
      "enavi202004テーブルにデータを格納します。\n",
      "enavi202004テーブルにデータを格納し終えました。\n",
      "enavi202005テーブルをSQLServerに作成します。\n",
      "enavi202005テーブルをSQLServerに作成し終えました。\n",
      "enavi202005テーブルにデータを格納します。\n",
      "enavi202005テーブルにデータを格納し終えました。\n",
      "enavi202006テーブルをSQLServerに作成します。\n",
      "enavi202006テーブルをSQLServerに作成し終えました。\n",
      "enavi202006テーブルにデータを格納します。\n",
      "enavi202006テーブルにデータを格納し終えました。\n",
      "enavi202007テーブルをSQLServerに作成します。\n",
      "enavi202007テーブルをSQLServerに作成し終えました。\n",
      "enavi202007テーブルにデータを格納します。\n",
      "enavi202007テーブルにデータを格納し終えました。\n",
      "enavi202008テーブルをSQLServerに作成します。\n",
      "enavi202008テーブルをSQLServerに作成し終えました。\n",
      "enavi202008テーブルにデータを格納します。\n",
      "enavi202008テーブルにデータを格納し終えました。\n",
      "enavi202009テーブルをSQLServerに作成します。\n",
      "enavi202009テーブルをSQLServerに作成し終えました。\n",
      "enavi202009テーブルにデータを格納します。\n",
      "enavi202009テーブルにデータを格納し終えました。\n"
     ]
    }
   ],
   "source": [
    "# 関数実行\n",
    "for df, table_name in zip(df_list, table_name_list):\n",
    "        main_import_data_to_sqlserver('FeeForUsingCreditCard2', df, table_name, date_col_list, nvarchar_col_list, numeric_col_list)"
   ]
  },
  {
   "cell_type": "code",
   "execution_count": 10,
   "metadata": {},
   "outputs": [
    {
     "data": {
      "text/plain": [
       "175"
      ]
     },
     "execution_count": 10,
     "metadata": {},
     "output_type": "execute_result"
    }
   ],
   "source": [
    "gc.collect()"
   ]
  },
  {
   "cell_type": "markdown",
   "metadata": {},
   "source": [
    "以下、各関数の実行内容の確認"
   ]
  },
  {
   "cell_type": "code",
   "execution_count": 12,
   "metadata": {},
   "outputs": [
    {
     "data": {
      "text/html": [
       "<div>\n",
       "<style scoped>\n",
       "    .dataframe tbody tr th:only-of-type {\n",
       "        vertical-align: middle;\n",
       "    }\n",
       "\n",
       "    .dataframe tbody tr th {\n",
       "        vertical-align: top;\n",
       "    }\n",
       "\n",
       "    .dataframe thead th {\n",
       "        text-align: right;\n",
       "    }\n",
       "</style>\n",
       "<table border=\"1\" class=\"dataframe\">\n",
       "  <thead>\n",
       "    <tr style=\"text-align: right;\">\n",
       "      <th></th>\n",
       "      <th>カラム名</th>\n",
       "      <th>データ型</th>\n",
       "    </tr>\n",
       "  </thead>\n",
       "  <tbody>\n",
       "    <tr>\n",
       "      <th>0</th>\n",
       "      <td>利用日</td>\n",
       "      <td>DATE</td>\n",
       "    </tr>\n",
       "    <tr>\n",
       "      <th>1</th>\n",
       "      <td>利用店名・商品名</td>\n",
       "      <td>NVARCHAR(255)</td>\n",
       "    </tr>\n",
       "    <tr>\n",
       "      <th>2</th>\n",
       "      <td>利用者</td>\n",
       "      <td>NVARCHAR(255)</td>\n",
       "    </tr>\n",
       "    <tr>\n",
       "      <th>3</th>\n",
       "      <td>支払方法</td>\n",
       "      <td>NVARCHAR(255)</td>\n",
       "    </tr>\n",
       "    <tr>\n",
       "      <th>4</th>\n",
       "      <td>利用金額</td>\n",
       "      <td>NUMERIC(25,2)</td>\n",
       "    </tr>\n",
       "    <tr>\n",
       "      <th>5</th>\n",
       "      <td>支払手数料</td>\n",
       "      <td>NUMERIC(25,2)</td>\n",
       "    </tr>\n",
       "    <tr>\n",
       "      <th>6</th>\n",
       "      <td>支払総額</td>\n",
       "      <td>NUMERIC(25,2)</td>\n",
       "    </tr>\n",
       "  </tbody>\n",
       "</table>\n",
       "</div>"
      ],
      "text/plain": [
       "       カラム名           データ型\n",
       "0       利用日           DATE\n",
       "1  利用店名・商品名  NVARCHAR(255)\n",
       "2       利用者  NVARCHAR(255)\n",
       "3      支払方法  NVARCHAR(255)\n",
       "4      利用金額  NUMERIC(25,2)\n",
       "5     支払手数料  NUMERIC(25,2)\n",
       "6      支払総額  NUMERIC(25,2)"
      ]
     },
     "execution_count": 12,
     "metadata": {},
     "output_type": "execute_result"
    }
   ],
   "source": [
    "d_df = extract_colname_and_dtype_from_dataframe(df_list[0],date_col_list,nvarchar_col_list,numeric_col_list)\n",
    "\n",
    "d_df"
   ]
  },
  {
   "cell_type": "code",
   "execution_count": 13,
   "metadata": {},
   "outputs": [
    {
     "data": {
      "text/plain": [
       "'[利用日] DATE,[利用店名・商品名] NVARCHAR(255),[利用者] NVARCHAR(255),[支払方法] NVARCHAR(255),[利用金額] NUMERIC(25,2),[支払手数料] NUMERIC(25,2),[支払総額] NUMERIC(25,2)'"
      ]
     },
     "execution_count": 13,
     "metadata": {},
     "output_type": "execute_result"
    }
   ],
   "source": [
    "#3\n",
    "get_colname_and_dtype_to_create_table(d_df)"
   ]
  },
  {
   "cell_type": "code",
   "execution_count": 14,
   "metadata": {},
   "outputs": [
    {
     "data": {
      "text/plain": [
       "('[利用日],[利用店名・商品名],[利用者],[支払方法],[利用金額],[支払手数料],[支払総額]', '(?,?,?,?,?,?,?)')"
      ]
     },
     "execution_count": 14,
     "metadata": {},
     "output_type": "execute_result"
    }
   ],
   "source": [
    "# 5\n",
    "get_colname_and_questionmark_to_insert_data(d_df)"
   ]
  },
  {
   "cell_type": "code",
   "execution_count": null,
   "metadata": {},
   "outputs": [],
   "source": []
  }
 ],
 "metadata": {
  "kernelspec": {
   "display_name": "Python 3",
   "language": "python",
   "name": "python3"
  },
  "language_info": {
   "codemirror_mode": {
    "name": "ipython",
    "version": 3
   },
   "file_extension": ".py",
   "mimetype": "text/x-python",
   "name": "python",
   "nbconvert_exporter": "python",
   "pygments_lexer": "ipython3",
   "version": "3.6.8"
  }
 },
 "nbformat": 4,
 "nbformat_minor": 2
}
