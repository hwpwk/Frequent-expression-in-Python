{
 "cells": [
  {
   "cell_type": "code",
   "execution_count": 1,
   "metadata": {},
   "outputs": [],
   "source": [
    "import pandas as pd\n",
    "import numpy as np\n",
    "import gc\n",
    "import seaborn as sns"
   ]
  },
  {
   "cell_type": "code",
   "execution_count": 2,
   "metadata": {},
   "outputs": [],
   "source": [
    "df = sns.load_dataset('titanic')"
   ]
  },
  {
   "cell_type": "code",
   "execution_count": 3,
   "metadata": {},
   "outputs": [],
   "source": [
    "def calc_partial_corr(df):\n",
    "    '''\n",
    "    偏相関係数を算出する関数\n",
    "    \n",
    "    Parameter\n",
    "    　df : データフレーム\n",
    "    '''\n",
    "    \n",
    "    # 相関行列を算出\n",
    "    df_corr = df.corr()\n",
    "    # 相関行列の逆行列を算出\n",
    "    df_inv_corr = pd.DataFrame(np.linalg.inv(df_corr), index=df_corr.index, columns=df_corr.columns)\n",
    "    # 逆行列の各要素を2つの対角要素の積の平方根で割り符号を逆転する\n",
    "    partial_corr_list = []\n",
    "    for idx in df_corr.index:\n",
    "        for col in df_corr.columns:\n",
    "            partial_corr = -(df_inv_corr.loc[idx, col] / np.sqrt(df_inv_corr.loc[idx, idx]*df_inv_corr.loc[col, col]))\n",
    "            partial_corr_list.append(partial_corr)\n",
    "    # 1列のpartial_corr_listをindex数の行数、columnsの数の列数の2次元配列にする\n",
    "    idx_lengh, col_lengh = len(df_corr.index.tolist()), len(df_corr.columns.tolist())\n",
    "    df_partial_corr = pd.DataFrame(np.reshape(partial_corr_list, (idx_lengh, col_lengh)), index=df_corr.index, columns=df_corr.columns)\n",
    "    \n",
    "    return df_partial_corr"
   ]
  },
  {
   "cell_type": "code",
   "execution_count": 4,
   "metadata": {},
   "outputs": [
    {
     "data": {
      "text/html": [
       "<div>\n",
       "<style scoped>\n",
       "    .dataframe tbody tr th:only-of-type {\n",
       "        vertical-align: middle;\n",
       "    }\n",
       "\n",
       "    .dataframe tbody tr th {\n",
       "        vertical-align: top;\n",
       "    }\n",
       "\n",
       "    .dataframe thead th {\n",
       "        text-align: right;\n",
       "    }\n",
       "</style>\n",
       "<table border=\"1\" class=\"dataframe\">\n",
       "  <thead>\n",
       "    <tr style=\"text-align: right;\">\n",
       "      <th></th>\n",
       "      <th>survived</th>\n",
       "      <th>pclass</th>\n",
       "      <th>age</th>\n",
       "      <th>sibsp</th>\n",
       "      <th>parch</th>\n",
       "      <th>fare</th>\n",
       "      <th>adult_male</th>\n",
       "      <th>alone</th>\n",
       "    </tr>\n",
       "  </thead>\n",
       "  <tbody>\n",
       "    <tr>\n",
       "      <th>survived</th>\n",
       "      <td>-1.000000</td>\n",
       "      <td>-0.248213</td>\n",
       "      <td>-0.097382</td>\n",
       "      <td>-0.199370</td>\n",
       "      <td>-0.108061</td>\n",
       "      <td>0.055322</td>\n",
       "      <td>-0.534541</td>\n",
       "      <td>-0.082444</td>\n",
       "    </tr>\n",
       "    <tr>\n",
       "      <th>pclass</th>\n",
       "      <td>-0.248213</td>\n",
       "      <td>-1.000000</td>\n",
       "      <td>-0.369734</td>\n",
       "      <td>0.088162</td>\n",
       "      <td>0.133942</td>\n",
       "      <td>-0.505270</td>\n",
       "      <td>-0.033957</td>\n",
       "      <td>0.149624</td>\n",
       "    </tr>\n",
       "    <tr>\n",
       "      <th>age</th>\n",
       "      <td>-0.097382</td>\n",
       "      <td>-0.369734</td>\n",
       "      <td>-1.000000</td>\n",
       "      <td>-0.185824</td>\n",
       "      <td>0.005397</td>\n",
       "      <td>-0.036579</td>\n",
       "      <td>0.166169</td>\n",
       "      <td>0.023423</td>\n",
       "    </tr>\n",
       "    <tr>\n",
       "      <th>sibsp</th>\n",
       "      <td>-0.199370</td>\n",
       "      <td>0.088162</td>\n",
       "      <td>-0.185824</td>\n",
       "      <td>-1.000000</td>\n",
       "      <td>0.045474</td>\n",
       "      <td>0.118614</td>\n",
       "      <td>-0.080242</td>\n",
       "      <td>-0.460294</td>\n",
       "    </tr>\n",
       "    <tr>\n",
       "      <th>parch</th>\n",
       "      <td>-0.108061</td>\n",
       "      <td>0.133942</td>\n",
       "      <td>0.005397</td>\n",
       "      <td>0.045474</td>\n",
       "      <td>-1.000000</td>\n",
       "      <td>0.153084</td>\n",
       "      <td>-0.182578</td>\n",
       "      <td>-0.418010</td>\n",
       "    </tr>\n",
       "    <tr>\n",
       "      <th>fare</th>\n",
       "      <td>0.055322</td>\n",
       "      <td>-0.505270</td>\n",
       "      <td>-0.036579</td>\n",
       "      <td>0.118614</td>\n",
       "      <td>0.153084</td>\n",
       "      <td>-1.000000</td>\n",
       "      <td>0.004434</td>\n",
       "      <td>-0.014773</td>\n",
       "    </tr>\n",
       "    <tr>\n",
       "      <th>adult_male</th>\n",
       "      <td>-0.534541</td>\n",
       "      <td>-0.033957</td>\n",
       "      <td>0.166169</td>\n",
       "      <td>-0.080242</td>\n",
       "      <td>-0.182578</td>\n",
       "      <td>0.004434</td>\n",
       "      <td>-1.000000</td>\n",
       "      <td>0.120014</td>\n",
       "    </tr>\n",
       "    <tr>\n",
       "      <th>alone</th>\n",
       "      <td>-0.082444</td>\n",
       "      <td>0.149624</td>\n",
       "      <td>0.023423</td>\n",
       "      <td>-0.460294</td>\n",
       "      <td>-0.418010</td>\n",
       "      <td>-0.014773</td>\n",
       "      <td>0.120014</td>\n",
       "      <td>-1.000000</td>\n",
       "    </tr>\n",
       "  </tbody>\n",
       "</table>\n",
       "</div>"
      ],
      "text/plain": [
       "            survived    pclass       age     sibsp     parch      fare  \\\n",
       "survived   -1.000000 -0.248213 -0.097382 -0.199370 -0.108061  0.055322   \n",
       "pclass     -0.248213 -1.000000 -0.369734  0.088162  0.133942 -0.505270   \n",
       "age        -0.097382 -0.369734 -1.000000 -0.185824  0.005397 -0.036579   \n",
       "sibsp      -0.199370  0.088162 -0.185824 -1.000000  0.045474  0.118614   \n",
       "parch      -0.108061  0.133942  0.005397  0.045474 -1.000000  0.153084   \n",
       "fare        0.055322 -0.505270 -0.036579  0.118614  0.153084 -1.000000   \n",
       "adult_male -0.534541 -0.033957  0.166169 -0.080242 -0.182578  0.004434   \n",
       "alone      -0.082444  0.149624  0.023423 -0.460294 -0.418010 -0.014773   \n",
       "\n",
       "            adult_male     alone  \n",
       "survived     -0.534541 -0.082444  \n",
       "pclass       -0.033957  0.149624  \n",
       "age           0.166169  0.023423  \n",
       "sibsp        -0.080242 -0.460294  \n",
       "parch        -0.182578 -0.418010  \n",
       "fare          0.004434 -0.014773  \n",
       "adult_male   -1.000000  0.120014  \n",
       "alone         0.120014 -1.000000  "
      ]
     },
     "execution_count": 4,
     "metadata": {},
     "output_type": "execute_result"
    }
   ],
   "source": [
    "calc_partial_corr(df)"
   ]
  },
  {
   "cell_type": "code",
   "execution_count": 5,
   "metadata": {},
   "outputs": [
    {
     "data": {
      "text/plain": [
       "7"
      ]
     },
     "execution_count": 5,
     "metadata": {},
     "output_type": "execute_result"
    }
   ],
   "source": [
    "gc.collect()"
   ]
  },
  {
   "cell_type": "markdown",
   "metadata": {},
   "source": [
    "参考\n",
    "\n",
    "- https://www.case-k.jp/entry/2019/04/14/164533\n",
    "- https://cartman0.hatenablog.com/entry/2020/01/07/python%E3%81%A7%E5%81%8F%E7%9B%B8%E9%96%A2%E4%BF%82%E6%95%B0%E8%A1%8C%E5%88%97%28pcor%29%E3%82%92%E8%A8%88%E7%AE%97"
   ]
  },
  {
   "cell_type": "code",
   "execution_count": null,
   "metadata": {},
   "outputs": [],
   "source": []
  }
 ],
 "metadata": {
  "kernelspec": {
   "display_name": "Python 3",
   "language": "python",
   "name": "python3"
  },
  "language_info": {
   "codemirror_mode": {
    "name": "ipython",
    "version": 3
   },
   "file_extension": ".py",
   "mimetype": "text/x-python",
   "name": "python",
   "nbconvert_exporter": "python",
   "pygments_lexer": "ipython3",
   "version": "3.6.8"
  }
 },
 "nbformat": 4,
 "nbformat_minor": 2
}
