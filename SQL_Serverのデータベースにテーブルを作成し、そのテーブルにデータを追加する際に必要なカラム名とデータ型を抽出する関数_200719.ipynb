{
 "cells": [
  {
   "cell_type": "code",
   "execution_count": 1,
   "metadata": {},
   "outputs": [],
   "source": [
    "import re\n",
    "\n",
    "import pandas as pd\n",
    "import numpy as np"
   ]
  },
  {
   "cell_type": "markdown",
   "metadata": {},
   "source": [
    "### dataディレクトリの中に格納されているxlsxファイルのパスを取得"
   ]
  },
  {
   "cell_type": "code",
   "execution_count": 2,
   "metadata": {},
   "outputs": [
    {
     "data": {
      "text/plain": [
       "['data\\\\enavi201904(6875).csv',\n",
       " 'data\\\\enavi201905(6875).csv',\n",
       " 'data\\\\enavi201906(6875).csv',\n",
       " 'data\\\\enavi201907(6875).csv',\n",
       " 'data\\\\enavi201908(6875).csv',\n",
       " 'data\\\\enavi201909(6875).csv',\n",
       " 'data\\\\enavi201910(6875).csv',\n",
       " 'data\\\\enavi201911(6875).csv',\n",
       " 'data\\\\enavi201912(6875).csv',\n",
       " 'data\\\\enavi202001(6875).csv',\n",
       " 'data\\\\enavi202002(6875).csv',\n",
       " 'data\\\\enavi202003(6875).csv',\n",
       " 'data\\\\enavi202004(6875).csv',\n",
       " 'data\\\\enavi202005(6875).csv',\n",
       " 'data\\\\enavi202006(6875).csv']"
      ]
     },
     "execution_count": 2,
     "metadata": {},
     "output_type": "execute_result"
    }
   ],
   "source": [
    "import glob\n",
    "\n",
    "file_list = glob.glob('data/enavi*.csv')\n",
    "\n",
    "file_list"
   ]
  },
  {
   "cell_type": "markdown",
   "metadata": {},
   "source": [
    "### データフレームとして1ファイルのみ読み込み"
   ]
  },
  {
   "cell_type": "code",
   "execution_count": 3,
   "metadata": {},
   "outputs": [
    {
     "data": {
      "text/plain": [
       "(55, 11)"
      ]
     },
     "metadata": {},
     "output_type": "display_data"
    },
    {
     "data": {
      "text/html": [
       "<div>\n",
       "<style scoped>\n",
       "    .dataframe tbody tr th:only-of-type {\n",
       "        vertical-align: middle;\n",
       "    }\n",
       "\n",
       "    .dataframe tbody tr th {\n",
       "        vertical-align: top;\n",
       "    }\n",
       "\n",
       "    .dataframe thead th {\n",
       "        text-align: right;\n",
       "    }\n",
       "</style>\n",
       "<table border=\"1\" class=\"dataframe\">\n",
       "  <thead>\n",
       "    <tr style=\"text-align: right;\">\n",
       "      <th></th>\n",
       "      <th>利用日</th>\n",
       "      <th>利用店名・商品名</th>\n",
       "      <th>利用者</th>\n",
       "      <th>支払方法</th>\n",
       "      <th>利用金額</th>\n",
       "      <th>支払手数料</th>\n",
       "      <th>支払総額</th>\n",
       "      <th>4月支払金額</th>\n",
       "      <th>5月繰越残高</th>\n",
       "      <th>新規サイン</th>\n",
       "      <th>test/test</th>\n",
       "    </tr>\n",
       "  </thead>\n",
       "  <tbody>\n",
       "    <tr>\n",
       "      <th>0</th>\n",
       "      <td>2019/03/30</td>\n",
       "      <td>AMAZON.CO.JP</td>\n",
       "      <td>本人</td>\n",
       "      <td>1回払い</td>\n",
       "      <td>1782.0</td>\n",
       "      <td>0.0</td>\n",
       "      <td>1782.0</td>\n",
       "      <td>1782.0</td>\n",
       "      <td>0.0</td>\n",
       "      <td>*</td>\n",
       "      <td>test</td>\n",
       "    </tr>\n",
       "    <tr>\n",
       "      <th>1</th>\n",
       "      <td>2019/03/30</td>\n",
       "      <td>ﾏｲﾊﾞｽｹﾂﾄﾒｸﾞﾛﾀｲｺﾊﾞ</td>\n",
       "      <td>本人</td>\n",
       "      <td>1回払い</td>\n",
       "      <td>1164.0</td>\n",
       "      <td>0.0</td>\n",
       "      <td>1164.0</td>\n",
       "      <td>1164.0</td>\n",
       "      <td>0.0</td>\n",
       "      <td>*</td>\n",
       "      <td>test</td>\n",
       "    </tr>\n",
       "    <tr>\n",
       "      <th>2</th>\n",
       "      <td>2019/03/29</td>\n",
       "      <td>ﾏｲﾊﾞｽｹﾂﾄﾒｸﾞﾛﾀｲｺﾊﾞ</td>\n",
       "      <td>本人</td>\n",
       "      <td>1回払い</td>\n",
       "      <td>2766.0</td>\n",
       "      <td>0.0</td>\n",
       "      <td>2766.0</td>\n",
       "      <td>2766.0</td>\n",
       "      <td>0.0</td>\n",
       "      <td>*</td>\n",
       "      <td>test</td>\n",
       "    </tr>\n",
       "    <tr>\n",
       "      <th>3</th>\n",
       "      <td>2019/03/28</td>\n",
       "      <td>ローソン</td>\n",
       "      <td>本人</td>\n",
       "      <td>1回払い</td>\n",
       "      <td>133.0</td>\n",
       "      <td>0.0</td>\n",
       "      <td>133.0</td>\n",
       "      <td>133.0</td>\n",
       "      <td>0.0</td>\n",
       "      <td>*</td>\n",
       "      <td>test</td>\n",
       "    </tr>\n",
       "    <tr>\n",
       "      <th>4</th>\n",
       "      <td>2019/03/28</td>\n",
       "      <td>ﾏｲﾊﾞｽｹﾂﾄﾒｸﾞﾛﾀｲｺﾊﾞ</td>\n",
       "      <td>本人</td>\n",
       "      <td>1回払い</td>\n",
       "      <td>397.0</td>\n",
       "      <td>0.0</td>\n",
       "      <td>397.0</td>\n",
       "      <td>397.0</td>\n",
       "      <td>0.0</td>\n",
       "      <td>*</td>\n",
       "      <td>test</td>\n",
       "    </tr>\n",
       "  </tbody>\n",
       "</table>\n",
       "</div>"
      ],
      "text/plain": [
       "          利用日           利用店名・商品名 利用者  支払方法    利用金額  支払手数料    支払総額  4月支払金額  \\\n",
       "0  2019/03/30       AMAZON.CO.JP  本人  1回払い  1782.0    0.0  1782.0  1782.0   \n",
       "1  2019/03/30  ﾏｲﾊﾞｽｹﾂﾄﾒｸﾞﾛﾀｲｺﾊﾞ  本人  1回払い  1164.0    0.0  1164.0  1164.0   \n",
       "2  2019/03/29  ﾏｲﾊﾞｽｹﾂﾄﾒｸﾞﾛﾀｲｺﾊﾞ  本人  1回払い  2766.0    0.0  2766.0  2766.0   \n",
       "3  2019/03/28               ローソン  本人  1回払い   133.0    0.0   133.0   133.0   \n",
       "4  2019/03/28  ﾏｲﾊﾞｽｹﾂﾄﾒｸﾞﾛﾀｲｺﾊﾞ  本人  1回払い   397.0    0.0   397.0   397.0   \n",
       "\n",
       "   5月繰越残高 新規サイン test/test  \n",
       "0     0.0     *      test  \n",
       "1     0.0     *      test  \n",
       "2     0.0     *      test  \n",
       "3     0.0     *      test  \n",
       "4     0.0     *      test  "
      ]
     },
     "metadata": {},
     "output_type": "display_data"
    }
   ],
   "source": [
    "df = pd.read_csv(file_list[0])\n",
    "\n",
    "df['test/test'] = 'test'\n",
    "\n",
    "display(df.shape, df.head())"
   ]
  },
  {
   "cell_type": "code",
   "execution_count": 4,
   "metadata": {},
   "outputs": [],
   "source": [
    "def extract_colname_and_dtype_from_dataframe(df):\n",
    "\n",
    "    # 読み込んだデータのカラム名とデータ型を抽出\n",
    "    dtypes_df = pd.DataFrame(df.dtypes).reset_index()\n",
    "    dtypes_df.columns=['カラム名','データ型']\n",
    "\n",
    "    return dtypes_df\n",
    "\n",
    "\n",
    "def get_colname_and_dtype_to_create_table(df):\n",
    "    '''\n",
    "    関数内容\n",
    "    ・create tableに必要なカラム名とデータ型を取得し、2つを特定の形式に並べた文字列を作成する関数\n",
    "    '''\n",
    "    # 読み込んだデータのカラム名とデータ型を抽出したデータフレームの作成\n",
    "    df1 = extract_colname_and_dtype_from_dataframe(df)\n",
    "\n",
    "    # SQLServerへのインポート用のデータ型名にリネーム\n",
    "    df1['データ型'] = np.where(df1['データ型']=='object', 'NVARCHAR(25)',\n",
    "                                 np.where(df1['データ型']=='float64', 'NUMERIC(25)',df1['データ型']))\n",
    "\n",
    "    ct_col_list = df1['カラム名'].tolist()\n",
    "    # カラム名に'/'が含まれているとSQLServerへのインポート時にエラーが発生するのでリネーム\n",
    "    ct_col_list =['['+ col_name + ']' if '/' in col_name else col_name for col_name in ct_col_list]\n",
    "    # カラム名先頭が数字の場合もSQLServerへのインポート時にエラーが発生するのでリネーム\n",
    "    ct_col_list =['['+ col + ']' if re.match('^[0-9]', col) else col for col in ct_col_list ]\n",
    "    \n",
    "    ct_dtype_list = df1['データ型'].tolist()\n",
    "\n",
    "    combi_ct_list = [str(col_name)+' '+str(dtype_name) for col_name, dtype_name in zip (ct_col_list, ct_dtype_list)]\n",
    "\n",
    "    colname_and_dtype_str = ','.join(map(str, combi_ct_list))\n",
    "\n",
    "    return colname_and_dtype_str\n",
    "\n",
    "def get_colname_and_questionmark_to_insert_data(df):\n",
    "    '''\n",
    "    関数内容\n",
    "    ・insert intoに必要なカラム名と?マークを取得する関数\n",
    "\n",
    "    '''\n",
    "    # 読み込んだデータのカラム名とデータ型を抽出したデータフレームの作成\n",
    "    df1 = extract_colname_and_dtype_from_dataframe(df)\n",
    "\n",
    "    it_col_list = df1['カラム名'].tolist()\n",
    "    # カラム名に'/'が含まれているとSQLServerへのインポート時にエラーが発生するのでリネーム\n",
    "    it_col_list =['['+ col_name + ']' if '/' in col_name else col_name for col_name in it_col_list]\n",
    "    # カラム名先頭が数字の場合もSQLServerへのインポート時にエラーが発生するのでリネーム\n",
    "    it_col_list =['['+ col + ']' if re.match('^[0-9]', col) else col for col in it_col_list ]\n",
    "\n",
    "    it_col_str = ','.join(map(str, it_col_list))\n",
    "\n",
    "    questionmark_str = '?,'*len(df1)\n",
    "    # 最後の「,」は必要ない + ()を追加\n",
    "    questionmark_str = '(' + questionmark_str[:-1] + ')'\n",
    "\n",
    "    return it_col_str, questionmark_str"
   ]
  },
  {
   "cell_type": "code",
   "execution_count": 5,
   "metadata": {},
   "outputs": [
    {
     "data": {
      "text/plain": [
       "'利用日 NVARCHAR(25),利用店名・商品名 NVARCHAR(25),利用者 NVARCHAR(25),支払方法 NVARCHAR(25),利用金額 NUMERIC(25),支払手数料 NUMERIC(25),支払総額 NUMERIC(25),[4月支払金額] NUMERIC(25),[5月繰越残高] NUMERIC(25),新規サイン NVARCHAR(25),[test/test] NVARCHAR(25)'"
      ]
     },
     "execution_count": 5,
     "metadata": {},
     "output_type": "execute_result"
    }
   ],
   "source": [
    "get_colname_and_dtype_to_create_table(df)"
   ]
  },
  {
   "cell_type": "code",
   "execution_count": 6,
   "metadata": {},
   "outputs": [
    {
     "data": {
      "text/plain": [
       "('利用日,利用店名・商品名,利用者,支払方法,利用金額,支払手数料,支払総額,[4月支払金額],[5月繰越残高],新規サイン,[test/test]',\n",
       " '(?,?,?,?,?,?,?,?,?,?,?)')"
      ]
     },
     "execution_count": 6,
     "metadata": {},
     "output_type": "execute_result"
    }
   ],
   "source": [
    "get_colname_and_questionmark_to_insert_data(df)"
   ]
  },
  {
   "cell_type": "code",
   "execution_count": null,
   "metadata": {},
   "outputs": [],
   "source": []
  }
 ],
 "metadata": {
  "kernelspec": {
   "display_name": "Python 3",
   "language": "python",
   "name": "python3"
  },
  "language_info": {
   "codemirror_mode": {
    "name": "ipython",
    "version": 3
   },
   "file_extension": ".py",
   "mimetype": "text/x-python",
   "name": "python",
   "nbconvert_exporter": "python",
   "pygments_lexer": "ipython3",
   "version": "3.6.8"
  }
 },
 "nbformat": 4,
 "nbformat_minor": 2
}
