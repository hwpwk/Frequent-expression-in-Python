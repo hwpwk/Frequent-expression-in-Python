{
 "cells": [
  {
   "cell_type": "code",
   "execution_count": 1,
   "metadata": {},
   "outputs": [],
   "source": [
    "import pandas as pd\n",
    "import numpy as np"
   ]
  },
  {
   "cell_type": "markdown",
   "metadata": {},
   "source": [
    "### dataディレクトリの中に格納されているxlsxファイルのパスを取得"
   ]
  },
  {
   "cell_type": "code",
   "execution_count": 2,
   "metadata": {},
   "outputs": [
    {
     "data": {
      "text/plain": [
       "['data\\\\fille_1706.xlsx', 'data\\\\fille_1709.xlsx', 'data\\\\fille_1712.xlsx']"
      ]
     },
     "execution_count": 2,
     "metadata": {},
     "output_type": "execute_result"
    }
   ],
   "source": [
    "import glob\n",
    "\n",
    "file_list = glob.glob('data/fille_*.xlsx')\n",
    "\n",
    "file_list"
   ]
  },
  {
   "cell_type": "markdown",
   "metadata": {},
   "source": [
    "### データフレームとして読み込みリストに格納"
   ]
  },
  {
   "cell_type": "code",
   "execution_count": 3,
   "metadata": {},
   "outputs": [
    {
     "data": {
      "text/html": [
       "<div>\n",
       "<style scoped>\n",
       "    .dataframe tbody tr th:only-of-type {\n",
       "        vertical-align: middle;\n",
       "    }\n",
       "\n",
       "    .dataframe tbody tr th {\n",
       "        vertical-align: top;\n",
       "    }\n",
       "\n",
       "    .dataframe thead th {\n",
       "        text-align: right;\n",
       "    }\n",
       "</style>\n",
       "<table border=\"1\" class=\"dataframe\">\n",
       "  <thead>\n",
       "    <tr style=\"text-align: right;\">\n",
       "      <th></th>\n",
       "      <th>決算日</th>\n",
       "      <th>科目コード</th>\n",
       "      <th>金額</th>\n",
       "    </tr>\n",
       "  </thead>\n",
       "  <tbody>\n",
       "    <tr>\n",
       "      <th>0</th>\n",
       "      <td>2017-06-30</td>\n",
       "      <td>10001</td>\n",
       "      <td>10</td>\n",
       "    </tr>\n",
       "    <tr>\n",
       "      <th>1</th>\n",
       "      <td>2017-06-30</td>\n",
       "      <td>10002</td>\n",
       "      <td>20</td>\n",
       "    </tr>\n",
       "    <tr>\n",
       "      <th>2</th>\n",
       "      <td>2017-06-30</td>\n",
       "      <td>10003</td>\n",
       "      <td>30</td>\n",
       "    </tr>\n",
       "    <tr>\n",
       "      <th>3</th>\n",
       "      <td>2017-06-30</td>\n",
       "      <td>10002</td>\n",
       "      <td>40</td>\n",
       "    </tr>\n",
       "    <tr>\n",
       "      <th>4</th>\n",
       "      <td>2017-06-30</td>\n",
       "      <td>10001</td>\n",
       "      <td>50</td>\n",
       "    </tr>\n",
       "  </tbody>\n",
       "</table>\n",
       "</div>"
      ],
      "text/plain": [
       "         決算日  科目コード  金額\n",
       "0 2017-06-30  10001  10\n",
       "1 2017-06-30  10002  20\n",
       "2 2017-06-30  10003  30\n",
       "3 2017-06-30  10002  40\n",
       "4 2017-06-30  10001  50"
      ]
     },
     "metadata": {},
     "output_type": "display_data"
    },
    {
     "data": {
      "text/html": [
       "<div>\n",
       "<style scoped>\n",
       "    .dataframe tbody tr th:only-of-type {\n",
       "        vertical-align: middle;\n",
       "    }\n",
       "\n",
       "    .dataframe tbody tr th {\n",
       "        vertical-align: top;\n",
       "    }\n",
       "\n",
       "    .dataframe thead th {\n",
       "        text-align: right;\n",
       "    }\n",
       "</style>\n",
       "<table border=\"1\" class=\"dataframe\">\n",
       "  <thead>\n",
       "    <tr style=\"text-align: right;\">\n",
       "      <th></th>\n",
       "      <th>決算日</th>\n",
       "      <th>科目コード</th>\n",
       "      <th>金額</th>\n",
       "    </tr>\n",
       "  </thead>\n",
       "  <tbody>\n",
       "    <tr>\n",
       "      <th>0</th>\n",
       "      <td>2017-09-30</td>\n",
       "      <td>10001</td>\n",
       "      <td>100</td>\n",
       "    </tr>\n",
       "    <tr>\n",
       "      <th>1</th>\n",
       "      <td>2017-09-30</td>\n",
       "      <td>10002</td>\n",
       "      <td>200</td>\n",
       "    </tr>\n",
       "    <tr>\n",
       "      <th>2</th>\n",
       "      <td>2017-09-30</td>\n",
       "      <td>10003</td>\n",
       "      <td>300</td>\n",
       "    </tr>\n",
       "    <tr>\n",
       "      <th>3</th>\n",
       "      <td>2017-09-30</td>\n",
       "      <td>10002</td>\n",
       "      <td>400</td>\n",
       "    </tr>\n",
       "    <tr>\n",
       "      <th>4</th>\n",
       "      <td>2017-09-30</td>\n",
       "      <td>10001</td>\n",
       "      <td>500</td>\n",
       "    </tr>\n",
       "  </tbody>\n",
       "</table>\n",
       "</div>"
      ],
      "text/plain": [
       "         決算日  科目コード   金額\n",
       "0 2017-09-30  10001  100\n",
       "1 2017-09-30  10002  200\n",
       "2 2017-09-30  10003  300\n",
       "3 2017-09-30  10002  400\n",
       "4 2017-09-30  10001  500"
      ]
     },
     "metadata": {},
     "output_type": "display_data"
    },
    {
     "data": {
      "text/html": [
       "<div>\n",
       "<style scoped>\n",
       "    .dataframe tbody tr th:only-of-type {\n",
       "        vertical-align: middle;\n",
       "    }\n",
       "\n",
       "    .dataframe tbody tr th {\n",
       "        vertical-align: top;\n",
       "    }\n",
       "\n",
       "    .dataframe thead th {\n",
       "        text-align: right;\n",
       "    }\n",
       "</style>\n",
       "<table border=\"1\" class=\"dataframe\">\n",
       "  <thead>\n",
       "    <tr style=\"text-align: right;\">\n",
       "      <th></th>\n",
       "      <th>決算日</th>\n",
       "      <th>科目コード</th>\n",
       "      <th>金額</th>\n",
       "    </tr>\n",
       "  </thead>\n",
       "  <tbody>\n",
       "    <tr>\n",
       "      <th>0</th>\n",
       "      <td>2017-12-31</td>\n",
       "      <td>10001</td>\n",
       "      <td>10000</td>\n",
       "    </tr>\n",
       "    <tr>\n",
       "      <th>1</th>\n",
       "      <td>2017-12-31</td>\n",
       "      <td>10002</td>\n",
       "      <td>20000</td>\n",
       "    </tr>\n",
       "    <tr>\n",
       "      <th>2</th>\n",
       "      <td>2017-12-31</td>\n",
       "      <td>10003</td>\n",
       "      <td>30000</td>\n",
       "    </tr>\n",
       "    <tr>\n",
       "      <th>3</th>\n",
       "      <td>2017-12-31</td>\n",
       "      <td>10002</td>\n",
       "      <td>40000</td>\n",
       "    </tr>\n",
       "    <tr>\n",
       "      <th>4</th>\n",
       "      <td>2017-12-31</td>\n",
       "      <td>10001</td>\n",
       "      <td>50000</td>\n",
       "    </tr>\n",
       "  </tbody>\n",
       "</table>\n",
       "</div>"
      ],
      "text/plain": [
       "         決算日  科目コード     金額\n",
       "0 2017-12-31  10001  10000\n",
       "1 2017-12-31  10002  20000\n",
       "2 2017-12-31  10003  30000\n",
       "3 2017-12-31  10002  40000\n",
       "4 2017-12-31  10001  50000"
      ]
     },
     "metadata": {},
     "output_type": "display_data"
    }
   ],
   "source": [
    "dtypes={'科目コード':str, '金額':int}\n",
    "parse_date = ['決算日']\n",
    "\n",
    "#df = pd.read_excel('data/fille_1712.xlsx',dtype=dtypes, parse_dates=parse_date)\n",
    "\n",
    "df_list = [pd.read_excel(file ,dtype=dtypes, parse_dates=parse_date) for file in file_list]\n",
    "\n",
    "display(df_list[0], df_list[1], df_list[2])"
   ]
  },
  {
   "cell_type": "code",
   "execution_count": 4,
   "metadata": {},
   "outputs": [
    {
     "data": {
      "text/plain": [
       "決算日      datetime64[ns]\n",
       "科目コード            object\n",
       "金額                int32\n",
       "dtype: object"
      ]
     },
     "metadata": {},
     "output_type": "display_data"
    },
    {
     "data": {
      "text/plain": [
       "決算日      datetime64[ns]\n",
       "科目コード            object\n",
       "金額                int32\n",
       "dtype: object"
      ]
     },
     "metadata": {},
     "output_type": "display_data"
    },
    {
     "data": {
      "text/plain": [
       "決算日      datetime64[ns]\n",
       "科目コード            object\n",
       "金額                int32\n",
       "dtype: object"
      ]
     },
     "metadata": {},
     "output_type": "display_data"
    }
   ],
   "source": [
    "# 読み込んだデータフレームの各カラムのデータ型の確認\n",
    "for df in df_list:\n",
    "    display(df.dtypes)"
   ]
  },
  {
   "cell_type": "markdown",
   "metadata": {},
   "source": [
    "## SQLserverへ接続開始する関数"
   ]
  },
  {
   "cell_type": "code",
   "execution_count": 5,
   "metadata": {},
   "outputs": [],
   "source": [
    "def connect_to_sqlserver(database, driver='{SQL Server}', server = 'localhost\\SQLEXPRESS',trusted_connection='yes'):\n",
    "    '''\n",
    "    関数内容\n",
    "    ・PythonからSQLserverへ接続する関数\n",
    "    Input\n",
    "    ・database：使用するデータベース名(予めSQLserver上で「CREATE DATABASE [データベース名]」というコードを実行させて作成しておく)\n",
    "    関数使用方法\n",
    "    ・connect_to_sqlserver('C10000_database')\n",
    "    '''\n",
    "    import pyodbc\n",
    "    conn = pyodbc.connect('DRIVER='+driver+';SERVER='+server+';DATABASE='+database+';Trusted_Connection='+trusted_connection+';')\n",
    "    curs = conn.cursor()\n",
    "    \n",
    "    return conn, curs"
   ]
  },
  {
   "cell_type": "markdown",
   "metadata": {},
   "source": [
    "### SQLserverへ接続開始する関数を実行"
   ]
  },
  {
   "cell_type": "code",
   "execution_count": 6,
   "metadata": {},
   "outputs": [],
   "source": [
    "conn, curs = connect_to_sqlserver('C10000_database')"
   ]
  },
  {
   "cell_type": "markdown",
   "metadata": {},
   "source": [
    "import pyodbc\n",
    "\n",
    "driver='{SQL Server}'\n",
    "server = 'localhost\\SQLEXPRESS' \n",
    "database = 'C10000_database' \n",
    "trusted_connection='yes'\n",
    "\n",
    "conn = pyodbc.connect('DRIVER='+driver+';SERVER='+server+';DATABASE='+database+';Trusted_Connection='+trusted_connection+';')\n",
    "curs = conn.cursor()"
   ]
  },
  {
   "cell_type": "markdown",
   "metadata": {},
   "source": [
    "## データベース内にテーブルを作成する関数\n",
    "参考：https://itsakura.com/python-sqlite-insert"
   ]
  },
  {
   "cell_type": "code",
   "execution_count": 7,
   "metadata": {},
   "outputs": [],
   "source": [
    "def create_tables_in_sqlserver(file_name_list, curs=curs, conn=conn):\n",
    "    '''\n",
    "    関数内容\n",
    "    ・データベース内にテーブルを作成する関数(カラムは[決算日]、[科目コード]、[金額]で決め打ち)\n",
    "    Input\n",
    "    ・file_name_list：読み込んだ全ファイル名を格納したリスト\n",
    "    関数使用方法\n",
    "    ・create_tables(file_name_list)\n",
    "    '''\n",
    "\n",
    "    for file_name in file_name_list:\n",
    "        curs.execute(\n",
    "        'CREATE TABLE ' + file_name +\\\n",
    "        '(決算日 DATE,科目コード NVARCHAR(10),金額 NUMERIC(25))')\n",
    "\n",
    "        conn.commit()"
   ]
  },
  {
   "cell_type": "code",
   "execution_count": 8,
   "metadata": {},
   "outputs": [
    {
     "data": {
      "text/plain": [
       "['fille_1706', 'fille_1709', 'fille_1712']"
      ]
     },
     "execution_count": 8,
     "metadata": {},
     "output_type": "execute_result"
    }
   ],
   "source": [
    "# ディレクトリに格納されているファイルの名前のみ取得\n",
    "import os\n",
    "\n",
    "file_name_list = [os.path.splitext(os.path.basename(file))[0] for file in file_list]\n",
    "\n",
    "file_name_list"
   ]
  },
  {
   "cell_type": "markdown",
   "metadata": {},
   "source": [
    "### データベース内にテーブルを作成する関数を実行"
   ]
  },
  {
   "cell_type": "code",
   "execution_count": 9,
   "metadata": {
    "scrolled": true
   },
   "outputs": [],
   "source": [
    "create_tables_in_sqlserver(file_name_list)"
   ]
  },
  {
   "cell_type": "markdown",
   "metadata": {},
   "source": [
    "## データベース内のテーブルにデータを追加する関数"
   ]
  },
  {
   "cell_type": "code",
   "execution_count": 10,
   "metadata": {},
   "outputs": [],
   "source": [
    "def insert_into_sqlserver(file_name_list, df_list, curs=curs, conn=conn):\n",
    "    '''\n",
    "    関数内容\n",
    "    ・データベース内のテーブルにデータを追加する関数\n",
    "    Input\n",
    "    ・file_name_list：読み込んだ全ファイル名を格納したリスト\n",
    "    ・df_list：読み込んだ全データフレームを格納したリスト\n",
    "    関数使用方法\n",
    "    ・insert_into_sqlserver(file_name_list, df_list)\n",
    "    '''\n",
    "    for file_name, df in zip(file_name_list, df_list):\n",
    "        values_tuple = [tuple(row) for row in df.values]\n",
    "        # カラムが複数ある結果、挿入したい値が複数ある場合はcurs.executemanyを使う\n",
    "        curs.executemany(\n",
    "            'INSERT INTO ' + file_name +'(決算日, 科目コード, 金額) VALUES (?,?,?)',values_tuple\n",
    "        )\n",
    "\n",
    "        conn.commit()  "
   ]
  },
  {
   "cell_type": "markdown",
   "metadata": {},
   "source": [
    "### データベース内のテーブルにデータを追加する関数を実行"
   ]
  },
  {
   "cell_type": "code",
   "execution_count": 11,
   "metadata": {},
   "outputs": [],
   "source": [
    "insert_into_sqlserver(file_name_list, df_list)"
   ]
  },
  {
   "cell_type": "markdown",
   "metadata": {},
   "source": [
    "## SQLserverへの接続を切る関数"
   ]
  },
  {
   "cell_type": "code",
   "execution_count": 12,
   "metadata": {},
   "outputs": [],
   "source": [
    "def disconnect_from_sqlserver(curs=curs, conn=conn):\n",
    "    '''\n",
    "    関数内容\n",
    "    ・SQLserverへの接続を切る関数\n",
    "    '''\n",
    "    curs.close()\n",
    "    conn.close()"
   ]
  },
  {
   "cell_type": "markdown",
   "metadata": {},
   "source": [
    "### SQLserverへの接続を切る関数を実行"
   ]
  },
  {
   "cell_type": "code",
   "execution_count": 13,
   "metadata": {},
   "outputs": [],
   "source": [
    "disconnect_from_sqlserver()"
   ]
  },
  {
   "cell_type": "markdown",
   "metadata": {},
   "source": [
    "curs.close()\n",
    "conn.close()"
   ]
  },
  {
   "cell_type": "markdown",
   "metadata": {},
   "source": [
    "参考\n",
    "\n",
    "https://qiita.com/gaborotta/items/3f2f2fd492163a1ec007\n",
    "\n",
    "https://qiita.com/YoshitakaOkada/items/d6d97c5954adae148b7a"
   ]
  },
  {
   "cell_type": "code",
   "execution_count": null,
   "metadata": {},
   "outputs": [],
   "source": []
  }
 ],
 "metadata": {
  "kernelspec": {
   "display_name": "Python 3",
   "language": "python",
   "name": "python3"
  },
  "language_info": {
   "codemirror_mode": {
    "name": "ipython",
    "version": 3
   },
   "file_extension": ".py",
   "mimetype": "text/x-python",
   "name": "python",
   "nbconvert_exporter": "python",
   "pygments_lexer": "ipython3",
   "version": "3.6.8"
  }
 },
 "nbformat": 4,
 "nbformat_minor": 2
}
