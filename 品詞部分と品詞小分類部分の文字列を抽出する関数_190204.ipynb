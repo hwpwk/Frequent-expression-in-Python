{
 "cells": [
  {
   "cell_type": "code",
   "execution_count": 1,
   "metadata": {
    "collapsed": true
   },
   "outputs": [],
   "source": [
    "import pandas as pd\n",
    "import numpy as np\n",
    "\n",
    "# 可視化用のライブラリ\n",
    "from matplotlib import pyplot as plt\n",
    "import seaborn as sns\n",
    "%matplotlib inline\n",
    "\n",
    "import neologdn\n",
    "import MeCab\n",
    "\n",
    "import re\n",
    "\n",
    "import joblib\n",
    "\n",
    "from tqdm import tqdm_notebook as tqdm\n",
    "from tqdm._tqdm_notebook import tqdm_notebook\n",
    "tqdm_notebook.pandas(desc=\"progress: \")"
   ]
  },
  {
   "cell_type": "code",
   "execution_count": 2,
   "metadata": {},
   "outputs": [
    {
     "data": {
      "text/html": [
       "<div>\n",
       "<style scoped>\n",
       "    .dataframe tbody tr th:only-of-type {\n",
       "        vertical-align: middle;\n",
       "    }\n",
       "\n",
       "    .dataframe tbody tr th {\n",
       "        vertical-align: top;\n",
       "    }\n",
       "\n",
       "    .dataframe thead th {\n",
       "        text-align: right;\n",
       "    }\n",
       "</style>\n",
       "<table border=\"1\" class=\"dataframe\">\n",
       "  <thead>\n",
       "    <tr style=\"text-align: right;\">\n",
       "      <th></th>\n",
       "      <th>original_type</th>\n",
       "    </tr>\n",
       "  </thead>\n",
       "  <tbody>\n",
       "    <tr>\n",
       "      <th>0</th>\n",
       "      <td>(_記号-一般</td>\n",
       "    </tr>\n",
       "    <tr>\n",
       "      <th>1</th>\n",
       "      <td>)_記号-一般</td>\n",
       "    </tr>\n",
       "    <tr>\n",
       "      <th>2</th>\n",
       "      <td>._記号-一般</td>\n",
       "    </tr>\n",
       "    <tr>\n",
       "      <th>3</th>\n",
       "      <td>1_名詞-数</td>\n",
       "    </tr>\n",
       "    <tr>\n",
       "      <th>4</th>\n",
       "      <td>NEologd_名詞-固有名詞-一般</td>\n",
       "    </tr>\n",
       "  </tbody>\n",
       "</table>\n",
       "</div>"
      ],
      "text/plain": [
       "        original_type\n",
       "0             (_記号-一般\n",
       "1             )_記号-一般\n",
       "2             ._記号-一般\n",
       "3              1_名詞-数\n",
       "4  NEologd_名詞-固有名詞-一般"
      ]
     },
     "execution_count": 2,
     "metadata": {},
     "output_type": "execute_result"
    }
   ],
   "source": [
    "df = pd.read_csv('contents_merge_df.csv', encoding='cp932')[['original_type']]\n",
    "df.head()"
   ]
  },
  {
   "cell_type": "code",
   "execution_count": 3,
   "metadata": {
    "collapsed": true
   },
   "outputs": [],
   "source": [
    "'''品詞部分の文字列のみを抽出する関数'''\n",
    "\n",
    "def extract_hinshi(text):\n",
    "    \n",
    "    hinshi=''\n",
    "    \n",
    "    try:\n",
    "        hinshi = text.split('_')[1].split('-')[0]\n",
    "    except:\n",
    "        pass\n",
    "    \n",
    "    return hinshi\n",
    "\n",
    "'''品詞小分類部分の文字列のみを抽出する関数1'''\n",
    "def extract_micro_hinshi1(text):\n",
    "    \n",
    "    micro_hinshi = ''\n",
    "    \n",
    "    try:\n",
    "        micro_hinshi = text.split('_')[1].split('-')[1]\n",
    "    except:\n",
    "        pass\n",
    "    \n",
    "    return micro_hinshi\n",
    "\n",
    "'''品詞小分類部分の文字列のみを抽出する関数2'''\n",
    "def extract_micro_hinshi2(text):\n",
    "    \n",
    "    micro_hinshi = ''\n",
    "    \n",
    "    try:\n",
    "        micro_hinshi = text.split('_')[1].split('-')[2]\n",
    "    except:\n",
    "        pass\n",
    "    \n",
    "    return micro_hinshi"
   ]
  },
  {
   "cell_type": "code",
   "execution_count": 4,
   "metadata": {},
   "outputs": [
    {
     "data": {
      "application/vnd.jupyter.widget-view+json": {
       "model_id": "3b21ce86dba547a4934b296bfa0bfe65",
       "version_major": 2,
       "version_minor": 0
      },
      "text/plain": [
       "A Jupyter Widget"
      ]
     },
     "metadata": {},
     "output_type": "display_data"
    },
    {
     "name": "stdout",
     "output_type": "stream",
     "text": [
      "\n"
     ]
    },
    {
     "data": {
      "application/vnd.jupyter.widget-view+json": {
       "model_id": "61340baf86cc4b06acffd968882a0665",
       "version_major": 2,
       "version_minor": 0
      },
      "text/plain": [
       "A Jupyter Widget"
      ]
     },
     "metadata": {},
     "output_type": "display_data"
    },
    {
     "name": "stdout",
     "output_type": "stream",
     "text": [
      "\n"
     ]
    },
    {
     "data": {
      "application/vnd.jupyter.widget-view+json": {
       "model_id": "73678c01a9b740c2a5a2dcbefacea3d2",
       "version_major": 2,
       "version_minor": 0
      },
      "text/plain": [
       "A Jupyter Widget"
      ]
     },
     "metadata": {},
     "output_type": "display_data"
    },
    {
     "name": "stdout",
     "output_type": "stream",
     "text": [
      "\n"
     ]
    },
    {
     "data": {
      "text/html": [
       "<div>\n",
       "<style scoped>\n",
       "    .dataframe tbody tr th:only-of-type {\n",
       "        vertical-align: middle;\n",
       "    }\n",
       "\n",
       "    .dataframe tbody tr th {\n",
       "        vertical-align: top;\n",
       "    }\n",
       "\n",
       "    .dataframe thead th {\n",
       "        text-align: right;\n",
       "    }\n",
       "</style>\n",
       "<table border=\"1\" class=\"dataframe\">\n",
       "  <thead>\n",
       "    <tr style=\"text-align: right;\">\n",
       "      <th></th>\n",
       "      <th>original_type</th>\n",
       "      <th>品詞</th>\n",
       "      <th>品詞小分類1</th>\n",
       "      <th>品詞小分類2</th>\n",
       "    </tr>\n",
       "  </thead>\n",
       "  <tbody>\n",
       "    <tr>\n",
       "      <th>0</th>\n",
       "      <td>(_記号-一般</td>\n",
       "      <td>記号</td>\n",
       "      <td>一般</td>\n",
       "      <td></td>\n",
       "    </tr>\n",
       "    <tr>\n",
       "      <th>1</th>\n",
       "      <td>)_記号-一般</td>\n",
       "      <td>記号</td>\n",
       "      <td>一般</td>\n",
       "      <td></td>\n",
       "    </tr>\n",
       "    <tr>\n",
       "      <th>2</th>\n",
       "      <td>._記号-一般</td>\n",
       "      <td>記号</td>\n",
       "      <td>一般</td>\n",
       "      <td></td>\n",
       "    </tr>\n",
       "    <tr>\n",
       "      <th>3</th>\n",
       "      <td>1_名詞-数</td>\n",
       "      <td>名詞</td>\n",
       "      <td>数</td>\n",
       "      <td></td>\n",
       "    </tr>\n",
       "    <tr>\n",
       "      <th>4</th>\n",
       "      <td>NEologd_名詞-固有名詞-一般</td>\n",
       "      <td>名詞</td>\n",
       "      <td>固有名詞</td>\n",
       "      <td>一般</td>\n",
       "    </tr>\n",
       "  </tbody>\n",
       "</table>\n",
       "</div>"
      ],
      "text/plain": [
       "        original_type  品詞 品詞小分類1 品詞小分類2\n",
       "0             (_記号-一般  記号     一般       \n",
       "1             )_記号-一般  記号     一般       \n",
       "2             ._記号-一般  記号     一般       \n",
       "3              1_名詞-数  名詞      数       \n",
       "4  NEologd_名詞-固有名詞-一般  名詞   固有名詞     一般"
      ]
     },
     "metadata": {},
     "output_type": "display_data"
    },
    {
     "data": {
      "text/html": [
       "<div>\n",
       "<style scoped>\n",
       "    .dataframe tbody tr th:only-of-type {\n",
       "        vertical-align: middle;\n",
       "    }\n",
       "\n",
       "    .dataframe tbody tr th {\n",
       "        vertical-align: top;\n",
       "    }\n",
       "\n",
       "    .dataframe thead th {\n",
       "        text-align: right;\n",
       "    }\n",
       "</style>\n",
       "<table border=\"1\" class=\"dataframe\">\n",
       "  <thead>\n",
       "    <tr style=\"text-align: right;\">\n",
       "      <th></th>\n",
       "      <th>original_type</th>\n",
       "      <th>品詞</th>\n",
       "      <th>品詞小分類1</th>\n",
       "      <th>品詞小分類2</th>\n",
       "    </tr>\n",
       "  </thead>\n",
       "  <tbody>\n",
       "    <tr>\n",
       "      <th>100</th>\n",
       "      <td>文字列_名詞-固有名詞-一般</td>\n",
       "      <td>名詞</td>\n",
       "      <td>固有名詞</td>\n",
       "      <td>一般</td>\n",
       "    </tr>\n",
       "    <tr>\n",
       "      <th>101</th>\n",
       "      <td>次に_接続詞</td>\n",
       "      <td>接続詞</td>\n",
       "      <td></td>\n",
       "      <td></td>\n",
       "    </tr>\n",
       "    <tr>\n",
       "      <th>102</th>\n",
       "      <td>省く_動詞-自立</td>\n",
       "      <td>動詞</td>\n",
       "      <td>自立</td>\n",
       "      <td></td>\n",
       "    </tr>\n",
       "    <tr>\n",
       "      <th>103</th>\n",
       "      <td>邪魔_名詞-形容動詞語幹</td>\n",
       "      <td>名詞</td>\n",
       "      <td>形容動詞語幹</td>\n",
       "      <td></td>\n",
       "    </tr>\n",
       "    <tr>\n",
       "      <th>104</th>\n",
       "      <td>関数_名詞-一般</td>\n",
       "      <td>名詞</td>\n",
       "      <td>一般</td>\n",
       "      <td></td>\n",
       "    </tr>\n",
       "  </tbody>\n",
       "</table>\n",
       "</div>"
      ],
      "text/plain": [
       "      original_type   品詞  品詞小分類1 品詞小分類2\n",
       "100  文字列_名詞-固有名詞-一般   名詞    固有名詞     一般\n",
       "101          次に_接続詞  接続詞               \n",
       "102        省く_動詞-自立   動詞      自立       \n",
       "103    邪魔_名詞-形容動詞語幹   名詞  形容動詞語幹       \n",
       "104        関数_名詞-一般   名詞      一般       "
      ]
     },
     "metadata": {},
     "output_type": "display_data"
    }
   ],
   "source": [
    "df['品詞'] = df['original_type'].progress_map(extract_hinshi)\n",
    "\n",
    "df['品詞小分類1'] = df['original_type'].progress_map(extract_micro_hinshi1)\n",
    "\n",
    "df['品詞小分類2'] = df['original_type'].progress_map(extract_micro_hinshi2)\n",
    "\n",
    "display(df.head(), df.tail())"
   ]
  },
  {
   "cell_type": "code",
   "execution_count": null,
   "metadata": {
    "collapsed": true
   },
   "outputs": [],
   "source": []
  }
 ],
 "metadata": {
  "kernelspec": {
   "display_name": "Python 3",
   "language": "python",
   "name": "python3"
  },
  "language_info": {
   "codemirror_mode": {
    "name": "ipython",
    "version": 3
   },
   "file_extension": ".py",
   "mimetype": "text/x-python",
   "name": "python",
   "nbconvert_exporter": "python",
   "pygments_lexer": "ipython3",
   "version": "3.6.3"
  }
 },
 "nbformat": 4,
 "nbformat_minor": 2
}
